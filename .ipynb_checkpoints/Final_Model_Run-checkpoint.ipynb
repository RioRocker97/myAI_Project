{
 "cells": [
  {
   "cell_type": "code",
   "execution_count": 1,
   "metadata": {},
   "outputs": [],
   "source": [
    "import tensorflow as tf\n",
    "from tensorflow.keras import Model,layers\n",
    "from tensorflow.keras.callbacks import EarlyStopping,ModelCheckpoint,Callback,ReduceLROnPlateau\n",
    "from tensorflow.keras import metrics,optimizers\n",
    "import numpy as np\n",
    "from PIL import Image\n",
    "from pathlib import Path\n",
    "import os\n",
    "import pandas as pd\n",
    "import matplotlib.pyplot as plt\n",
    "from sklearn.metrics import confusion_matrix,roc_curve,roc_auc_score\n",
    "from sklearn.metrics import classification_report\n",
    "import seaborn as sb"
   ]
  },
  {
   "cell_type": "code",
   "execution_count": 2,
   "metadata": {},
   "outputs": [
    {
     "name": "stdout",
     "output_type": "stream",
     "text": [
      "8000 6000 1000 1000\n"
     ]
    }
   ],
   "source": [
    "PATH = \"/home/changsmarter/Desktop/myAI_Project/balance/\"\n",
    "SUB = 'ca'\n",
    "LABEL=\"CA_final_\"\n",
    "data_dir = Path(PATH)\n",
    "image_num = len(list(data_dir.glob(SUB+'/*/*/*.jpg')))\n",
    "TRAIN_IMG = len(list(data_dir.glob(SUB+'/train/*/*.jpg')))\n",
    "TEST_IMG = len(list(data_dir.glob(SUB+'/test/*/*.jpg')))\n",
    "VALID_IMG = len(list(data_dir.glob(SUB+'/valid/*/*.jpg')))\n",
    "# Check number of TRUE file and all file count        \n",
    "print(image_num,TRAIN_IMG,TEST_IMG,VALID_IMG)"
   ]
  },
  {
   "cell_type": "code",
   "execution_count": 3,
   "metadata": {},
   "outputs": [
    {
     "name": "stdout",
     "output_type": "stream",
     "text": [
      "Found 6000 images belonging to 2 classes.\n",
      "Found 1000 images belonging to 2 classes.\n",
      "Found 1000 images belonging to 2 classes.\n"
     ]
    }
   ],
   "source": [
    "##loading image from given path\n",
    "my_generator = tf.keras.preprocessing.image.ImageDataGenerator(rescale=1./255)\n",
    "BATCH_SIZE = 32\n",
    "IMG_WIDTH = 224\n",
    "IMG_HEIGHT = 224\n",
    "TRAIN_PATH = PATH + SUB + \"/train/\"\n",
    "VALID_PATH = PATH + SUB + \"/valid/\"\n",
    "TEST_PATH = PATH + SUB + \"/test/\"\n",
    "#This will be my train_set . \n",
    "data_gen_train = my_generator.flow_from_directory(directory=TRAIN_PATH,\n",
    "                                                  batch_size=BATCH_SIZE,\n",
    "                                                  target_size=(IMG_HEIGHT,IMG_WIDTH),\n",
    "                                                  class_mode='categorical',\n",
    "                                                  )\n",
    "#This will be my valid_set . \n",
    "data_gen_valid = my_generator.flow_from_directory(directory=VALID_PATH,\n",
    "                                                 batch_size=BATCH_SIZE,\n",
    "                                                 target_size=(IMG_HEIGHT,IMG_WIDTH),\n",
    "                                                 class_mode='categorical',\n",
    "                                                 )\n",
    "#This will be my test_set . \n",
    "data_gen_test = my_generator.flow_from_directory(directory=TEST_PATH,\n",
    "                                                 batch_size=BATCH_SIZE,\n",
    "                                                 target_size=(IMG_HEIGHT,IMG_WIDTH),\n",
    "                                                 class_mode='categorical',\n",
    "                                                 )"
   ]
  },
  {
   "cell_type": "code",
   "execution_count": 59,
   "metadata": {},
   "outputs": [],
   "source": [
    "#my_weights = 'FinalWeight/'+LABEL+'Xcep.hdf5'\n",
    "BaseModel = tf.keras.applications.Xception(weights='imagenet',\n",
    "                                           input_shape=(224,224,3),\n",
    "                                           include_top=False,\n",
    "                                          )\n",
    "for layer in BaseModel.layers:\n",
    "    layer.trainable = False\n",
    "\n",
    "out = BaseModel.output\n",
    "out = layers.GlobalAveragePooling2D()(out)\n",
    "out = layers.Dense(1024,activation='relu')(out)\n",
    "out = layers.Dropout(0.4)(out)\n",
    "out = layers.Dense(2,activation='softmax')(out)\n",
    "\n",
    "myModel = Model(BaseModel.input,out)\n",
    "    \n",
    "myModel.compile(optimizers.Nadam(lr=1e-5),\n",
    "                  loss='categorical_crossentropy',\n",
    "                  metrics=['accuracy'])"
   ]
  },
  {
   "cell_type": "code",
   "execution_count": 60,
   "metadata": {},
   "outputs": [],
   "source": [
    "#myModel.summary()"
   ]
  },
  {
   "cell_type": "code",
   "execution_count": 61,
   "metadata": {},
   "outputs": [],
   "source": [
    "myCheckpoint = ModelCheckpoint('FinalWeight/'+LABEL+'Xcep.hdf5',\n",
    "                               monitor='val_accuracy',\n",
    "                              save_best_only=True)\n",
    "dynamicLR = ReduceLROnPlateau(monitor='val_accuracy',\n",
    "                              patience=5,\n",
    "                             factor=0.5,\n",
    "                             min_lr=1e-8,\n",
    "                             verbose=1)\n",
    "class mystopclass(Callback):\n",
    "    def on_epoch_end(self,epoch,log={}):\n",
    "        if(log.get('accuracy') > 0.999 or log.get('loss') < 0.001):\n",
    "            print(\"\\n\\nReached my Destination. Stoppped Training!!\\n\\n\")\n",
    "            self.model.stop_training = True\n",
    "myStop = mystopclass()"
   ]
  },
  {
   "cell_type": "code",
   "execution_count": 62,
   "metadata": {},
   "outputs": [
    {
     "name": "stdout",
     "output_type": "stream",
     "text": [
      "Train for 188.0 steps, validate for 32.0 steps\n",
      "Epoch 1/30\n",
      "188/188 - 35s - loss: 0.6989 - accuracy: 0.5127 - val_loss: 0.7094 - val_accuracy: 0.4860\n",
      "Epoch 2/30\n",
      "188/188 - 33s - loss: 0.6804 - accuracy: 0.5618 - val_loss: 0.6959 - val_accuracy: 0.5160\n",
      "Epoch 3/30\n",
      "188/188 - 34s - loss: 0.6700 - accuracy: 0.5888 - val_loss: 0.6979 - val_accuracy: 0.5190\n",
      "Epoch 4/30\n",
      "188/188 - 34s - loss: 0.6598 - accuracy: 0.6117 - val_loss: 0.7076 - val_accuracy: 0.5080\n",
      "Epoch 5/30\n",
      "188/188 - 35s - loss: 0.6527 - accuracy: 0.6253 - val_loss: 0.7001 - val_accuracy: 0.5130\n",
      "Epoch 6/30\n",
      "188/188 - 35s - loss: 0.6478 - accuracy: 0.6342 - val_loss: 0.7180 - val_accuracy: 0.5110\n",
      "Epoch 7/30\n",
      "188/188 - 36s - loss: 0.6401 - accuracy: 0.6408 - val_loss: 0.7065 - val_accuracy: 0.5150\n",
      "Epoch 8/30\n",
      "\n",
      "Epoch 00008: ReduceLROnPlateau reducing learning rate to 4.999999873689376e-06.\n",
      "188/188 - 35s - loss: 0.6364 - accuracy: 0.6472 - val_loss: 0.7200 - val_accuracy: 0.5130\n",
      "Epoch 9/30\n",
      "188/188 - 35s - loss: 0.6316 - accuracy: 0.6562 - val_loss: 0.7115 - val_accuracy: 0.5140\n",
      "Epoch 10/30\n",
      "188/188 - 35s - loss: 0.6280 - accuracy: 0.6578 - val_loss: 0.7150 - val_accuracy: 0.5100\n",
      "Epoch 11/30\n",
      "188/188 - 36s - loss: 0.6255 - accuracy: 0.6620 - val_loss: 0.7190 - val_accuracy: 0.5170\n",
      "Epoch 12/30\n",
      "188/188 - 36s - loss: 0.6231 - accuracy: 0.6647 - val_loss: 0.7101 - val_accuracy: 0.5180\n",
      "Epoch 13/30\n",
      "\n",
      "Epoch 00013: ReduceLROnPlateau reducing learning rate to 2.499999936844688e-06.\n",
      "188/188 - 36s - loss: 0.6212 - accuracy: 0.6647 - val_loss: 0.7283 - val_accuracy: 0.5120\n",
      "Epoch 14/30\n",
      "188/188 - 35s - loss: 0.6193 - accuracy: 0.6680 - val_loss: 0.7176 - val_accuracy: 0.5080\n",
      "Epoch 15/30\n",
      "188/188 - 35s - loss: 0.6178 - accuracy: 0.6688 - val_loss: 0.7220 - val_accuracy: 0.5080\n",
      "Epoch 16/30\n",
      "188/188 - 36s - loss: 0.6179 - accuracy: 0.6727 - val_loss: 0.7215 - val_accuracy: 0.5090\n",
      "Epoch 17/30\n",
      "188/188 - 36s - loss: 0.6163 - accuracy: 0.6747 - val_loss: 0.7180 - val_accuracy: 0.5100\n",
      "Epoch 18/30\n",
      "\n",
      "Epoch 00018: ReduceLROnPlateau reducing learning rate to 1.249999968422344e-06.\n",
      "188/188 - 36s - loss: 0.6185 - accuracy: 0.6747 - val_loss: 0.7222 - val_accuracy: 0.5100\n",
      "Epoch 19/30\n",
      "188/188 - 36s - loss: 0.6152 - accuracy: 0.6808 - val_loss: 0.7196 - val_accuracy: 0.5080\n",
      "Epoch 20/30\n",
      "188/188 - 35s - loss: 0.6139 - accuracy: 0.6757 - val_loss: 0.7217 - val_accuracy: 0.5110\n",
      "Epoch 21/30\n",
      "188/188 - 35s - loss: 0.6142 - accuracy: 0.6762 - val_loss: 0.7219 - val_accuracy: 0.5110\n",
      "Epoch 22/30\n",
      "188/188 - 36s - loss: 0.6081 - accuracy: 0.6815 - val_loss: 0.7199 - val_accuracy: 0.5100\n",
      "Epoch 23/30\n",
      "\n",
      "Epoch 00023: ReduceLROnPlateau reducing learning rate to 6.24999984211172e-07.\n",
      "188/188 - 36s - loss: 0.6090 - accuracy: 0.6868 - val_loss: 0.7226 - val_accuracy: 0.5120\n",
      "Epoch 24/30\n",
      "188/188 - 36s - loss: 0.6109 - accuracy: 0.6773 - val_loss: 0.7213 - val_accuracy: 0.5110\n",
      "Epoch 25/30\n",
      "188/188 - 36s - loss: 0.6117 - accuracy: 0.6763 - val_loss: 0.7215 - val_accuracy: 0.5110\n",
      "Epoch 26/30\n",
      "188/188 - 36s - loss: 0.6100 - accuracy: 0.6793 - val_loss: 0.7229 - val_accuracy: 0.5140\n",
      "Epoch 27/30\n",
      "188/188 - 35s - loss: 0.6088 - accuracy: 0.6808 - val_loss: 0.7220 - val_accuracy: 0.5120\n",
      "Epoch 28/30\n",
      "\n",
      "Epoch 00028: ReduceLROnPlateau reducing learning rate to 3.12499992105586e-07.\n",
      "188/188 - 35s - loss: 0.6104 - accuracy: 0.6740 - val_loss: 0.7216 - val_accuracy: 0.5100\n",
      "Epoch 29/30\n",
      "188/188 - 35s - loss: 0.6119 - accuracy: 0.6782 - val_loss: 0.7215 - val_accuracy: 0.5080\n",
      "Epoch 30/30\n",
      "188/188 - 35s - loss: 0.6071 - accuracy: 0.6868 - val_loss: 0.7215 - val_accuracy: 0.5100\n"
     ]
    }
   ],
   "source": [
    "tf.compat.v1.logging.set_verbosity(tf.compat.v1.logging.ERROR)\n",
    "STEP_PER_EPOCH = np.ceil(TRAIN_IMG/BATCH_SIZE)\n",
    "VALID_STEP = np.ceil(VALID_IMG/BATCH_SIZE)\n",
    "mySession = myModel.fit_generator(data_gen_train,\n",
    "                               validation_data=data_gen_valid,\n",
    "                               epochs = 30,\n",
    "                               steps_per_epoch=STEP_PER_EPOCH,\n",
    "                               validation_steps = VALID_STEP,\n",
    "                               verbose = 2,\n",
    "                               callbacks=[dynamicLR,myCheckpoint,myStop])"
   ]
  },
  {
   "cell_type": "code",
   "execution_count": 63,
   "metadata": {},
   "outputs": [],
   "source": [
    "top_weights_path = 'FinalWeight/'+LABEL+'Xcep.hdf5'\n",
    "myModel = Model(BaseModel.input,out)\n",
    "myModel.load_weights(top_weights_path)"
   ]
  },
  {
   "cell_type": "code",
   "execution_count": 64,
   "metadata": {},
   "outputs": [],
   "source": [
    "dynamicLR = ReduceLROnPlateau(monitor='val_loss',\n",
    "                              patience=3,\n",
    "                             factor=0.02,\n",
    "                             min_lr=1e-8,\n",
    "                             verbose=1)\n",
    "myEarly = EarlyStopping(monitor='val_loss',\n",
    "                        patience=10,\n",
    "                        verbose=1,\n",
    "                        restore_best_weights=True)\n",
    "for layer in myModel.layers[:126]:\n",
    "    layer.trainable = False\n",
    "for layer in myModel.layers[126:]:\n",
    "    layer.trainable = True"
   ]
  },
  {
   "cell_type": "code",
   "execution_count": 65,
   "metadata": {},
   "outputs": [],
   "source": [
    "#myModel.summary()\n",
    "myModel.compile(optimizers.Nadam(lr=0.0001),\n",
    "                  loss='categorical_crossentropy',\n",
    "                  metrics=['accuracy'])"
   ]
  },
  {
   "cell_type": "code",
   "execution_count": 66,
   "metadata": {},
   "outputs": [
    {
     "name": "stdout",
     "output_type": "stream",
     "text": [
      "Train for 188.0 steps, validate for 32.0 steps\n",
      "Epoch 1/50\n",
      "188/188 - 44s - loss: 0.6463 - accuracy: 0.6147 - val_loss: 0.7075 - val_accuracy: 0.5080\n",
      "Epoch 2/50\n",
      "188/188 - 38s - loss: 0.5082 - accuracy: 0.7505 - val_loss: 0.7848 - val_accuracy: 0.4890\n",
      "Epoch 3/50\n",
      "188/188 - 39s - loss: 0.3253 - accuracy: 0.8660 - val_loss: 0.9242 - val_accuracy: 0.5030\n",
      "Epoch 4/50\n",
      "\n",
      "Epoch 00004: ReduceLROnPlateau reducing learning rate to 1.9999999494757505e-06.\n",
      "188/188 - 39s - loss: 0.1338 - accuracy: 0.9635 - val_loss: 1.2611 - val_accuracy: 0.5140\n",
      "Epoch 5/50\n",
      "188/188 - 39s - loss: 0.0478 - accuracy: 0.9967 - val_loss: 1.2705 - val_accuracy: 0.5040\n",
      "Epoch 6/50\n",
      "188/188 - 39s - loss: 0.0434 - accuracy: 0.9980 - val_loss: 1.2851 - val_accuracy: 0.4990\n",
      "Epoch 7/50\n",
      "\n",
      "Epoch 00007: ReduceLROnPlateau reducing learning rate to 3.999999989900971e-08.\n",
      "188/188 - 39s - loss: 0.0399 - accuracy: 0.9987 - val_loss: 1.2952 - val_accuracy: 0.4990\n",
      "Epoch 8/50\n",
      "188/188 - 39s - loss: 0.0383 - accuracy: 0.9987 - val_loss: 1.2968 - val_accuracy: 0.4990\n",
      "Epoch 9/50\n",
      "\n",
      "\n",
      "Reached my Destination. Stoppped Training!!\n",
      "\n",
      "\n",
      "188/188 - 39s - loss: 0.0380 - accuracy: 0.9992 - val_loss: 1.3015 - val_accuracy: 0.4980\n"
     ]
    }
   ],
   "source": [
    "mySession2 = myModel.fit_generator(data_gen_train,\n",
    "                               validation_data=data_gen_valid,\n",
    "                               epochs = 50,\n",
    "                               steps_per_epoch=STEP_PER_EPOCH,\n",
    "                               validation_steps = VALID_STEP,\n",
    "                               verbose = 2,\n",
    "                               callbacks=[myEarly,dynamicLR,myCheckpoint,myStop])\n",
    "myModel.save('FinalModel/'+LABEL+'Xcep_done.h5')"
   ]
  },
  {
   "cell_type": "code",
   "execution_count": 67,
   "metadata": {},
   "outputs": [
    {
     "data": {
      "text/plain": [
       "<matplotlib.axes._subplots.AxesSubplot at 0x7f903c2f5a20>"
      ]
     },
     "execution_count": 67,
     "metadata": {},
     "output_type": "execute_result"
    },
    {
     "data": {
      "image/png": "[encoded data removed]",
      "text/plain": [
       "<Figure size 432x288 with 2 Axes>"
      ]
     },
     "metadata": {
      "needs_background": "light"
     },
     "output_type": "display_data"
    }
   ],
   "source": [
    "y_pred = myModel.predict_generator(data_gen_test)\n",
    "pred = np.argmax(y_pred,axis=1)\n",
    "cm = confusion_matrix(data_gen_test.classes,pred)\n",
    "cm = (cm.T / cm.astype(np.float).sum(axis=1)).T\n",
    "sb.heatmap(cm,annot=True,cmap=\"Blues\")"
   ]
  },
  {
   "cell_type": "code",
   "execution_count": 68,
   "metadata": {},
   "outputs": [
    {
     "name": "stdout",
     "output_type": "stream",
     "text": [
      "              precision    recall  f1-score   support\n",
      "\n",
      "           0       0.49      0.57      0.53       500\n",
      "           1       0.49      0.41      0.45       500\n",
      "\n",
      "    accuracy                           0.49      1000\n",
      "   macro avg       0.49      0.49      0.49      1000\n",
      "weighted avg       0.49      0.49      0.49      1000\n",
      "\n"
     ]
    }
   ],
   "source": [
    "print(classification_report(data_gen_test.classes,pred))"
   ]
  },
  {
   "cell_type": "code",
   "execution_count": 69,
   "metadata": {},
   "outputs": [
    {
     "data": {
      "text/plain": [
       "[1.3727316707372665, 0.473]"
      ]
     },
     "execution_count": 69,
     "metadata": {},
     "output_type": "execute_result"
    }
   ],
   "source": [
    "myModel.evaluate_generator(data_gen_test,32)\n",
    "#bestModel = tf.keras.models.load_model('FinalModel/CA_Xcep_Best_Run.h5')\n",
    "#bestModel.summary()"
   ]
  },
  {
   "cell_type": "code",
   "execution_count": null,
   "metadata": {},
   "outputs": [],
   "source": []
  }
 ],
 "metadata": {
  "kernelspec": {
   "display_name": "Python 3",
   "language": "python",
   "name": "python3"
  },
  "language_info": {
   "codemirror_mode": {
    "name": "ipython",
    "version": 3
   },
   "file_extension": ".py",
   "mimetype": "text/x-python",
   "name": "python",
   "nbconvert_exporter": "python",
   "pygments_lexer": "ipython3",
   "version": "3.5.3"
  }
 },
 "nbformat": 4,
 "nbformat_minor": 4
}
