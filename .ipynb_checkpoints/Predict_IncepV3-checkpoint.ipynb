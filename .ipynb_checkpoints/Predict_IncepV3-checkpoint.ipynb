{
 "cells": [
  {
   "cell_type": "code",
   "execution_count": 2,
   "metadata": {},
   "outputs": [],
   "source": [
    "import tensorflow as tf\n",
    "from tensorflow.keras import Model,layers\n",
    "from tensorflow.keras.callbacks import EarlyStopping,ModelCheckpoint,Callback\n",
    "from tensorflow.keras import metrics,optimizers\n",
    "import numpy as np\n",
    "from PIL import Image\n",
    "from pathlib import Path\n",
    "import os\n",
    "import pandas as pd\n",
    "import matplotlib.pyplot as plt\n",
    "import tensorflow_hub as hub\n",
    "import pandas as pd"
   ]
  },
  {
   "cell_type": "code",
   "execution_count": 248,
   "metadata": {},
   "outputs": [
    {
     "name": "stdout",
     "output_type": "stream",
     "text": [
      "10000\n",
      "['No' 'Yes']\n"
     ]
    }
   ],
   "source": [
    "PATH = \"D:/AI_Data/3000+123/10000_Real/\"\n",
    "SELECTED_CLASS = \"10000_Pneumonia_Class.csv\"\n",
    "SELECTED_LABEL = \"Is_Pneumonia\"\n",
    "SUB = 'Pneumonia'\n",
    "LABEL=\"Peno_fix1_\"\n",
    "data_dir = Path(PATH)\n",
    "image_num = len(list(data_dir.glob(SUB+'/*/*/*.jpg')))\n",
    "image_csv = pd.read_csv(PATH+SELECTED_CLASS)\n",
    "CLASS_NAME = image_csv[SELECTED_LABEL].unique()\n",
    "# Check number of TRUE file and all file count        \n",
    "print(image_num)\n",
    "print(CLASS_NAME)"
   ]
  },
  {
   "cell_type": "code",
   "execution_count": 249,
   "metadata": {},
   "outputs": [
    {
     "name": "stdout",
     "output_type": "stream",
     "text": [
      "Found 1000 images belonging to 2 classes.\n"
     ]
    }
   ],
   "source": [
    "my_generator = tf.keras.preprocessing.image.ImageDataGenerator(rescale=1./255)\n",
    "BATCH_SIZE = 32\n",
    "IMG_WIDTH = 224\n",
    "IMG_HEIGHT = 224\n",
    "TEST_PATH = PATH + SUB + \"/test/\"\n",
    "data_gen_test = my_generator.flow_from_directory(directory=TEST_PATH,\n",
    "                                                 batch_size=BATCH_SIZE,\n",
    "                                                 shuffle=True,\n",
    "                                                 target_size=(IMG_HEIGHT,IMG_WIDTH),\n",
    "                                                 classes = list(CLASS_NAME),\n",
    "                                                  class_mode = 'binary')\n",
    "x_test,y_test = next(data_gen_test)"
   ]
  },
  {
   "cell_type": "code",
   "execution_count": 250,
   "metadata": {},
   "outputs": [],
   "source": [
    "myModel = tf.keras.models.load_model('Model2/'+LABEL+'ResNet50_done.h5',custom_objects={'KerasLayer':hub.KerasLayer})"
   ]
  },
  {
   "cell_type": "code",
   "execution_count": 251,
   "metadata": {},
   "outputs": [],
   "source": [
    "tf.compat.v1.logging.set_verbosity(tf.compat.v1.logging.ERROR)\n",
    "#myModel.evaluate_generator(data_gen_test)"
   ]
  },
  {
   "cell_type": "code",
   "execution_count": 252,
   "metadata": {},
   "outputs": [],
   "source": [
    "y_pred = myModel.predict_generator(data_gen_test)"
   ]
  },
  {
   "cell_type": "code",
   "execution_count": 253,
   "metadata": {},
   "outputs": [],
   "source": [
    "pred = np.argmax(y_pred,axis=1)\n"
   ]
  },
  {
   "cell_type": "code",
   "execution_count": 254,
   "metadata": {},
   "outputs": [],
   "source": [
    "from sklearn.metrics import confusion_matrix"
   ]
  },
  {
   "cell_type": "code",
   "execution_count": 255,
   "metadata": {},
   "outputs": [],
   "source": [
    "data = confusion_matrix(data_gen_test.classes,pred)\n",
    "data_c = (data.T / data.astype(np.float).sum(axis=1)).T"
   ]
  },
  {
   "cell_type": "code",
   "execution_count": 256,
   "metadata": {},
   "outputs": [],
   "source": [
    "import seaborn as sns"
   ]
  },
  {
   "cell_type": "code",
   "execution_count": 257,
   "metadata": {},
   "outputs": [
    {
     "data": {
      "image/png": "[encoded data removed]",
      "text/plain": [
       "<Figure size 360x360 with 2 Axes>"
      ]
     },
     "metadata": {},
     "output_type": "display_data"
    }
   ],
   "source": [
    "plt.figure(figsize=(5,5))\n",
    "sns.heatmap(data_c,annot=True,cmap='Blues',vmin=0,vmax=1)\n",
    "plt.ylim([0,2])\n",
    "plt.title(\"Normalized Confusion Matrix\")\n",
    "plt.savefig('Run_Result2/'+LABEL+'ResNet50_CM.png')"
   ]
  },
  {
   "cell_type": "code",
   "execution_count": null,
   "metadata": {},
   "outputs": [],
   "source": []
  },
  {
   "cell_type": "code",
   "execution_count": null,
   "metadata": {},
   "outputs": [],
   "source": []
  }
 ],
 "metadata": {
  "kernelspec": {
   "display_name": "Python 3",
   "language": "python",
   "name": "python3"
  },
  "language_info": {
   "codemirror_mode": {
    "name": "ipython",
    "version": 3
   },
   "file_extension": ".py",
   "mimetype": "text/x-python",
   "name": "python",
   "nbconvert_exporter": "python",
   "pygments_lexer": "ipython3",
   "version": "3.7.4"
  }
 },
 "nbformat": 4,
 "nbformat_minor": 4
}
