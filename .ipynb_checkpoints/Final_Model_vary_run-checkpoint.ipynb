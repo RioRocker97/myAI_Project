{
 "cells": [
  {
   "cell_type": "code",
   "execution_count": 1,
   "metadata": {},
   "outputs": [],
   "source": [
    "import tensorflow as tf\n",
    "from tensorflow.keras import Model,layers\n",
    "from tensorflow.keras.callbacks import EarlyStopping,ModelCheckpoint,Callback,ReduceLROnPlateau\n",
    "from tensorflow.keras import metrics,optimizers\n",
    "import numpy as np\n",
    "from PIL import Image\n",
    "from pathlib import Path\n",
    "import os\n",
    "import pandas as pd\n",
    "import matplotlib.pyplot as plt\n",
    "from sklearn.metrics import confusion_matrix,roc_curve,roc_auc_score\n",
    "from sklearn.metrics import classification_report\n",
    "import seaborn as sb"
   ]
  },
  {
   "cell_type": "code",
   "execution_count": 2,
   "metadata": {},
   "outputs": [
    {
     "name": "stdout",
     "output_type": "stream",
     "text": [
      "8000 6000 1000 1000\n"
     ]
    }
   ],
   "source": [
    "PATH = \"/home/changsmarter/Desktop/myAI_Project/balance/\"\n",
    "SUB = 'tb'\n",
    "LABEL=\"TB_final_\"\n",
    "data_dir = Path(PATH)\n",
    "image_num = len(list(data_dir.glob(SUB+'/*/*/*.jpg')))\n",
    "TRAIN_IMG = len(list(data_dir.glob(SUB+'/train/*/*.jpg')))\n",
    "TEST_IMG = len(list(data_dir.glob(SUB+'/test/*/*.jpg')))\n",
    "VALID_IMG = len(list(data_dir.glob(SUB+'/valid/*/*.jpg')))\n",
    "# Check number of TRUE file and all file count        \n",
    "print(image_num,TRAIN_IMG,TEST_IMG,VALID_IMG)"
   ]
  },
  {
   "cell_type": "code",
   "execution_count": 3,
   "metadata": {},
   "outputs": [
    {
     "name": "stdout",
     "output_type": "stream",
     "text": [
      "Found 6000 images belonging to 2 classes.\n",
      "Found 1000 images belonging to 2 classes.\n",
      "Found 1000 images belonging to 2 classes.\n"
     ]
    }
   ],
   "source": [
    "##loading image from given path\n",
    "my_generator = tf.keras.preprocessing.image.ImageDataGenerator(rescale=1./255)\n",
    "BATCH_SIZE = 32\n",
    "IMG_WIDTH = 224\n",
    "IMG_HEIGHT = 224\n",
    "TRAIN_PATH = PATH + SUB + \"/train/\"\n",
    "VALID_PATH = PATH + SUB + \"/valid/\"\n",
    "TEST_PATH = PATH + SUB + \"/test/\"\n",
    "#This will be my train_set . \n",
    "data_gen_train = my_generator.flow_from_directory(directory=TRAIN_PATH,\n",
    "                                                  batch_size=BATCH_SIZE,\n",
    "                                                  target_size=(IMG_HEIGHT,IMG_WIDTH),\n",
    "                                                  )\n",
    "#This will be my valid_set . \n",
    "data_gen_valid = my_generator.flow_from_directory(directory=VALID_PATH,\n",
    "                                                 batch_size=BATCH_SIZE,\n",
    "                                                 target_size=(IMG_HEIGHT,IMG_WIDTH),\n",
    "                                                 )\n",
    "#This will be my test_set . \n",
    "data_gen_test = my_generator.flow_from_directory(directory=TEST_PATH,\n",
    "                                                 batch_size=BATCH_SIZE,\n",
    "                                                 target_size=(IMG_HEIGHT,IMG_WIDTH),\n",
    "                                                 )"
   ]
  },
  {
   "cell_type": "code",
   "execution_count": 19,
   "metadata": {},
   "outputs": [],
   "source": [
    "BaseModel = tf.keras.applications.DenseNet169(include_top=False,\n",
    "                                              input_shape=(224,224,3),\n",
    "                                             weights='imagenet')\n",
    "for layer in BaseModel.layers:\n",
    "    layer.trainable = False\n",
    "    \n",
    "out = BaseModel.output\n",
    "out = layers.GlobalAveragePooling2D()(out)\n",
    "out = layers.Dense(512,activation='relu')(out)\n",
    "out = layers.Dropout(0.4)(out)\n",
    "out = layers.Dense(2,activation='softmax')(out)\n",
    "\n",
    "myModel = Model(BaseModel.input,out)\n",
    "#myModel.summary()"
   ]
  },
  {
   "cell_type": "code",
   "execution_count": 20,
   "metadata": {},
   "outputs": [],
   "source": [
    "#myModel.summary()"
   ]
  },
  {
   "cell_type": "code",
   "execution_count": 22,
   "metadata": {},
   "outputs": [],
   "source": [
    "myModel.compile(optimizers.Adam(lr=1e-3),\n",
    "                  loss='categorical_crossentropy',\n",
    "                  metrics=['accuracy'])\n",
    "\n",
    "myEarly = EarlyStopping(monitor='val_accuracy',\n",
    "                        patience=15,\n",
    "                        verbose=1,\n",
    "                        restore_best_weights=True)\n",
    "myCheckpoint = ModelCheckpoint('FinalWeight/'+LABEL+'Den169_2.hdf5',\n",
    "                               monitor='val_accuracy',\n",
    "                              save_best_only=True)\n",
    "dynamicLR = ReduceLROnPlateau(monitor='val_loss',\n",
    "                              patience=3,\n",
    "                             factor=0.05,\n",
    "                             min_lr=1e-6,\n",
    "                             verbose=1)\n",
    "class mystopclass(Callback):\n",
    "    def on_epoch_end(self,epoch,log={}):\n",
    "        if(log.get('accuracy') > 0.999 or log.get('loss') < 0.001):\n",
    "            print(\"\\n\\nReached my Destination. Stoppped Training!!\\n\\n\")\n",
    "            self.model.stop_training = True\n",
    "myStop = mystopclass()"
   ]
  },
  {
   "cell_type": "code",
   "execution_count": 23,
   "metadata": {},
   "outputs": [
    {
     "name": "stdout",
     "output_type": "stream",
     "text": [
      "Train for 188.0 steps, validate for 32.0 steps\n",
      "Epoch 1/25\n",
      "188/188 - 43s - loss: 0.6811 - accuracy: 0.6115 - val_loss: 0.9592 - val_accuracy: 0.5330\n",
      "Epoch 2/25\n",
      "188/188 - 33s - loss: 0.5733 - accuracy: 0.6840 - val_loss: 0.8932 - val_accuracy: 0.5370\n",
      "Epoch 3/25\n",
      "188/188 - 33s - loss: 0.5516 - accuracy: 0.7025 - val_loss: 0.7826 - val_accuracy: 0.5480\n",
      "Epoch 4/25\n",
      "188/188 - 31s - loss: 0.5438 - accuracy: 0.7103 - val_loss: 1.0300 - val_accuracy: 0.5350\n",
      "Epoch 5/25\n",
      "188/188 - 31s - loss: 0.5298 - accuracy: 0.7192 - val_loss: 1.1217 - val_accuracy: 0.5130\n",
      "Epoch 6/25\n",
      "\n",
      "Epoch 00006: ReduceLROnPlateau reducing learning rate to 5.0000002374872565e-05.\n",
      "188/188 - 31s - loss: 0.5108 - accuracy: 0.7335 - val_loss: 0.8528 - val_accuracy: 0.5390\n",
      "Epoch 7/25\n",
      "188/188 - 31s - loss: 0.4809 - accuracy: 0.7563 - val_loss: 0.9977 - val_accuracy: 0.5310\n",
      "Epoch 8/25\n",
      "188/188 - 31s - loss: 0.4643 - accuracy: 0.7697 - val_loss: 1.0239 - val_accuracy: 0.5390\n",
      "Epoch 9/25\n",
      "\n",
      "Epoch 00009: ReduceLROnPlateau reducing learning rate to 2.5000001187436284e-06.\n",
      "188/188 - 31s - loss: 0.4617 - accuracy: 0.7777 - val_loss: 1.0675 - val_accuracy: 0.5380\n",
      "Epoch 10/25\n",
      "188/188 - 31s - loss: 0.4624 - accuracy: 0.7717 - val_loss: 1.0809 - val_accuracy: 0.5370\n",
      "Epoch 11/25\n",
      "188/188 - 31s - loss: 0.4603 - accuracy: 0.7778 - val_loss: 1.0919 - val_accuracy: 0.5370\n",
      "Epoch 12/25\n",
      "\n",
      "Epoch 00012: ReduceLROnPlateau reducing learning rate to 1e-06.\n",
      "188/188 - 31s - loss: 0.4576 - accuracy: 0.7778 - val_loss: 1.0955 - val_accuracy: 0.5370\n",
      "Epoch 13/25\n",
      "188/188 - 31s - loss: 0.4579 - accuracy: 0.7730 - val_loss: 1.0964 - val_accuracy: 0.5370\n",
      "Epoch 14/25\n",
      "188/188 - 31s - loss: 0.4575 - accuracy: 0.7743 - val_loss: 1.0954 - val_accuracy: 0.5370\n",
      "Epoch 15/25\n",
      "188/188 - 31s - loss: 0.4567 - accuracy: 0.7778 - val_loss: 1.0963 - val_accuracy: 0.5370\n",
      "Epoch 16/25\n",
      "188/188 - 31s - loss: 0.4578 - accuracy: 0.7770 - val_loss: 1.0946 - val_accuracy: 0.5370\n",
      "Epoch 17/25\n",
      "188/188 - 31s - loss: 0.4603 - accuracy: 0.7742 - val_loss: 1.0934 - val_accuracy: 0.5370\n",
      "Epoch 18/25\n",
      "Restoring model weights from the end of the best epoch.\n",
      "188/188 - 31s - loss: 0.4585 - accuracy: 0.7742 - val_loss: 1.0924 - val_accuracy: 0.5370\n",
      "Epoch 00018: early stopping\n"
     ]
    }
   ],
   "source": [
    "tf.compat.v1.logging.set_verbosity(tf.compat.v1.logging.ERROR)\n",
    "STEP_PER_EPOCH = np.ceil(TRAIN_IMG/BATCH_SIZE)\n",
    "VALID_STEP = np.ceil(VALID_IMG/BATCH_SIZE)\n",
    "mySession = myModel.fit_generator(data_gen_train,\n",
    "                               validation_data=data_gen_valid,\n",
    "                               epochs = 25,\n",
    "                               steps_per_epoch=STEP_PER_EPOCH,\n",
    "                               validation_steps = VALID_STEP,\n",
    "                               verbose = 2,\n",
    "                               callbacks=[myEarly,dynamicLR,myCheckpoint,myStop])"
   ]
  },
  {
   "cell_type": "code",
   "execution_count": 24,
   "metadata": {},
   "outputs": [
    {
     "data": {
      "text/plain": [
       "<matplotlib.axes._subplots.AxesSubplot at 0x7fb08c692d30>"
      ]
     },
     "execution_count": 24,
     "metadata": {},
     "output_type": "execute_result"
    },
    {
     "data": {
      "image/png": "[encoded data removed]",
      "text/plain": [
       "<Figure size 432x288 with 2 Axes>"
      ]
     },
     "metadata": {
      "needs_background": "light"
     },
     "output_type": "display_data"
    }
   ],
   "source": [
    "y_pred = myModel.predict_generator(data_gen_test)\n",
    "pred = np.argmax(y_pred,axis=1)\n",
    "cm = confusion_matrix(data_gen_test.classes,pred)\n",
    "cm = (cm.T / cm.astype(np.float).sum(axis=1)).T\n",
    "sb.heatmap(cm,annot=True,cmap=\"Blues\")"
   ]
  },
  {
   "cell_type": "code",
   "execution_count": 25,
   "metadata": {},
   "outputs": [
    {
     "data": {
      "text/plain": [
       "[0.7540359701961279, 0.547]"
      ]
     },
     "execution_count": 25,
     "metadata": {},
     "output_type": "execute_result"
    }
   ],
   "source": [
    "myModel.evaluate_generator(data_gen_test,32)"
   ]
  },
  {
   "cell_type": "code",
   "execution_count": 26,
   "metadata": {},
   "outputs": [],
   "source": [
    "myModel = Model(BaseModel.input,out)\n",
    "myModel.load_weights('FinalWeight/'+LABEL+'Den169_2.hdf5')\n",
    "for layer in myModel.layers[:6]:\n",
    "    layer.trainable = True\n",
    "    \n",
    "myModel.compile(optimizers.Adam(lr=1e-5),\n",
    "                  loss='categorical_crossentropy',\n",
    "                  metrics=['accuracy'])\n",
    "dynamicLR = ReduceLROnPlateau(monitor='val_loss',\n",
    "                              patience=2,\n",
    "                             factor=0.5,\n",
    "                             min_lr=1e-8,\n",
    "                             verbose=1)\n",
    "myCheckpoint = ModelCheckpoint('FinalModel/'+LABEL+'Den169_2.h5',\n",
    "                               monitor='val_accuracy',\n",
    "                              save_best_only=True,\n",
    "                              save_weights_only =False)\n",
    "#myModel.summary()"
   ]
  },
  {
   "cell_type": "code",
   "execution_count": 27,
   "metadata": {},
   "outputs": [
    {
     "name": "stdout",
     "output_type": "stream",
     "text": [
      "Train for 188.0 steps, validate for 32.0 steps\n",
      "Epoch 1/20\n",
      "188/188 - 77s - loss: 0.5212 - accuracy: 0.7292 - val_loss: 0.9758 - val_accuracy: 0.5390\n",
      "Epoch 2/20\n",
      "188/188 - 68s - loss: 0.5080 - accuracy: 0.7447 - val_loss: 0.9149 - val_accuracy: 0.5510\n",
      "Epoch 3/20\n",
      "188/188 - 67s - loss: 0.5019 - accuracy: 0.7385 - val_loss: 0.9083 - val_accuracy: 0.5530\n",
      "Epoch 4/20\n",
      "188/188 - 66s - loss: 0.4943 - accuracy: 0.7470 - val_loss: 0.9103 - val_accuracy: 0.5510\n",
      "Epoch 5/20\n",
      "\n",
      "Epoch 00005: ReduceLROnPlateau reducing learning rate to 4.999999873689376e-06.\n",
      "188/188 - 66s - loss: 0.4930 - accuracy: 0.7460 - val_loss: 0.9270 - val_accuracy: 0.5510\n",
      "Epoch 6/20\n",
      "188/188 - 66s - loss: 0.4896 - accuracy: 0.7535 - val_loss: 0.9594 - val_accuracy: 0.5470\n",
      "Epoch 7/20\n",
      "\n",
      "Epoch 00007: ReduceLROnPlateau reducing learning rate to 2.499999936844688e-06.\n",
      "188/188 - 66s - loss: 0.4908 - accuracy: 0.7472 - val_loss: 0.9485 - val_accuracy: 0.5450\n",
      "Epoch 8/20\n",
      "188/188 - 66s - loss: 0.4867 - accuracy: 0.7552 - val_loss: 0.9447 - val_accuracy: 0.5480\n",
      "Epoch 9/20\n",
      "\n",
      "Epoch 00009: ReduceLROnPlateau reducing learning rate to 1.249999968422344e-06.\n",
      "188/188 - 67s - loss: 0.4868 - accuracy: 0.7547 - val_loss: 0.9334 - val_accuracy: 0.5540\n",
      "Epoch 10/20\n",
      "188/188 - 66s - loss: 0.4846 - accuracy: 0.7597 - val_loss: 0.9432 - val_accuracy: 0.5470\n",
      "Epoch 11/20\n",
      "\n",
      "Epoch 00011: ReduceLROnPlateau reducing learning rate to 6.24999984211172e-07.\n",
      "188/188 - 66s - loss: 0.4846 - accuracy: 0.7607 - val_loss: 0.9389 - val_accuracy: 0.5490\n",
      "Epoch 12/20\n",
      "188/188 - 66s - loss: 0.4868 - accuracy: 0.7537 - val_loss: 0.9355 - val_accuracy: 0.5490\n",
      "Epoch 13/20\n",
      "\n",
      "Epoch 00013: ReduceLROnPlateau reducing learning rate to 3.12499992105586e-07.\n",
      "188/188 - 66s - loss: 0.4868 - accuracy: 0.7585 - val_loss: 0.9386 - val_accuracy: 0.5480\n",
      "Epoch 14/20\n",
      "188/188 - 66s - loss: 0.4841 - accuracy: 0.7560 - val_loss: 0.9379 - val_accuracy: 0.5490\n",
      "Epoch 15/20\n",
      "\n",
      "Epoch 00015: ReduceLROnPlateau reducing learning rate to 1.56249996052793e-07.\n",
      "188/188 - 66s - loss: 0.4862 - accuracy: 0.7553 - val_loss: 0.9385 - val_accuracy: 0.5490\n",
      "Epoch 16/20\n",
      "188/188 - 66s - loss: 0.4812 - accuracy: 0.7568 - val_loss: 0.9419 - val_accuracy: 0.5460\n",
      "Epoch 17/20\n",
      "\n",
      "Epoch 00017: ReduceLROnPlateau reducing learning rate to 7.81249980263965e-08.\n",
      "188/188 - 66s - loss: 0.4845 - accuracy: 0.7560 - val_loss: 0.9395 - val_accuracy: 0.5490\n",
      "Epoch 18/20\n",
      "188/188 - 66s - loss: 0.4846 - accuracy: 0.7560 - val_loss: 0.9400 - val_accuracy: 0.5480\n",
      "Epoch 19/20\n",
      "\n",
      "Epoch 00019: ReduceLROnPlateau reducing learning rate to 3.906249901319825e-08.\n",
      "188/188 - 66s - loss: 0.4853 - accuracy: 0.7558 - val_loss: 0.9411 - val_accuracy: 0.5470\n",
      "Epoch 20/20\n",
      "188/188 - 66s - loss: 0.4862 - accuracy: 0.7567 - val_loss: 0.9415 - val_accuracy: 0.5470\n"
     ]
    }
   ],
   "source": [
    "mySession2 = myModel.fit_generator(data_gen_train,\n",
    "                               validation_data=data_gen_valid,\n",
    "                               epochs = 20,\n",
    "                               steps_per_epoch=STEP_PER_EPOCH,\n",
    "                               validation_steps = VALID_STEP,\n",
    "                               verbose = 2,\n",
    "                               callbacks=[myEarly,dynamicLR,myCheckpoint,myStop])"
   ]
  },
  {
   "cell_type": "code",
   "execution_count": 28,
   "metadata": {},
   "outputs": [
    {
     "data": {
      "text/plain": [
       "[0.8796106930822134, 0.556]"
      ]
     },
     "execution_count": 28,
     "metadata": {},
     "output_type": "execute_result"
    }
   ],
   "source": [
    "myModel.evaluate_generator(data_gen_test,32)"
   ]
  },
  {
   "cell_type": "code",
   "execution_count": 29,
   "metadata": {},
   "outputs": [
    {
     "data": {
      "text/plain": [
       "<matplotlib.axes._subplots.AxesSubplot at 0x7fb094b38240>"
      ]
     },
     "execution_count": 29,
     "metadata": {},
     "output_type": "execute_result"
    },
    {
     "data": {
      "image/png": "[encoded data removed]",
      "text/plain": [
       "<Figure size 432x288 with 2 Axes>"
      ]
     },
     "metadata": {
      "needs_background": "light"
     },
     "output_type": "display_data"
    }
   ],
   "source": [
    "y_pred = myModel.predict_generator(data_gen_test)\n",
    "pred = np.argmax(y_pred,axis=1)\n",
    "cm = confusion_matrix(data_gen_test.classes,pred)\n",
    "cm = (cm.T / cm.astype(np.float).sum(axis=1)).T\n",
    "sb.heatmap(cm,annot=True,cmap=\"Blues\")"
   ]
  },
  {
   "cell_type": "code",
   "execution_count": 30,
   "metadata": {},
   "outputs": [
    {
     "name": "stdout",
     "output_type": "stream",
     "text": [
      "              precision    recall  f1-score   support\n",
      "\n",
      "           0       0.50      0.94      0.65       500\n",
      "           1       0.45      0.05      0.09       500\n",
      "\n",
      "    accuracy                           0.49      1000\n",
      "   macro avg       0.47      0.49      0.37      1000\n",
      "weighted avg       0.47      0.49      0.37      1000\n",
      "\n"
     ]
    }
   ],
   "source": [
    "print(classification_report(data_gen_test.classes,pred))"
   ]
  },
  {
   "cell_type": "code",
   "execution_count": 34,
   "metadata": {},
   "outputs": [
    {
     "data": {
      "text/plain": [
       "<matplotlib.axes._subplots.AxesSubplot at 0x7fb07467add8>"
      ]
     },
     "execution_count": 34,
     "metadata": {},
     "output_type": "execute_result"
    },
    {
     "data": {
      "image/png": "[encoded data removed]",
      "text/plain": [
       "<Figure size 432x288 with 2 Axes>"
      ]
     },
     "metadata": {
      "needs_background": "light"
     },
     "output_type": "display_data"
    }
   ],
   "source": [
    "bestModel = tf.keras.models.load_model('FinalModel/'+LABEL+'Den169_2.h5')\n",
    "y_pred = bestModel.predict_generator(data_gen_test)\n",
    "pred = np.argmax(y_pred,axis=1)\n",
    "cm = confusion_matrix(data_gen_test.classes,pred)\n",
    "cm = (cm.T / cm.astype(np.float).sum(axis=1)).T\n",
    "sb.heatmap(cm,annot=True,cmap=\"Blues\")"
   ]
  },
  {
   "cell_type": "code",
   "execution_count": 35,
   "metadata": {},
   "outputs": [
    {
     "data": {
      "text/plain": [
       "[0.8708026017993689, 0.558]"
      ]
     },
     "execution_count": 35,
     "metadata": {},
     "output_type": "execute_result"
    }
   ],
   "source": [
    "bestModel.evaluate_generator(data_gen_test,32)"
   ]
  },
  {
   "cell_type": "code",
   "execution_count": 36,
   "metadata": {},
   "outputs": [
    {
     "name": "stdout",
     "output_type": "stream",
     "text": [
      "              precision    recall  f1-score   support\n",
      "\n",
      "           0       0.50      0.93      0.65       500\n",
      "           1       0.45      0.05      0.10       500\n",
      "\n",
      "    accuracy                           0.49      1000\n",
      "   macro avg       0.47      0.49      0.37      1000\n",
      "weighted avg       0.47      0.49      0.37      1000\n",
      "\n"
     ]
    }
   ],
   "source": [
    "print(classification_report(data_gen_test.classes,pred))"
   ]
  },
  {
   "cell_type": "code",
   "execution_count": 18,
   "metadata": {},
   "outputs": [],
   "source": [
    "#myModel.save('FinalModel/'+LABEL+'Den169_done_2.h5')"
   ]
  },
  {
   "cell_type": "code",
   "execution_count": 19,
   "metadata": {},
   "outputs": [],
   "source": [
    "#bestModel.save('FinalModel/'+LABEL+'Den169_done_2.h5')"
   ]
  },
  {
   "cell_type": "code",
   "execution_count": null,
   "metadata": {},
   "outputs": [],
   "source": []
  }
 ],
 "metadata": {
  "kernelspec": {
   "display_name": "Python 3",
   "language": "python",
   "name": "python3"
  },
  "language_info": {
   "codemirror_mode": {
    "name": "ipython",
    "version": 3
   },
   "file_extension": ".py",
   "mimetype": "text/x-python",
   "name": "python",
   "nbconvert_exporter": "python",
   "pygments_lexer": "ipython3",
   "version": "3.5.3"
  }
 },
 "nbformat": 4,
 "nbformat_minor": 4
}
