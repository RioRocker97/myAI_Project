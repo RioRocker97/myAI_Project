{
 "cells": [
  {
   "cell_type": "code",
   "execution_count": 1,
   "metadata": {},
   "outputs": [],
   "source": [
    "import tensorflow as tf\n",
    "from tensorflow.keras import Model,layers\n",
    "from tensorflow.keras.callbacks import EarlyStopping,ModelCheckpoint,Callback\n",
    "from tensorflow.keras import metrics,optimizers\n",
    "import numpy as np\n",
    "from PIL import Image\n",
    "from pathlib import Path\n",
    "import os\n",
    "import pandas as pd\n",
    "import matplotlib.pyplot as plt\n",
    "import tensorflow_hub as hub\n",
    "from sklearn.metrics import confusion_matrix,roc_curve,roc_auc_score\n",
    "from sklearn.metrics import classification_report"
   ]
  },
  {
   "cell_type": "code",
   "execution_count": 2,
   "metadata": {},
   "outputs": [
    {
     "name": "stdout",
     "output_type": "stream",
     "text": [
      "10000\n",
      "['No' 'Yes']\n"
     ]
    }
   ],
   "source": [
    "#Setting up images path\n",
    "# Linux path\n",
    "PATH = \"/home/changsmarter/Desktop/myAI_Project/10000_PHASE1/\"\n",
    "SELECTED_CLASS = \"10000_NoF_Class.csv\"\n",
    "SELECTED_LABEL = \"Is No_Finding\"\n",
    "SUB = 'temp'\n",
    "LABEL = 'NoF_fix1_'\n",
    "data_dir = Path(PATH)\n",
    "image_num = len(list(data_dir.glob(SUB+'/*/*/*.jpg')))\n",
    "image_csv = pd.read_csv(PATH+SELECTED_CLASS)\n",
    "CLASS_NAME = image_csv[SELECTED_LABEL].unique()\n",
    "# Check number of TRUE file and all file count        \n",
    "print(image_num)\n",
    "print(CLASS_NAME)"
   ]
  },
  {
   "cell_type": "code",
   "execution_count": 3,
   "metadata": {},
   "outputs": [
    {
     "name": "stdout",
     "output_type": "stream",
     "text": [
      "Found 8000 images belonging to 2 classes.\n",
      "Found 1000 images belonging to 2 classes.\n",
      "Found 1000 images belonging to 2 classes.\n"
     ]
    }
   ],
   "source": [
    "##loading image from given path\n",
    "my_generator = tf.keras.preprocessing.image.ImageDataGenerator(rescale=1./255)\n",
    "BATCH_SIZE = 32\n",
    "IMG_WIDTH = 224\n",
    "IMG_HEIGHT = 224\n",
    "TRAIN_PATH = PATH + SUB + \"/train/\"\n",
    "VALID_PATH = PATH + SUB + \"/valid/\"\n",
    "TEST_PATH = PATH + SUB + \"/test/\"\n",
    "#This will be my train_set . \n",
    "data_gen_train = my_generator.flow_from_directory(directory=TRAIN_PATH,\n",
    "                                                  batch_size=BATCH_SIZE,\n",
    "                                                  shuffle=True,\n",
    "                                                  target_size=(IMG_HEIGHT,IMG_WIDTH),\n",
    "                                                  color_mode='rgb')\n",
    "#This will be my valid_set . \n",
    "data_gen_valid = my_generator.flow_from_directory(directory=VALID_PATH,\n",
    "                                                 batch_size=BATCH_SIZE,\n",
    "                                                 shuffle=True,\n",
    "                                                 target_size=(IMG_HEIGHT,IMG_WIDTH),\n",
    "                                                 color_mode='rgb')\n",
    "#This will be my test_set . \n",
    "data_gen_test = my_generator.flow_from_directory(directory=TEST_PATH,\n",
    "                                                 batch_size=BATCH_SIZE,\n",
    "                                                 shuffle=True,\n",
    "                                                 target_size=(IMG_HEIGHT,IMG_WIDTH),\n",
    "                                                 color_mode='rgb')\n",
    "x_train,y_train = next(data_gen_train)\n",
    "x_valid,y_valid = next(data_gen_valid)\n",
    "x_test,y_test = next(data_gen_test)"
   ]
  },
  {
   "cell_type": "code",
   "execution_count": 4,
   "metadata": {},
   "outputs": [],
   "source": [
    "##Using ResNet50\n",
    "myResnet = hub.KerasLayer(\"https://tfhub.dev/google/imagenet/resnet_v2_50/classification/4\"\n",
    "                          ,trainable=False,\n",
    "                         input_shape=(224,224,3))\n",
    " \n",
    "myModel = tf.keras.Sequential([\n",
    "    myResnet,\n",
    "    layers.BatchNormalization(),\n",
    "    layers.Dense(1024,activation='relu'),\n",
    "    layers.Dense(512,activation='relu'),\n",
    "    layers.Dropout(0.5),\n",
    "    layers.Dense(2,activation='softmax')\n",
    "])\n",
    "#myModel.build([None,224,224,3])"
   ]
  },
  {
   "cell_type": "code",
   "execution_count": 5,
   "metadata": {},
   "outputs": [
    {
     "name": "stdout",
     "output_type": "stream",
     "text": [
      "Model: \"sequential\"\n",
      "_________________________________________________________________\n",
      "Layer (type)                 Output Shape              Param #   \n",
      "=================================================================\n",
      "keras_layer (KerasLayer)     (None, 1001)              25615849  \n",
      "_________________________________________________________________\n",
      "batch_normalization (BatchNo (None, 1001)              4004      \n",
      "_________________________________________________________________\n",
      "dense (Dense)                (None, 1024)              1026048   \n",
      "_________________________________________________________________\n",
      "dense_1 (Dense)              (None, 512)               524800    \n",
      "_________________________________________________________________\n",
      "dropout (Dropout)            (None, 512)               0         \n",
      "_________________________________________________________________\n",
      "dense_2 (Dense)              (None, 2)                 1026      \n",
      "=================================================================\n",
      "Total params: 27,171,727\n",
      "Trainable params: 1,553,876\n",
      "Non-trainable params: 25,617,851\n",
      "_________________________________________________________________\n"
     ]
    }
   ],
   "source": [
    "myModel.summary()"
   ]
  },
  {
   "cell_type": "code",
   "execution_count": 6,
   "metadata": {},
   "outputs": [],
   "source": [
    "## Setting up callback function for detecting training status\n",
    "myEarly = EarlyStopping(monitor='val_loss',patience=3,verbose=1)\n",
    "myCheckpoint = ModelCheckpoint('Model2/'+LABEL+'ResNet50.hdf5'\n",
    "                               ,monitor='val_loss')\n",
    "#Callback function when my model hit my max ACC\n",
    "class mystopclass(Callback):\n",
    "    def on_epoch_end(self,epoch,log={}):\n",
    "        if(log.get('accuracy') > 0.999 or log.get('loss') < 0.001):\n",
    "            print(\"\\n\\nReached my Destination. Stoppped Training!!\\n\\n\")\n",
    "            self.model.stop_training = True\n",
    "myStop = mystopclass()"
   ]
  },
  {
   "cell_type": "code",
   "execution_count": 7,
   "metadata": {},
   "outputs": [],
   "source": [
    "myModel.compile(loss='binary_crossentropy',\n",
    "                    optimizer=optimizers.SGD(lr=1e-4)\n",
    "                ,metrics=['accuracy'])"
   ]
  },
  {
   "cell_type": "code",
   "execution_count": 8,
   "metadata": {},
   "outputs": [],
   "source": [
    "TRAIN_IMG = 8000\n",
    "TEST_IMG = 1000\n",
    "VALID_IMG = 1000"
   ]
  },
  {
   "cell_type": "code",
   "execution_count": 9,
   "metadata": {},
   "outputs": [
    {
     "name": "stdout",
     "output_type": "stream",
     "text": [
      "Train for 250.0 steps, validate for 32.0 steps\n",
      "Epoch 1/50\n",
      "250/250 - 33s - loss: 0.7803 - accuracy: 0.6124 - val_loss: 0.4762 - val_accuracy: 0.8260\n",
      "Epoch 2/50\n",
      "250/250 - 26s - loss: 0.5534 - accuracy: 0.7800 - val_loss: 0.4542 - val_accuracy: 0.8420\n",
      "Epoch 3/50\n",
      "250/250 - 25s - loss: 0.5534 - accuracy: 0.8008 - val_loss: 0.4528 - val_accuracy: 0.8420\n",
      "Epoch 4/50\n",
      "250/250 - 25s - loss: 0.5353 - accuracy: 0.8037 - val_loss: 0.4498 - val_accuracy: 0.8420\n",
      "Epoch 5/50\n",
      "250/250 - 26s - loss: 0.5195 - accuracy: 0.8076 - val_loss: 0.4480 - val_accuracy: 0.8420\n",
      "Epoch 6/50\n",
      "250/250 - 26s - loss: 0.5291 - accuracy: 0.8062 - val_loss: 0.4449 - val_accuracy: 0.8420\n",
      "Epoch 7/50\n",
      "250/250 - 26s - loss: 0.5178 - accuracy: 0.8104 - val_loss: 0.4445 - val_accuracy: 0.8420\n",
      "Epoch 8/50\n",
      "250/250 - 26s - loss: 0.5154 - accuracy: 0.8139 - val_loss: 0.4413 - val_accuracy: 0.8420\n",
      "Epoch 9/50\n",
      "250/250 - 26s - loss: 0.5137 - accuracy: 0.8127 - val_loss: 0.4392 - val_accuracy: 0.8420\n",
      "Epoch 10/50\n",
      "250/250 - 26s - loss: 0.5203 - accuracy: 0.8094 - val_loss: 0.4381 - val_accuracy: 0.8420\n",
      "Epoch 11/50\n",
      "250/250 - 26s - loss: 0.5082 - accuracy: 0.8115 - val_loss: 0.4372 - val_accuracy: 0.8420\n",
      "Epoch 12/50\n",
      "250/250 - 26s - loss: 0.5090 - accuracy: 0.8139 - val_loss: 0.4359 - val_accuracy: 0.8420\n",
      "Epoch 13/50\n",
      "250/250 - 26s - loss: 0.4979 - accuracy: 0.8164 - val_loss: 0.4343 - val_accuracy: 0.8420\n",
      "Epoch 14/50\n",
      "250/250 - 26s - loss: 0.5038 - accuracy: 0.8148 - val_loss: 0.4332 - val_accuracy: 0.8420\n",
      "Epoch 15/50\n",
      "250/250 - 26s - loss: 0.4941 - accuracy: 0.8170 - val_loss: 0.4334 - val_accuracy: 0.8420\n",
      "Epoch 16/50\n",
      "250/250 - 26s - loss: 0.4879 - accuracy: 0.8202 - val_loss: 0.4314 - val_accuracy: 0.8420\n",
      "Epoch 17/50\n",
      "250/250 - 26s - loss: 0.4944 - accuracy: 0.8191 - val_loss: 0.4309 - val_accuracy: 0.8420\n",
      "Epoch 18/50\n",
      "250/250 - 26s - loss: 0.4848 - accuracy: 0.8210 - val_loss: 0.4302 - val_accuracy: 0.8420\n",
      "Epoch 19/50\n",
      "250/250 - 26s - loss: 0.4954 - accuracy: 0.8164 - val_loss: 0.4299 - val_accuracy: 0.8420\n",
      "Epoch 20/50\n",
      "250/250 - 26s - loss: 0.4843 - accuracy: 0.8198 - val_loss: 0.4282 - val_accuracy: 0.8420\n",
      "Epoch 21/50\n",
      "250/250 - 26s - loss: 0.4862 - accuracy: 0.8202 - val_loss: 0.4274 - val_accuracy: 0.8430\n",
      "Epoch 22/50\n",
      "250/250 - 26s - loss: 0.4789 - accuracy: 0.8206 - val_loss: 0.4273 - val_accuracy: 0.8430\n",
      "Epoch 23/50\n",
      "250/250 - 26s - loss: 0.4772 - accuracy: 0.8232 - val_loss: 0.4262 - val_accuracy: 0.8430\n",
      "Epoch 24/50\n",
      "250/250 - 26s - loss: 0.4801 - accuracy: 0.8244 - val_loss: 0.4261 - val_accuracy: 0.8430\n",
      "Epoch 25/50\n",
      "250/250 - 26s - loss: 0.4744 - accuracy: 0.8254 - val_loss: 0.4251 - val_accuracy: 0.8430\n",
      "Epoch 26/50\n",
      "250/250 - 26s - loss: 0.4717 - accuracy: 0.8241 - val_loss: 0.4251 - val_accuracy: 0.8430\n",
      "Epoch 27/50\n",
      "250/250 - 26s - loss: 0.4685 - accuracy: 0.8242 - val_loss: 0.4240 - val_accuracy: 0.8430\n",
      "Epoch 28/50\n",
      "250/250 - 26s - loss: 0.4621 - accuracy: 0.8230 - val_loss: 0.4241 - val_accuracy: 0.8430\n",
      "Epoch 29/50\n",
      "250/250 - 26s - loss: 0.4671 - accuracy: 0.8210 - val_loss: 0.4229 - val_accuracy: 0.8430\n",
      "Epoch 30/50\n",
      "250/250 - 26s - loss: 0.4618 - accuracy: 0.8306 - val_loss: 0.4221 - val_accuracy: 0.8440\n",
      "Epoch 31/50\n",
      "250/250 - 26s - loss: 0.4633 - accuracy: 0.8239 - val_loss: 0.4221 - val_accuracy: 0.8440\n",
      "Epoch 32/50\n",
      "250/250 - 26s - loss: 0.4621 - accuracy: 0.8274 - val_loss: 0.4224 - val_accuracy: 0.8440\n",
      "Epoch 33/50\n",
      "250/250 - 26s - loss: 0.4584 - accuracy: 0.8285 - val_loss: 0.4213 - val_accuracy: 0.8440\n",
      "Epoch 34/50\n",
      "250/250 - 26s - loss: 0.4545 - accuracy: 0.8282 - val_loss: 0.4209 - val_accuracy: 0.8440\n",
      "Epoch 35/50\n",
      "250/250 - 26s - loss: 0.4549 - accuracy: 0.8298 - val_loss: 0.4208 - val_accuracy: 0.8440\n",
      "Epoch 36/50\n",
      "250/250 - 26s - loss: 0.4607 - accuracy: 0.8242 - val_loss: 0.4213 - val_accuracy: 0.8440\n",
      "Epoch 37/50\n",
      "250/250 - 26s - loss: 0.4652 - accuracy: 0.8259 - val_loss: 0.4209 - val_accuracy: 0.8440\n",
      "Epoch 38/50\n",
      "250/250 - 26s - loss: 0.4508 - accuracy: 0.8326 - val_loss: 0.4197 - val_accuracy: 0.8440\n",
      "Epoch 39/50\n",
      "250/250 - 26s - loss: 0.4542 - accuracy: 0.8292 - val_loss: 0.4191 - val_accuracy: 0.8440\n",
      "Epoch 40/50\n",
      "250/250 - 26s - loss: 0.4489 - accuracy: 0.8328 - val_loss: 0.4189 - val_accuracy: 0.8440\n",
      "Epoch 41/50\n",
      "250/250 - 26s - loss: 0.4429 - accuracy: 0.8342 - val_loss: 0.4180 - val_accuracy: 0.8440\n",
      "Epoch 42/50\n",
      "250/250 - 26s - loss: 0.4470 - accuracy: 0.8301 - val_loss: 0.4183 - val_accuracy: 0.8450\n",
      "Epoch 43/50\n",
      "250/250 - 26s - loss: 0.4452 - accuracy: 0.8305 - val_loss: 0.4185 - val_accuracy: 0.8450\n",
      "Epoch 44/50\n",
      "250/250 - 26s - loss: 0.4403 - accuracy: 0.8328 - val_loss: 0.4183 - val_accuracy: 0.8450\n",
      "Epoch 45/50\n",
      "250/250 - 26s - loss: 0.4445 - accuracy: 0.8313 - val_loss: 0.4174 - val_accuracy: 0.8450\n",
      "Epoch 46/50\n",
      "250/250 - 26s - loss: 0.4415 - accuracy: 0.8313 - val_loss: 0.4168 - val_accuracy: 0.8450\n",
      "Epoch 47/50\n",
      "250/250 - 26s - loss: 0.4435 - accuracy: 0.8316 - val_loss: 0.4170 - val_accuracy: 0.8450\n",
      "Epoch 48/50\n",
      "250/250 - 26s - loss: 0.4373 - accuracy: 0.8316 - val_loss: 0.4167 - val_accuracy: 0.8450\n",
      "Epoch 49/50\n",
      "250/250 - 26s - loss: 0.4359 - accuracy: 0.8326 - val_loss: 0.4166 - val_accuracy: 0.8450\n",
      "Epoch 50/50\n",
      "250/250 - 26s - loss: 0.4398 - accuracy: 0.8292 - val_loss: 0.4160 - val_accuracy: 0.8450\n",
      "====FOLD 1 ====\n",
      "Train for 250.0 steps, validate for 32.0 steps\n",
      "Epoch 1/10\n",
      "250/250 - 26s - loss: 0.4354 - accuracy: 0.8311 - val_loss: 0.4166 - val_accuracy: 0.8450\n",
      "Epoch 2/10\n",
      "250/250 - 26s - loss: 0.4344 - accuracy: 0.8330 - val_loss: 0.4161 - val_accuracy: 0.8450\n",
      "Epoch 3/10\n",
      "250/250 - 26s - loss: 0.4329 - accuracy: 0.8350 - val_loss: 0.4158 - val_accuracy: 0.8450\n",
      "Epoch 4/10\n",
      "250/250 - 26s - loss: 0.4315 - accuracy: 0.8335 - val_loss: 0.4158 - val_accuracy: 0.8450\n",
      "Epoch 5/10\n",
      "250/250 - 26s - loss: 0.4344 - accuracy: 0.8338 - val_loss: 0.4155 - val_accuracy: 0.8450\n",
      "Epoch 6/10\n",
      "250/250 - 26s - loss: 0.4273 - accuracy: 0.8366 - val_loss: 0.4155 - val_accuracy: 0.8450\n",
      "Epoch 7/10\n",
      "250/250 - 25s - loss: 0.4306 - accuracy: 0.8354 - val_loss: 0.4152 - val_accuracy: 0.8450\n",
      "Epoch 8/10\n",
      "250/250 - 26s - loss: 0.4291 - accuracy: 0.8366 - val_loss: 0.4150 - val_accuracy: 0.8450\n",
      "Epoch 9/10\n",
      "250/250 - 26s - loss: 0.4310 - accuracy: 0.8366 - val_loss: 0.4144 - val_accuracy: 0.8450\n",
      "Epoch 10/10\n",
      "250/250 - 26s - loss: 0.4278 - accuracy: 0.8332 - val_loss: 0.4146 - val_accuracy: 0.8460\n",
      "====FOLD 2 ====\n",
      "Train for 250.0 steps, validate for 32.0 steps\n",
      "Epoch 1/10\n",
      "250/250 - 25s - loss: 0.4247 - accuracy: 0.8335 - val_loss: 0.4140 - val_accuracy: 0.8460\n",
      "Epoch 2/10\n",
      "250/250 - 25s - loss: 0.4198 - accuracy: 0.8366 - val_loss: 0.4140 - val_accuracy: 0.8460\n",
      "Epoch 3/10\n",
      "250/250 - 26s - loss: 0.4220 - accuracy: 0.8370 - val_loss: 0.4139 - val_accuracy: 0.8460\n",
      "Epoch 4/10\n",
      "250/250 - 25s - loss: 0.4195 - accuracy: 0.8396 - val_loss: 0.4133 - val_accuracy: 0.8460\n",
      "Epoch 5/10\n",
      "250/250 - 26s - loss: 0.4253 - accuracy: 0.8404 - val_loss: 0.4133 - val_accuracy: 0.8460\n",
      "Epoch 6/10\n",
      "250/250 - 25s - loss: 0.4200 - accuracy: 0.8359 - val_loss: 0.4134 - val_accuracy: 0.8460\n",
      "Epoch 7/10\n",
      "250/250 - 26s - loss: 0.4186 - accuracy: 0.8376 - val_loss: 0.4130 - val_accuracy: 0.8460\n",
      "Epoch 8/10\n",
      "250/250 - 26s - loss: 0.4192 - accuracy: 0.8322 - val_loss: 0.4129 - val_accuracy: 0.8460\n",
      "Epoch 9/10\n",
      "250/250 - 26s - loss: 0.4176 - accuracy: 0.8360 - val_loss: 0.4130 - val_accuracy: 0.8460\n",
      "Epoch 10/10\n",
      "250/250 - 26s - loss: 0.4205 - accuracy: 0.8381 - val_loss: 0.4126 - val_accuracy: 0.8460\n",
      "====FOLD 3 ====\n",
      "Train for 250.0 steps, validate for 32.0 steps\n",
      "Epoch 1/10\n",
      "250/250 - 26s - loss: 0.4218 - accuracy: 0.8356 - val_loss: 0.4124 - val_accuracy: 0.8460\n",
      "Epoch 2/10\n",
      "250/250 - 26s - loss: 0.4136 - accuracy: 0.8363 - val_loss: 0.4125 - val_accuracy: 0.8460\n",
      "Epoch 3/10\n",
      "250/250 - 26s - loss: 0.4134 - accuracy: 0.8364 - val_loss: 0.4122 - val_accuracy: 0.8460\n",
      "Epoch 4/10\n",
      "250/250 - 26s - loss: 0.4117 - accuracy: 0.8395 - val_loss: 0.4122 - val_accuracy: 0.8460\n",
      "Epoch 5/10\n",
      "250/250 - 26s - loss: 0.4139 - accuracy: 0.8389 - val_loss: 0.4118 - val_accuracy: 0.8460\n",
      "Epoch 6/10\n",
      "250/250 - 26s - loss: 0.4158 - accuracy: 0.8389 - val_loss: 0.4119 - val_accuracy: 0.8460\n",
      "Epoch 7/10\n",
      "250/250 - 26s - loss: 0.4093 - accuracy: 0.8400 - val_loss: 0.4116 - val_accuracy: 0.8460\n",
      "Epoch 8/10\n",
      "250/250 - 26s - loss: 0.4103 - accuracy: 0.8380 - val_loss: 0.4114 - val_accuracy: 0.8460\n",
      "Epoch 9/10\n",
      "250/250 - 26s - loss: 0.4112 - accuracy: 0.8393 - val_loss: 0.4110 - val_accuracy: 0.8470\n",
      "Epoch 10/10\n",
      "250/250 - 26s - loss: 0.4042 - accuracy: 0.8388 - val_loss: 0.4112 - val_accuracy: 0.8470\n",
      "====FOLD 4 ====\n",
      "Train for 250.0 steps, validate for 32.0 steps\n",
      "Epoch 1/10\n",
      "250/250 - 25s - loss: 0.4093 - accuracy: 0.8385 - val_loss: 0.4110 - val_accuracy: 0.8470\n",
      "Epoch 2/10\n",
      "250/250 - 26s - loss: 0.4080 - accuracy: 0.8414 - val_loss: 0.4109 - val_accuracy: 0.8470\n",
      "Epoch 3/10\n",
      "250/250 - 26s - loss: 0.4111 - accuracy: 0.8422 - val_loss: 0.4105 - val_accuracy: 0.8470\n",
      "Epoch 4/10\n",
      "250/250 - 26s - loss: 0.4079 - accuracy: 0.8424 - val_loss: 0.4101 - val_accuracy: 0.8470\n",
      "Epoch 5/10\n",
      "250/250 - 26s - loss: 0.4046 - accuracy: 0.8430 - val_loss: 0.4101 - val_accuracy: 0.8470\n",
      "Epoch 6/10\n",
      "250/250 - 25s - loss: 0.4011 - accuracy: 0.8407 - val_loss: 0.4102 - val_accuracy: 0.8470\n",
      "Epoch 7/10\n",
      "250/250 - 26s - loss: 0.4026 - accuracy: 0.8426 - val_loss: 0.4098 - val_accuracy: 0.8460\n",
      "Epoch 8/10\n",
      "250/250 - 26s - loss: 0.4086 - accuracy: 0.8401 - val_loss: 0.4100 - val_accuracy: 0.8470\n",
      "Epoch 9/10\n",
      "250/250 - 26s - loss: 0.4058 - accuracy: 0.8430 - val_loss: 0.4102 - val_accuracy: 0.8450\n",
      "Epoch 10/10\n",
      "250/250 - 26s - loss: 0.4021 - accuracy: 0.8407 - val_loss: 0.4101 - val_accuracy: 0.8470\n",
      "Epoch 00010: early stopping\n",
      "====FOLD 5 ====\n",
      "Train for 250.0 steps, validate for 32.0 steps\n",
      "Epoch 1/10\n",
      "250/250 - 25s - loss: 0.3997 - accuracy: 0.8462 - val_loss: 0.4103 - val_accuracy: 0.8470\n",
      "Epoch 2/10\n",
      "250/250 - 26s - loss: 0.4039 - accuracy: 0.8388 - val_loss: 0.4096 - val_accuracy: 0.8470\n",
      "Epoch 3/10\n",
      "250/250 - 26s - loss: 0.4003 - accuracy: 0.8441 - val_loss: 0.4098 - val_accuracy: 0.8470\n",
      "Epoch 4/10\n",
      "250/250 - 26s - loss: 0.4045 - accuracy: 0.8435 - val_loss: 0.4095 - val_accuracy: 0.8470\n",
      "Epoch 5/10\n",
      "250/250 - 26s - loss: 0.3998 - accuracy: 0.8432 - val_loss: 0.4096 - val_accuracy: 0.8470\n",
      "Epoch 6/10\n",
      "250/250 - 26s - loss: 0.3998 - accuracy: 0.8436 - val_loss: 0.4098 - val_accuracy: 0.8470\n",
      "Epoch 7/10\n",
      "250/250 - 26s - loss: 0.3991 - accuracy: 0.8415 - val_loss: 0.4097 - val_accuracy: 0.8470\n",
      "Epoch 00007: early stopping\n"
     ]
    }
   ],
   "source": [
    "#Training myModel\n",
    "tf.compat.v1.logging.set_verbosity(tf.compat.v1.logging.ERROR)\n",
    "STEP_PER_EPOCH = np.ceil(TRAIN_IMG/BATCH_SIZE)\n",
    "VALID_STEP = np.ceil(VALID_IMG/BATCH_SIZE)\n",
    "mySession = myModel.fit_generator(data_gen_train,\n",
    "                               validation_data=data_gen_valid,\n",
    "                               epochs = 50,\n",
    "                               steps_per_epoch=STEP_PER_EPOCH,\n",
    "                               validation_steps = VALID_STEP,\n",
    "                               verbose = 2,\n",
    "                               callbacks=[myCheckpoint,myStop])\n",
    "tpr = dict()\n",
    "fpr = dict()\n",
    "auc = dict()\n",
    "for i in range(0,5):\n",
    "    print('====FOLD',i+1,'====')\n",
    "    myModel.fit_generator(data_gen_train,\n",
    "                               validation_data=data_gen_valid,\n",
    "                               epochs = 10,\n",
    "                               steps_per_epoch=STEP_PER_EPOCH,\n",
    "                               validation_steps = VALID_STEP,\n",
    "                               verbose = 2,\n",
    "                               callbacks=[myEarly,myCheckpoint,myStop])\n",
    "    \n",
    "    y_pred = myModel.predict_generator(data_gen_test)\n",
    "    pred = np.argmax(y_pred,axis=1)\n",
    "    auc[i] = roc_auc_score(data_gen_test.classes,pred)\n",
    "    tpr[i],fpr[i],_ = roc_curve(data_gen_test.classes,pred)\n",
    "    \n",
    "myModel.save('Model2/'+LABEL+'ResNet50_done.h5')"
   ]
  },
  {
   "cell_type": "code",
   "execution_count": 10,
   "metadata": {},
   "outputs": [
    {
     "data": {
      "image/png": "[encoded data removed]",
      "text/plain": [
       "<Figure size 360x360 with 1 Axes>"
      ]
     },
     "metadata": {
      "needs_background": "light"
     },
     "output_type": "display_data"
    },
    {
     "data": {
      "image/png": "[encoded data removed]",
      "text/plain": [
       "<Figure size 360x360 with 1 Axes>"
      ]
     },
     "metadata": {
      "needs_background": "light"
     },
     "output_type": "display_data"
    }
   ],
   "source": [
    "plt.figure(figsize=(5,5))\n",
    "plt.plot(mySession.history['accuracy'])\n",
    "plt.plot(mySession.history['val_accuracy'])\n",
    "plt.title('Accuracy')\n",
    "plt.ylabel('Value')\n",
    "plt.xlabel('Iterations')\n",
    "plt.legend(['Train','Valid'])\n",
    "plt.savefig('Run_Result2/'+LABEL+\"ResNet50_Acc.png\")\n",
    "plt.show()\n",
    "plt.figure(figsize=(5,5))\n",
    "plt.plot(mySession.history['loss'])\n",
    "plt.plot(mySession.history['val_loss'])\n",
    "plt.title('Loss')\n",
    "plt.ylabel('Value')\n",
    "plt.xlabel('Iterations')\n",
    "plt.legend(['Train','Valid'])\n",
    "plt.savefig('Run_Result2/'+LABEL+\"ResNet50_Loss.png\")\n",
    "plt.show()"
   ]
  },
  {
   "cell_type": "code",
   "execution_count": 11,
   "metadata": {},
   "outputs": [
    {
     "data": {
      "image/png": "[encoded data removed]",
      "text/plain": [
       "<Figure size 432x288 with 1 Axes>"
      ]
     },
     "metadata": {
      "needs_background": "light"
     },
     "output_type": "display_data"
    }
   ],
   "source": [
    "plt.plot(fpr[0],tpr[0],label='Fold 1 ROC (Area =%0.2f)' %auc[0])\n",
    "plt.plot(fpr[1],tpr[1],label='Fold 2 ROC (Area =%0.2f)' %auc[1])\n",
    "plt.plot(fpr[2],tpr[2],label='Fold 3 ROC (Area =%0.2f)' %auc[2])\n",
    "plt.plot(fpr[3],tpr[3],label='Fold 1 ROC (Area =%0.2f)' %auc[3])\n",
    "plt.plot(fpr[4],tpr[4],label='Fold 1 ROC (Area =%0.2f)' %auc[4])\n",
    "plt.plot([0,1],[0,1],linestyle='--')\n",
    "plt.xlabel('False Positive Rate')\n",
    "plt.ylabel('True Positive Rate')\n",
    "plt.title('ROC curve '+LABEL)\n",
    "plt.legend(loc='lower right')\n",
    "plt.savefig('Run_Result2/'+LABEL+\"ResNet50_5ROC.png\")\n",
    "plt.show()"
   ]
  },
  {
   "cell_type": "code",
   "execution_count": 12,
   "metadata": {},
   "outputs": [
    {
     "name": "stdout",
     "output_type": "stream",
     "text": [
      "             precision    recall  f1-score   support\n",
      "\n",
      "          0       0.84      0.99      0.91       843\n",
      "          1       0.00      0.00      0.00       157\n",
      "\n",
      "avg / total       0.71      0.84      0.77      1000\n",
      "\n"
     ]
    }
   ],
   "source": [
    "y_pred = myModel.predict_generator(data_gen_test)\n",
    "pred = np.argmax(y_pred,axis=1)\n",
    "print(classification_report(data_gen_test.classes,pred))"
   ]
  },
  {
   "cell_type": "code",
   "execution_count": null,
   "metadata": {},
   "outputs": [],
   "source": []
  }
 ],
 "metadata": {
  "kernelspec": {
   "display_name": "Python 3",
   "language": "python",
   "name": "python3"
  },
  "language_info": {
   "codemirror_mode": {
    "name": "ipython",
    "version": 3
   },
   "file_extension": ".py",
   "mimetype": "text/x-python",
   "name": "python",
   "nbconvert_exporter": "python",
   "pygments_lexer": "ipython3",
   "version": "3.5.3"
  }
 },
 "nbformat": 4,
 "nbformat_minor": 4
}
