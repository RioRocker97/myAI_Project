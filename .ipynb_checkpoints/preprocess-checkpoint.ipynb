{
 "cells": [
  {
   "cell_type": "code",
   "execution_count": 1,
   "metadata": {},
   "outputs": [],
   "source": [
    "from PIL import Image\n",
    "import numpy as np \n",
    "from skimage import exposure\n",
    "from tensorflow.keras.applications.densenet import preprocess_input\n",
    "from tensorflow.keras.models import load_model\n",
    "\n",
    "model1 = load_model('FinalModel/CA_final_Den169_done.h5')\n",
    "model2 = load_model('FinalModel/EXT_final_Den169_done.h5')\n",
    "model3 = load_model('FinalModel/HEART_final_Den169_done.h5')\n",
    "model4 = load_model('FinalModel/INT_final_Den169_done.h5')\n",
    "model5 = load_model('FinalModel/NOF_final_Den169_done.h5')\n",
    "model6 = load_model('FinalModel/PENO_final_Den169_done.h5')\n",
    "model7 = load_model('FinalModel/TB_final_Den169_done.h5')\n"
   ]
  },
  {
   "cell_type": "code",
   "execution_count": 18,
   "metadata": {},
   "outputs": [],
   "source": [
    "def predictImage(image):\n",
    "    size = 224\n",
    "    img = image.resize((size,size),Image.ANTIALIAS).convert('L')\n",
    "    construct = np.full((size,size,3),0,dtype=np.uint8)\n",
    "    \n",
    "    np_img = np.array(img)\n",
    "    np_img_2 = exposure.equalize_hist(np_img) \n",
    "    np_img_3 = exposure.equalize_adapthist(np_img)\n",
    "   \n",
    "    for i in range(0,size):\n",
    "        for j in range(0,size):\n",
    "            construct[i][j][0] = np_img[i][j]\n",
    "            construct[i][j][1] = np_img_2[i][j]\n",
    "            construct[i][j][2] = np_img_3[i][j]\n",
    "\n",
    "    x_pred = preprocess_input(construct)\n",
    "    x_pred = np.expand_dims(x_pred, axis=0)\n",
    "    print(x_pred.shape)\n",
    "    y_pred = [\n",
    "        float(np.max(model1.predict(x_pred))),\n",
    "        float(np.max(model2.predict(x_pred))),\n",
    "        float(np.max(model3.predict(x_pred))),\n",
    "        float(np.max(model4.predict(x_pred))),\n",
    "        float(np.max(model1.predict(x_pred))),\n",
    "        float(np.max(model1.predict(x_pred))),\n",
    "        float(np.max(model1.predict(x_pred))),        \n",
    "    ]\n",
    "    y_label = [\n",
    "        bool(np.argmax(model1.predict(x_pred),axis=1)),\n",
    "        bool(np.argmax(model2.predict(x_pred),axis=1)),\n",
    "        bool(np.argmax(model3.predict(x_pred),axis=1)),\n",
    "        bool(np.argmax(model4.predict(x_pred),axis=1)),\n",
    "        bool(np.argmax(model5.predict(x_pred),axis=1)),\n",
    "        bool(np.argmax(model6.predict(x_pred),axis=1)),\n",
    "        bool(np.argmax(model7.predict(x_pred),axis=1)),\n",
    "    ]\n",
    "    return y_pred,y_label"
   ]
  },
  {
   "cell_type": "code",
   "execution_count": 19,
   "metadata": {},
   "outputs": [],
   "source": [
    "file = Image.open('test1.jpg')"
   ]
  },
  {
   "cell_type": "code",
   "execution_count": 20,
   "metadata": {},
   "outputs": [
    {
     "name": "stdout",
     "output_type": "stream",
     "text": [
      "(1, 224, 224, 3)\n"
     ]
    }
   ],
   "source": [
    "result,ans = predictImage(file)"
   ]
  },
  {
   "cell_type": "code",
   "execution_count": 11,
   "metadata": {},
   "outputs": [
    {
     "data": {
      "text/plain": [
       "numpy.float32"
      ]
     },
     "execution_count": 11,
     "metadata": {},
     "output_type": "execute_result"
    }
   ],
   "source": [
    "type(float(result[0]))"
   ]
  },
  {
   "cell_type": "code",
   "execution_count": 12,
   "metadata": {},
   "outputs": [
    {
     "data": {
      "text/plain": [
       "bool"
      ]
     },
     "execution_count": 12,
     "metadata": {},
     "output_type": "execute_result"
    }
   ],
   "source": [
    "type(ans[0])"
   ]
  },
  {
   "cell_type": "code",
   "execution_count": null,
   "metadata": {},
   "outputs": [],
   "source": []
  }
 ],
 "metadata": {
  "kernelspec": {
   "display_name": "Python 3",
   "language": "python",
   "name": "python3"
  },
  "language_info": {
   "codemirror_mode": {
    "name": "ipython",
    "version": 3
   },
   "file_extension": ".py",
   "mimetype": "text/x-python",
   "name": "python",
   "nbconvert_exporter": "python",
   "pygments_lexer": "ipython3",
   "version": "3.5.3"
  }
 },
 "nbformat": 4,
 "nbformat_minor": 4
}
