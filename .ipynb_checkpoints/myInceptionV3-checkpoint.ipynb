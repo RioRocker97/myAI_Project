{
 "cells": [
  {
   "cell_type": "code",
   "execution_count": 15,
   "metadata": {},
   "outputs": [],
   "source": [
    "import tensorflow as tf\n",
    "from tensorflow.keras import Model,layers\n",
    "from tensorflow.keras.callbacks import EarlyStopping,ModelCheckpoint,Callback\n",
    "from tensorflow.keras import metrics,optimizers\n",
    "import numpy as np\n",
    "from PIL import Image\n",
    "from pathlib import Path\n",
    "import os\n",
    "import pandas as pd\n",
    "import matplotlib.pyplot as plt\n",
    "import tensorflow_hub as hub\n",
    "import pandas as pd"
   ]
  },
  {
   "cell_type": "code",
   "execution_count": 16,
   "metadata": {},
   "outputs": [
    {
     "name": "stdout",
     "output_type": "stream",
     "text": [
      "10000\n",
      "['Yes' 'No']\n"
     ]
    }
   ],
   "source": [
    "#Setting up images path\n",
    "# Linux path\n",
    "PATH = \"/home/changsmarter/Desktop/myAI_Project/10000_PHASE1/\"\n",
    "SELECTED_CLASS = \"10000_CA_Class.csv\"\n",
    "SELECTED_LABEL = \"Is CA_Lung\"\n",
    "SUB = 'CA Lung'\n",
    "LABEL=\"CA_fix1_\"\n",
    "data_dir = Path(PATH)\n",
    "image_num = len(list(data_dir.glob(SUB+'/*/*/*.jpg')))\n",
    "image_csv = pd.read_csv(PATH+SELECTED_CLASS)\n",
    "CLASS_NAME = image_csv[SELECTED_LABEL].unique()\n",
    "# Check number of TRUE file and all file count        \n",
    "print(image_num)\n",
    "print(CLASS_NAME)"
   ]
  },
  {
   "cell_type": "code",
   "execution_count": 17,
   "metadata": {},
   "outputs": [
    {
     "name": "stdout",
     "output_type": "stream",
     "text": [
      "Found 8000 images belonging to 2 classes.\n",
      "Found 1000 images belonging to 2 classes.\n",
      "Found 1000 images belonging to 2 classes.\n"
     ]
    }
   ],
   "source": [
    "##loading image from given path\n",
    "my_generator = tf.keras.preprocessing.image.ImageDataGenerator(rescale=1./255)\n",
    "BATCH_SIZE = 32\n",
    "IMG_WIDTH = 224\n",
    "IMG_HEIGHT = 224\n",
    "TRAIN_PATH = PATH + SUB + \"/train/\"\n",
    "VALID_PATH = PATH + SUB + \"/valid/\"\n",
    "TEST_PATH = PATH + SUB + \"/test/\"\n",
    "#This will be my train_set . \n",
    "data_gen_train = my_generator.flow_from_directory(directory=TRAIN_PATH,\n",
    "                                                  batch_size=BATCH_SIZE,\n",
    "                                                  shuffle=True,\n",
    "                                                  target_size=(IMG_HEIGHT,IMG_WIDTH),\n",
    "                                                  color_mode='rgb')\n",
    "#This will be my valid_set . \n",
    "data_gen_valid = my_generator.flow_from_directory(directory=VALID_PATH,\n",
    "                                                 batch_size=BATCH_SIZE,\n",
    "                                                 shuffle=True,\n",
    "                                                 target_size=(IMG_HEIGHT,IMG_WIDTH),\n",
    "                                                 color_mode='rgb')\n",
    "#This will be my test_set . \n",
    "data_gen_test = my_generator.flow_from_directory(directory=TEST_PATH,\n",
    "                                                 batch_size=BATCH_SIZE,\n",
    "                                                 shuffle=True,\n",
    "                                                 target_size=(IMG_HEIGHT,IMG_WIDTH),\n",
    "                                                 color_mode='rgb')\n",
    "x_train,y_train = next(data_gen_train)\n",
    "x_valid,y_valid = next(data_gen_valid)\n",
    "x_test,y_test = next(data_gen_test)"
   ]
  },
  {
   "cell_type": "code",
   "execution_count": 25,
   "metadata": {},
   "outputs": [],
   "source": [
    "#Load pre-trained InceptionV3 MODEL\n",
    "myInception = hub.KerasLayer(\"https://tfhub.dev/google/imagenet/inception_v3/classification/4\",trainable = False)\n",
    "\n",
    "myModel = tf.keras.Sequential([\n",
    "    myInception,\n",
    "    layers.Dropout(0.4),\n",
    "    layers.Dense(128,activation='relu'),\n",
    "    layers.Dense(2,activation='softmax')\n",
    "])\n",
    "myModel.build([None,224,224,3])"
   ]
  },
  {
   "cell_type": "code",
   "execution_count": 26,
   "metadata": {},
   "outputs": [
    {
     "name": "stdout",
     "output_type": "stream",
     "text": [
      "Model: \"sequential_3\"\n",
      "_________________________________________________________________\n",
      "Layer (type)                 Output Shape              Param #   \n",
      "=================================================================\n",
      "keras_layer_3 (KerasLayer)   multiple                  23853833  \n",
      "_________________________________________________________________\n",
      "dropout_5 (Dropout)          multiple                  0         \n",
      "_________________________________________________________________\n",
      "dense_16 (Dense)             multiple                  128256    \n",
      "_________________________________________________________________\n",
      "dense_17 (Dense)             multiple                  258       \n",
      "=================================================================\n",
      "Total params: 23,982,347\n",
      "Trainable params: 128,514\n",
      "Non-trainable params: 23,853,833\n",
      "_________________________________________________________________\n"
     ]
    }
   ],
   "source": [
    "myModel.summary()"
   ]
  },
  {
   "cell_type": "code",
   "execution_count": 27,
   "metadata": {},
   "outputs": [],
   "source": [
    "## Setting up callback function for detecting training status\n",
    "myEarly = EarlyStopping(monitor='val_loss',patience=5,verbose=1)\n",
    "myCheckpoint = ModelCheckpoint('Model2/'+LABEL+'IncpV3.hdf5',\n",
    "                               monitor='val_loss',\n",
    "                              save_best_only=True)\n",
    "#Callback function when my model hit my max ACC\n",
    "class mystopclass(Callback):\n",
    "    def on_epoch_end(self,epoch,log={}):\n",
    "        if(log.get('accuracy') > 0.999 or log.get('loss') < 0.001):\n",
    "            print(\"\\n\\nReached my Destination. Stoppped Training!!\\n\\n\")\n",
    "            self.model.stop_training = True\n",
    "myStop = mystopclass()"
   ]
  },
  {
   "cell_type": "code",
   "execution_count": 28,
   "metadata": {},
   "outputs": [],
   "source": [
    "myModel.compile(loss='binary_crossentropy',\n",
    "                    optimizer=optimizers.SGD(lr=1e-5)\n",
    "                ,metrics=['accuracy'])"
   ]
  },
  {
   "cell_type": "code",
   "execution_count": 29,
   "metadata": {},
   "outputs": [],
   "source": [
    "TRAIN_IMG = 8000\n",
    "TEST_IMG = 1000\n",
    "VALID_IMG = 1000"
   ]
  },
  {
   "cell_type": "code",
   "execution_count": 30,
   "metadata": {},
   "outputs": [
    {
     "name": "stdout",
     "output_type": "stream",
     "text": [
      "Train for 250.0 steps, validate for 32.0 steps\n",
      "Epoch 1/50\n",
      "250/250 [==============================] - 28s 113ms/step - loss: 0.9828 - accuracy: 0.6490 - val_loss: 0.6836 - val_accuracy: 0.7410\n",
      "Epoch 2/50\n",
      "250/250 [==============================] - 23s 91ms/step - loss: 0.8972 - accuracy: 0.6990 - val_loss: 0.6605 - val_accuracy: 0.7770\n",
      "Epoch 3/50\n",
      "250/250 [==============================] - 23s 90ms/step - loss: 0.8534 - accuracy: 0.7226 - val_loss: 0.6562 - val_accuracy: 0.7880\n",
      "Epoch 4/50\n",
      "250/250 [==============================] - 23s 90ms/step - loss: 0.8317 - accuracy: 0.7399 - val_loss: 0.6559 - val_accuracy: 0.7980\n",
      "Epoch 5/50\n",
      "250/250 [==============================] - 23s 92ms/step - loss: 0.8265 - accuracy: 0.7465 - val_loss: 0.6556 - val_accuracy: 0.8050\n",
      "Epoch 6/50\n",
      "250/250 [==============================] - 23s 91ms/step - loss: 0.8382 - accuracy: 0.7448 - val_loss: 0.6547 - val_accuracy: 0.8070\n",
      "Epoch 7/50\n",
      "250/250 [==============================] - 23s 91ms/step - loss: 0.8125 - accuracy: 0.7610 - val_loss: 0.6539 - val_accuracy: 0.8130\n",
      "Epoch 8/50\n",
      "250/250 [==============================] - 23s 92ms/step - loss: 0.8115 - accuracy: 0.7610 - val_loss: 0.6515 - val_accuracy: 0.8150\n",
      "Epoch 9/50\n",
      "250/250 [==============================] - 22s 89ms/step - loss: 0.8116 - accuracy: 0.7620 - val_loss: 0.6479 - val_accuracy: 0.8150\n",
      "Epoch 10/50\n",
      "250/250 [==============================] - 23s 92ms/step - loss: 0.7936 - accuracy: 0.7641 - val_loss: 0.6454 - val_accuracy: 0.8150\n",
      "Epoch 11/50\n",
      "250/250 [==============================] - 22s 90ms/step - loss: 0.8060 - accuracy: 0.7632 - val_loss: 0.6424 - val_accuracy: 0.8170\n",
      "Epoch 12/50\n",
      "250/250 [==============================] - 23s 91ms/step - loss: 0.8016 - accuracy: 0.7628 - val_loss: 0.6386 - val_accuracy: 0.8170\n",
      "Epoch 13/50\n",
      "250/250 [==============================] - 23s 92ms/step - loss: 0.7960 - accuracy: 0.7641 - val_loss: 0.6364 - val_accuracy: 0.8170\n",
      "Epoch 14/50\n",
      "250/250 [==============================] - 23s 91ms/step - loss: 0.7857 - accuracy: 0.7625 - val_loss: 0.6330 - val_accuracy: 0.8160\n",
      "Epoch 15/50\n",
      "250/250 [==============================] - 23s 91ms/step - loss: 0.7833 - accuracy: 0.7700 - val_loss: 0.6295 - val_accuracy: 0.8150\n",
      "Epoch 16/50\n",
      "250/250 [==============================] - 23s 92ms/step - loss: 0.7881 - accuracy: 0.7630 - val_loss: 0.6269 - val_accuracy: 0.8170\n",
      "Epoch 17/50\n",
      "250/250 [==============================] - 22s 90ms/step - loss: 0.7986 - accuracy: 0.7644 - val_loss: 0.6232 - val_accuracy: 0.8170\n",
      "Epoch 18/50\n",
      "250/250 [==============================] - 23s 91ms/step - loss: 0.7722 - accuracy: 0.7688 - val_loss: 0.6198 - val_accuracy: 0.8170\n",
      "Epoch 19/50\n",
      "250/250 [==============================] - 22s 90ms/step - loss: 0.7700 - accuracy: 0.7657 - val_loss: 0.6160 - val_accuracy: 0.8170\n",
      "Epoch 20/50\n",
      "250/250 [==============================] - 22s 88ms/step - loss: 0.7754 - accuracy: 0.7665 - val_loss: 0.6134 - val_accuracy: 0.8170\n",
      "Epoch 21/50\n",
      "250/250 [==============================] - 22s 88ms/step - loss: 0.7847 - accuracy: 0.7641 - val_loss: 0.6101 - val_accuracy: 0.8170\n",
      "Epoch 22/50\n",
      "250/250 [==============================] - 22s 90ms/step - loss: 0.7660 - accuracy: 0.7635 - val_loss: 0.6077 - val_accuracy: 0.8170\n",
      "Epoch 23/50\n",
      "250/250 [==============================] - 22s 88ms/step - loss: 0.7863 - accuracy: 0.7681 - val_loss: 0.6050 - val_accuracy: 0.8180\n",
      "Epoch 24/50\n",
      "250/250 [==============================] - 23s 91ms/step - loss: 0.7710 - accuracy: 0.7691 - val_loss: 0.6018 - val_accuracy: 0.8170\n",
      "Epoch 25/50\n",
      "250/250 [==============================] - 22s 90ms/step - loss: 0.7505 - accuracy: 0.7696 - val_loss: 0.5987 - val_accuracy: 0.8170\n",
      "Epoch 26/50\n",
      "250/250 [==============================] - 22s 88ms/step - loss: 0.7495 - accuracy: 0.7722 - val_loss: 0.5961 - val_accuracy: 0.8190\n",
      "Epoch 27/50\n",
      "250/250 [==============================] - 22s 89ms/step - loss: 0.7472 - accuracy: 0.7751 - val_loss: 0.5937 - val_accuracy: 0.8180\n",
      "Epoch 28/50\n",
      "250/250 [==============================] - 23s 90ms/step - loss: 0.7586 - accuracy: 0.7675 - val_loss: 0.5917 - val_accuracy: 0.8190\n",
      "Epoch 29/50\n",
      "250/250 [==============================] - 22s 89ms/step - loss: 0.7379 - accuracy: 0.7720 - val_loss: 0.5896 - val_accuracy: 0.8200\n",
      "Epoch 30/50\n",
      "250/250 [==============================] - 22s 89ms/step - loss: 0.7539 - accuracy: 0.7717 - val_loss: 0.5870 - val_accuracy: 0.8200\n",
      "Epoch 31/50\n",
      "250/250 [==============================] - 23s 92ms/step - loss: 0.7440 - accuracy: 0.7735 - val_loss: 0.5846 - val_accuracy: 0.8200\n",
      "Epoch 32/50\n",
      "250/250 [==============================] - 23s 91ms/step - loss: 0.7285 - accuracy: 0.7692 - val_loss: 0.5834 - val_accuracy: 0.8210\n",
      "Epoch 33/50\n",
      "250/250 [==============================] - 23s 91ms/step - loss: 0.7457 - accuracy: 0.7663 - val_loss: 0.5813 - val_accuracy: 0.8210\n",
      "Epoch 34/50\n",
      "250/250 [==============================] - 23s 91ms/step - loss: 0.7435 - accuracy: 0.7678 - val_loss: 0.5795 - val_accuracy: 0.8210\n",
      "Epoch 35/50\n",
      "250/250 [==============================] - 23s 91ms/step - loss: 0.7292 - accuracy: 0.7754 - val_loss: 0.5768 - val_accuracy: 0.8210\n",
      "Epoch 36/50\n",
      "250/250 [==============================] - 23s 91ms/step - loss: 0.7214 - accuracy: 0.7719 - val_loss: 0.5749 - val_accuracy: 0.8220\n",
      "Epoch 37/50\n",
      "250/250 [==============================] - 23s 91ms/step - loss: 0.7307 - accuracy: 0.7688 - val_loss: 0.5737 - val_accuracy: 0.8220\n",
      "Epoch 38/50\n",
      "250/250 [==============================] - 23s 90ms/step - loss: 0.7462 - accuracy: 0.7730 - val_loss: 0.5712 - val_accuracy: 0.8220\n",
      "Epoch 39/50\n",
      "250/250 [==============================] - 23s 90ms/step - loss: 0.7131 - accuracy: 0.7690 - val_loss: 0.5695 - val_accuracy: 0.8230\n",
      "Epoch 40/50\n",
      "250/250 [==============================] - 23s 92ms/step - loss: 0.7275 - accuracy: 0.7709 - val_loss: 0.5677 - val_accuracy: 0.8240\n",
      "Epoch 41/50\n",
      "250/250 [==============================] - 23s 90ms/step - loss: 0.7284 - accuracy: 0.7705 - val_loss: 0.5657 - val_accuracy: 0.8240\n",
      "Epoch 42/50\n",
      "250/250 [==============================] - 23s 91ms/step - loss: 0.7138 - accuracy: 0.7685 - val_loss: 0.5645 - val_accuracy: 0.8240\n",
      "Epoch 43/50\n",
      "250/250 [==============================] - 23s 91ms/step - loss: 0.7249 - accuracy: 0.7720 - val_loss: 0.5623 - val_accuracy: 0.8240\n",
      "Epoch 44/50\n",
      "250/250 [==============================] - 23s 90ms/step - loss: 0.7208 - accuracy: 0.7700 - val_loss: 0.5608 - val_accuracy: 0.8240\n",
      "Epoch 45/50\n",
      "250/250 [==============================] - 23s 91ms/step - loss: 0.7003 - accuracy: 0.7701 - val_loss: 0.5594 - val_accuracy: 0.8240\n",
      "Epoch 46/50\n",
      "250/250 [==============================] - 23s 93ms/step - loss: 0.7301 - accuracy: 0.7711 - val_loss: 0.5578 - val_accuracy: 0.8240\n",
      "Epoch 47/50\n",
      "250/250 [==============================] - 22s 88ms/step - loss: 0.7112 - accuracy: 0.7738 - val_loss: 0.5565 - val_accuracy: 0.8240\n",
      "Epoch 48/50\n",
      "250/250 [==============================] - 22s 89ms/step - loss: 0.6920 - accuracy: 0.7765 - val_loss: 0.5552 - val_accuracy: 0.8240\n",
      "Epoch 49/50\n",
      "250/250 [==============================] - 23s 93ms/step - loss: 0.7110 - accuracy: 0.7730 - val_loss: 0.5532 - val_accuracy: 0.8240\n",
      "Epoch 50/50\n",
      "250/250 [==============================] - 23s 91ms/step - loss: 0.7012 - accuracy: 0.7721 - val_loss: 0.5519 - val_accuracy: 0.8240\n"
     ]
    }
   ],
   "source": [
    "#Training myModel\n",
    "tf.compat.v1.logging.set_verbosity(tf.compat.v1.logging.ERROR)\n",
    "STEP_PER_EPOCH = np.ceil(TRAIN_IMG/BATCH_SIZE)\n",
    "VALID_STEP = np.ceil(VALID_IMG/BATCH_SIZE)\n",
    "mySession = myModel.fit_generator(data_gen_train,\n",
    "                               validation_data=data_gen_valid,\n",
    "                               epochs = 50,\n",
    "                               steps_per_epoch=STEP_PER_EPOCH,\n",
    "                               validation_steps = VALID_STEP,\n",
    "                               verbose = 1,\n",
    "                               callbacks=[myEarly,myCheckpoint,myStop])\n",
    "\n",
    "myModel.save('Model2/'+LABEL+'Incep3_done.h5')"
   ]
  },
  {
   "cell_type": "code",
   "execution_count": 31,
   "metadata": {},
   "outputs": [
    {
     "data": {
      "image/png": "[encoded data removed]",
      "text/plain": [
       "<Figure size 360x360 with 1 Axes>"
      ]
     },
     "metadata": {
      "needs_background": "light"
     },
     "output_type": "display_data"
    },
    {
     "data": {
      "image/png": "[encoded data removed]",
      "text/plain": [
       "<Figure size 360x360 with 1 Axes>"
      ]
     },
     "metadata": {
      "needs_background": "light"
     },
     "output_type": "display_data"
    }
   ],
   "source": [
    "plt.figure(figsize=(5,5))\n",
    "plt.plot(mySession.history['accuracy'])\n",
    "plt.plot(mySession.history['val_accuracy'])\n",
    "plt.title('Accuracy')\n",
    "plt.ylabel('Value')\n",
    "plt.ylim(0,1)\n",
    "plt.xlabel('Iterations')\n",
    "plt.legend(['Train','Valid'])\n",
    "plt.savefig('Run_Result/'+LABEL+\"InceptV3_Acc.png\")\n",
    "plt.show()\n",
    "plt.figure(figsize=(5,5))\n",
    "plt.plot(mySession.history['loss'])\n",
    "plt.plot(mySession.history['val_loss'])\n",
    "plt.title('Loss')\n",
    "plt.ylabel('Value')\n",
    "plt.xlabel('Iterations')\n",
    "plt.ylim(0.4,1)\n",
    "plt.legend(['Train','Valid'])\n",
    "plt.savefig('Run_Result/'+LABEL+\"InceptV3_Loss.png\")\n",
    "plt.show()"
   ]
  },
  {
   "cell_type": "code",
   "execution_count": 12,
   "metadata": {},
   "outputs": [],
   "source": [
    "y_pred = myModel.predict(datan_gen_test)\n",
    "from sklearn.metrics import confusion_matrix\n",
    "pred = np.argmax(y_pred,axis=1)\n",
    "confusion_matrix(data_gen_test.classes,pred)"
   ]
  }
 ],
 "metadata": {
  "kernelspec": {
   "display_name": "Python 3",
   "language": "python",
   "name": "python3"
  },
  "language_info": {
   "codemirror_mode": {
    "name": "ipython",
    "version": 3
   },
   "file_extension": ".py",
   "mimetype": "text/x-python",
   "name": "python",
   "nbconvert_exporter": "python",
   "pygments_lexer": "ipython3",
   "version": "3.5.3"
  }
 },
 "nbformat": 4,
 "nbformat_minor": 4
}
