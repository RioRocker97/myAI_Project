{
 "cells": [
  {
   "cell_type": "code",
   "execution_count": 1,
   "metadata": {},
   "outputs": [],
   "source": [
    "import tensorflow as tf\n",
    "from tensorflow.keras import Model,layers\n",
    "from tensorflow.keras.callbacks import EarlyStopping,ModelCheckpoint,Callback\n",
    "from tensorflow.keras import metrics,optimizers\n",
    "import numpy as np\n",
    "from PIL import Image\n",
    "from pathlib import Path\n",
    "import os\n",
    "import pandas as pd\n",
    "import matplotlib.pyplot as plt\n",
    "import tensorflow_hub as hub\n",
    "import pandas as pd"
   ]
  },
  {
   "cell_type": "code",
   "execution_count": 2,
   "metadata": {},
   "outputs": [
    {
     "name": "stdout",
     "output_type": "stream",
     "text": [
      "10000\n",
      "['Yes' 'No']\n"
     ]
    }
   ],
   "source": [
    "#Setting up images path\n",
    "# Linux path\n",
    "PATH = \"/home/changsmarter/Desktop/myAI_Project/10000_PHASE1/\"\n",
    "SELECTED_CLASS = \"10000_CA_Class.csv\"\n",
    "SELECTED_LABEL = \"Is CA_Lung\"\n",
    "SUB = 'CA Lung'\n",
    "LABEL=\"CA_fix1_\"\n",
    "data_dir = Path(PATH)\n",
    "image_num = len(list(data_dir.glob(SUB+'/*/*/*.jpg')))\n",
    "image_csv = pd.read_csv(PATH+SELECTED_CLASS)\n",
    "CLASS_NAME = image_csv[SELECTED_LABEL].unique()\n",
    "# Check number of TRUE file and all file count        \n",
    "print(image_num)\n",
    "print(CLASS_NAME)"
   ]
  },
  {
   "cell_type": "code",
   "execution_count": 3,
   "metadata": {},
   "outputs": [
    {
     "name": "stdout",
     "output_type": "stream",
     "text": [
      "Found 8000 images belonging to 2 classes.\n",
      "Found 1000 images belonging to 2 classes.\n",
      "Found 1000 images belonging to 2 classes.\n"
     ]
    }
   ],
   "source": [
    "##loading image from given path\n",
    "my_generator = tf.keras.preprocessing.image.ImageDataGenerator(rescale=1./255)\n",
    "BATCH_SIZE = 32\n",
    "IMG_WIDTH = 224\n",
    "IMG_HEIGHT = 224\n",
    "TRAIN_PATH = PATH + SUB + \"/train/\"\n",
    "VALID_PATH = PATH + SUB + \"/valid/\"\n",
    "TEST_PATH = PATH + SUB + \"/test/\"\n",
    "#This will be my train_set . \n",
    "data_gen_train = my_generator.flow_from_directory(directory=TRAIN_PATH,\n",
    "                                                  batch_size=BATCH_SIZE,\n",
    "                                                  shuffle=True,\n",
    "                                                  target_size=(IMG_HEIGHT,IMG_WIDTH),\n",
    "                                                  color_mode='rgb')\n",
    "#This will be my valid_set . \n",
    "data_gen_valid = my_generator.flow_from_directory(directory=VALID_PATH,\n",
    "                                                 batch_size=BATCH_SIZE,\n",
    "                                                 shuffle=True,\n",
    "                                                 target_size=(IMG_HEIGHT,IMG_WIDTH),\n",
    "                                                 color_mode='rgb')\n",
    "#This will be my test_set . \n",
    "data_gen_test = my_generator.flow_from_directory(directory=TEST_PATH,\n",
    "                                                 batch_size=BATCH_SIZE,\n",
    "                                                 shuffle=True,\n",
    "                                                 target_size=(IMG_HEIGHT,IMG_WIDTH),\n",
    "                                                 color_mode='rgb')\n",
    "x_train,y_train = next(data_gen_train)\n",
    "x_valid,y_valid = next(data_gen_valid)\n",
    "x_test,y_test = next(data_gen_test)"
   ]
  },
  {
   "cell_type": "code",
   "execution_count": 65,
   "metadata": {},
   "outputs": [],
   "source": [
    "#Load pre-trained InceptionV3 MODEL\n",
    "myInception = hub.KerasLayer(\"https://tfhub.dev/google/imagenet/inception_v3/classification/4\"\n",
    "                             ,trainable = False,\n",
    "                            input_shape = (224,224,3))\n",
    "\n",
    "myModel = tf.keras.Sequential([\n",
    "    myInception,\n",
    "    layers.BatchNormalization(),\n",
    "    layers.Dropout(0.5),\n",
    "    layers.Dense(1024,activation='relu'),\n",
    "    layers.Dense(2,activation='softmax')\n",
    "])\n",
    "#myModel.build([None,224,224,3])"
   ]
  },
  {
   "cell_type": "code",
   "execution_count": 66,
   "metadata": {},
   "outputs": [],
   "source": [
    "#myModel.summary()"
   ]
  },
  {
   "cell_type": "code",
   "execution_count": 67,
   "metadata": {},
   "outputs": [],
   "source": [
    "## Setting up callback function for detecting training status\n",
    "myEarly = EarlyStopping(monitor='val_loss',patience=5,verbose=1)\n",
    "myCheckpoint = ModelCheckpoint('Model2/'+LABEL+'IncpV3.hdf5',\n",
    "                               monitor='val_loss',\n",
    "                              save_best_only=True)\n",
    "#Callback function when my model hit my max ACC\n",
    "class mystopclass(Callback):\n",
    "    def on_epoch_end(self,epoch,log={}):\n",
    "        if(log.get('accuracy') > 0.999 or log.get('loss') < 0.001):\n",
    "            print(\"\\n\\nReached my Destination. Stoppped Training!!\\n\\n\")\n",
    "            self.model.stop_training = True\n",
    "myStop = mystopclass()"
   ]
  },
  {
   "cell_type": "code",
   "execution_count": 68,
   "metadata": {},
   "outputs": [],
   "source": [
    "myModel.compile(loss='binary_crossentropy',\n",
    "                    optimizer=optimizers.SGD(lr=1e-4)\n",
    "                ,metrics=['accuracy'])"
   ]
  },
  {
   "cell_type": "code",
   "execution_count": 69,
   "metadata": {},
   "outputs": [],
   "source": [
    "TRAIN_IMG = 8000\n",
    "TEST_IMG = 1000\n",
    "VALID_IMG = 1000"
   ]
  },
  {
   "cell_type": "code",
   "execution_count": 71,
   "metadata": {},
   "outputs": [
    {
     "name": "stdout",
     "output_type": "stream",
     "text": [
      "====FOLD 1 ====\n",
      "Train for 250.0 steps, validate for 32.0 steps\n",
      "Epoch 1/10\n",
      "250/250 [==============================] - 23s 91ms/step - loss: 0.5316 - accuracy: 0.8085 - val_loss: 0.4968 - val_accuracy: 0.8200\n",
      "Epoch 2/10\n",
      "250/250 [==============================] - 23s 90ms/step - loss: 0.5330 - accuracy: 0.8105 - val_loss: 0.4975 - val_accuracy: 0.8190\n",
      "Epoch 3/10\n",
      "250/250 [==============================] - 23s 92ms/step - loss: 0.5345 - accuracy: 0.8065 - val_loss: 0.4966 - val_accuracy: 0.8200\n",
      "Epoch 4/10\n",
      "250/250 [==============================] - 23s 91ms/step - loss: 0.5317 - accuracy: 0.8094 - val_loss: 0.4955 - val_accuracy: 0.8210\n",
      "Epoch 5/10\n",
      "250/250 [==============================] - 22s 90ms/step - loss: 0.5261 - accuracy: 0.8142 - val_loss: 0.4960 - val_accuracy: 0.8180\n",
      "Epoch 6/10\n",
      "250/250 [==============================] - 23s 92ms/step - loss: 0.5246 - accuracy: 0.8111 - val_loss: 0.4943 - val_accuracy: 0.8180\n",
      "Epoch 7/10\n",
      "250/250 [==============================] - 23s 90ms/step - loss: 0.5281 - accuracy: 0.8126 - val_loss: 0.4955 - val_accuracy: 0.8170\n",
      "Epoch 8/10\n",
      "250/250 [==============================] - 23s 92ms/step - loss: 0.5257 - accuracy: 0.8114 - val_loss: 0.4932 - val_accuracy: 0.8210\n",
      "Epoch 9/10\n",
      "250/250 [==============================] - 22s 90ms/step - loss: 0.5220 - accuracy: 0.8144 - val_loss: 0.4942 - val_accuracy: 0.8200\n",
      "Epoch 10/10\n",
      "250/250 [==============================] - 23s 91ms/step - loss: 0.5188 - accuracy: 0.8142 - val_loss: 0.4957 - val_accuracy: 0.8150\n",
      "====FOLD 2 ====\n",
      "Train for 250.0 steps, validate for 32.0 steps\n",
      "Epoch 1/10\n",
      "250/250 [==============================] - 23s 91ms/step - loss: 0.5193 - accuracy: 0.8106 - val_loss: 0.4928 - val_accuracy: 0.8190\n",
      "Epoch 2/10\n",
      "250/250 [==============================] - 23s 90ms/step - loss: 0.5156 - accuracy: 0.8164 - val_loss: 0.4947 - val_accuracy: 0.8160\n",
      "Epoch 3/10\n",
      "250/250 [==============================] - 23s 90ms/step - loss: 0.5134 - accuracy: 0.8151 - val_loss: 0.4932 - val_accuracy: 0.8170\n",
      "Epoch 4/10\n",
      "250/250 [==============================] - 22s 90ms/step - loss: 0.5136 - accuracy: 0.8160 - val_loss: 0.4932 - val_accuracy: 0.8140\n",
      "Epoch 5/10\n",
      "250/250 [==============================] - 22s 90ms/step - loss: 0.5172 - accuracy: 0.8158 - val_loss: 0.4938 - val_accuracy: 0.8140\n",
      "Epoch 6/10\n",
      "250/250 [==============================] - 23s 91ms/step - loss: 0.5097 - accuracy: 0.8155 - val_loss: 0.4933 - val_accuracy: 0.8140\n",
      "Epoch 00006: early stopping\n",
      "====FOLD 3 ====\n",
      "Train for 250.0 steps, validate for 32.0 steps\n",
      "Epoch 1/10\n",
      "250/250 [==============================] - 23s 91ms/step - loss: 0.5077 - accuracy: 0.8156 - val_loss: 0.4925 - val_accuracy: 0.8140\n",
      "Epoch 2/10\n",
      "250/250 [==============================] - 23s 92ms/step - loss: 0.5111 - accuracy: 0.8156 - val_loss: 0.4909 - val_accuracy: 0.8160\n",
      "Epoch 3/10\n",
      "250/250 [==============================] - 23s 93ms/step - loss: 0.5014 - accuracy: 0.8161 - val_loss: 0.4900 - val_accuracy: 0.8180\n",
      "Epoch 4/10\n",
      "250/250 [==============================] - 23s 91ms/step - loss: 0.5020 - accuracy: 0.8173 - val_loss: 0.4908 - val_accuracy: 0.8150\n",
      "Epoch 5/10\n",
      "250/250 [==============================] - 23s 92ms/step - loss: 0.4958 - accuracy: 0.8194 - val_loss: 0.4895 - val_accuracy: 0.8190\n",
      "Epoch 6/10\n",
      "250/250 [==============================] - 23s 90ms/step - loss: 0.5089 - accuracy: 0.8206 - val_loss: 0.4906 - val_accuracy: 0.8180\n",
      "Epoch 7/10\n",
      "250/250 [==============================] - 23s 91ms/step - loss: 0.5006 - accuracy: 0.8173 - val_loss: 0.4900 - val_accuracy: 0.8170\n",
      "Epoch 8/10\n",
      "250/250 [==============================] - 23s 91ms/step - loss: 0.4945 - accuracy: 0.8198 - val_loss: 0.4907 - val_accuracy: 0.8170\n",
      "Epoch 9/10\n",
      "250/250 [==============================] - 23s 91ms/step - loss: 0.4795 - accuracy: 0.8271 - val_loss: 0.4914 - val_accuracy: 0.8170\n",
      "Epoch 10/10\n",
      "250/250 [==============================] - 22s 90ms/step - loss: 0.4861 - accuracy: 0.8235 - val_loss: 0.4907 - val_accuracy: 0.8170\n",
      "Epoch 00010: early stopping\n",
      "====FOLD 4 ====\n",
      "Train for 250.0 steps, validate for 32.0 steps\n",
      "Epoch 1/10\n",
      "250/250 [==============================] - 23s 90ms/step - loss: 0.4930 - accuracy: 0.8201 - val_loss: 0.4901 - val_accuracy: 0.8170\n",
      "Epoch 2/10\n",
      "250/250 [==============================] - 23s 90ms/step - loss: 0.4983 - accuracy: 0.8200 - val_loss: 0.4896 - val_accuracy: 0.8170\n",
      "Epoch 3/10\n",
      "250/250 [==============================] - 23s 91ms/step - loss: 0.4910 - accuracy: 0.8225 - val_loss: 0.4890 - val_accuracy: 0.8190\n",
      "Epoch 4/10\n",
      "250/250 [==============================] - 23s 91ms/step - loss: 0.4974 - accuracy: 0.8196 - val_loss: 0.4901 - val_accuracy: 0.8170\n",
      "Epoch 5/10\n",
      "250/250 [==============================] - 22s 90ms/step - loss: 0.4899 - accuracy: 0.8206 - val_loss: 0.4906 - val_accuracy: 0.8170\n",
      "Epoch 6/10\n",
      "250/250 [==============================] - 23s 90ms/step - loss: 0.4784 - accuracy: 0.8257 - val_loss: 0.4911 - val_accuracy: 0.8160\n",
      "Epoch 7/10\n",
      "250/250 [==============================] - 23s 90ms/step - loss: 0.4779 - accuracy: 0.8260 - val_loss: 0.4907 - val_accuracy: 0.8140\n",
      "Epoch 8/10\n",
      "250/250 [==============================] - 23s 92ms/step - loss: 0.4868 - accuracy: 0.8248 - val_loss: 0.4883 - val_accuracy: 0.8190\n",
      "Epoch 9/10\n",
      "250/250 [==============================] - 23s 90ms/step - loss: 0.4868 - accuracy: 0.8232 - val_loss: 0.4897 - val_accuracy: 0.8190\n",
      "Epoch 10/10\n",
      "250/250 [==============================] - 22s 90ms/step - loss: 0.4835 - accuracy: 0.8220 - val_loss: 0.4897 - val_accuracy: 0.8190\n",
      "====FOLD 5 ====\n",
      "Train for 250.0 steps, validate for 32.0 steps\n",
      "Epoch 1/10\n",
      "250/250 [==============================] - 22s 90ms/step - loss: 0.4793 - accuracy: 0.8239 - val_loss: 0.4900 - val_accuracy: 0.8190\n",
      "Epoch 2/10\n",
      "250/250 [==============================] - 22s 90ms/step - loss: 0.4808 - accuracy: 0.8240 - val_loss: 0.4901 - val_accuracy: 0.8170\n",
      "Epoch 3/10\n",
      "250/250 [==============================] - 22s 90ms/step - loss: 0.4780 - accuracy: 0.8249 - val_loss: 0.4900 - val_accuracy: 0.8190\n",
      "Epoch 4/10\n",
      "250/250 [==============================] - 23s 91ms/step - loss: 0.4730 - accuracy: 0.8241 - val_loss: 0.4880 - val_accuracy: 0.8200\n",
      "Epoch 5/10\n",
      "250/250 [==============================] - 22s 90ms/step - loss: 0.4839 - accuracy: 0.8266 - val_loss: 0.4902 - val_accuracy: 0.8170\n",
      "Epoch 6/10\n",
      "250/250 [==============================] - 22s 90ms/step - loss: 0.4801 - accuracy: 0.8216 - val_loss: 0.4891 - val_accuracy: 0.8180\n",
      "Epoch 7/10\n",
      "250/250 [==============================] - 23s 91ms/step - loss: 0.4689 - accuracy: 0.8259 - val_loss: 0.4874 - val_accuracy: 0.8200\n",
      "Epoch 8/10\n",
      "250/250 [==============================] - 22s 90ms/step - loss: 0.4757 - accuracy: 0.8253 - val_loss: 0.4876 - val_accuracy: 0.8200\n",
      "Epoch 9/10\n",
      "250/250 [==============================] - 22s 89ms/step - loss: 0.4693 - accuracy: 0.8284 - val_loss: 0.4894 - val_accuracy: 0.8160\n",
      "Epoch 10/10\n",
      "250/250 [==============================] - 22s 90ms/step - loss: 0.4726 - accuracy: 0.8286 - val_loss: 0.4897 - val_accuracy: 0.8160\n"
     ]
    }
   ],
   "source": [
    "#Training myModel\n",
    "from sklearn.metrics import confusion_matrix,roc_curve,roc_auc_score\n",
    "tf.compat.v1.logging.set_verbosity(tf.compat.v1.logging.ERROR)\n",
    "STEP_PER_EPOCH = np.ceil(TRAIN_IMG/BATCH_SIZE)\n",
    "VALID_STEP = np.ceil(VALID_IMG/BATCH_SIZE)\n",
    "mySession = myModel.fit_generator(data_gen_train,\n",
    "                               validation_data=data_gen_valid,\n",
    "                               epochs = 50,\n",
    "                               steps_per_epoch=STEP_PER_EPOCH,\n",
    "                               validation_steps = VALID_STEP,\n",
    "                               verbose = 1,\n",
    "                               callbacks=[myCheckpoint,myStop])\n",
    "tpr = dict()\n",
    "fpr = dict()\n",
    "auc = dict()\n",
    "for i in range(0,5):\n",
    "    print('====FOLD',i+1,'====')\n",
    "    myModel.fit_generator(data_gen_train,\n",
    "                               validation_data=data_gen_valid,\n",
    "                               epochs = 10,\n",
    "                               steps_per_epoch=STEP_PER_EPOCH,\n",
    "                               validation_steps = VALID_STEP,\n",
    "                               verbose = 1,\n",
    "                               callbacks=[myEarly,myCheckpoint,myStop])\n",
    "    \n",
    "    y_pred = myModel.predict_generator(data_gen_test)\n",
    "    pred = np.argmax(y_pred,axis=1)\n",
    "    auc[i] = roc_auc_score(data_gen_test.classes,pred)\n",
    "    tpr[i],fpr[i],_ = roc_curve(data_gen_test.classes,pred)\n",
    "    \n",
    "myModel.save('Model2/'+LABEL+'Incep3_done.h5')"
   ]
  },
  {
   "cell_type": "code",
   "execution_count": 31,
   "metadata": {},
   "outputs": [
    {
     "data": {
      "image/png": "[encoded data removed]",
      "text/plain": [
       "<Figure size 360x360 with 1 Axes>"
      ]
     },
     "metadata": {
      "needs_background": "light"
     },
     "output_type": "display_data"
    },
    {
     "data": {
      "image/png": "[encoded data removed]",
      "text/plain": [
       "<Figure size 360x360 with 1 Axes>"
      ]
     },
     "metadata": {
      "needs_background": "light"
     },
     "output_type": "display_data"
    }
   ],
   "source": [
    "plt.figure(figsize=(5,5))\n",
    "plt.plot(mySession.history['accuracy'])\n",
    "plt.plot(mySession.history['val_accuracy'])\n",
    "plt.title('Accuracy')\n",
    "plt.ylabel('Value')\n",
    "plt.ylim(0,1)\n",
    "plt.xlabel('Iterations')\n",
    "plt.legend(['Train','Valid'])\n",
    "plt.savefig('Run_Result2/'+LABEL+\"InceptV3_Acc.png\")\n",
    "plt.show()\n",
    "plt.figure(figsize=(5,5))\n",
    "plt.plot(mySession.history['loss'])\n",
    "plt.plot(mySession.history['val_loss'])\n",
    "plt.title('Loss')\n",
    "plt.ylabel('Value')\n",
    "plt.xlabel('Iterations')\n",
    "plt.ylim(0.4,1)\n",
    "plt.legend(['Train','Valid'])\n",
    "plt.savefig('Run_Result2/'+LABEL+\"InceptV3_Loss.png\")\n",
    "plt.show()"
   ]
  },
  {
   "cell_type": "code",
   "execution_count": 73,
   "metadata": {},
   "outputs": [
    {
     "data": {
      "image/png": "[encoded data removed]",
      "text/plain": [
       "<Figure size 432x288 with 1 Axes>"
      ]
     },
     "metadata": {
      "needs_background": "light"
     },
     "output_type": "display_data"
    }
   ],
   "source": [
    "plt.plot(fpr[0],tpr[0],label='Fold 1 ROC (Area =%0.2f)' %auc[0])\n",
    "plt.plot(fpr[1],tpr[1],label='Fold 2 ROC (Area =%0.2f)' %auc[1])\n",
    "plt.plot(fpr[2],tpr[2],label='Fold 3 ROC (Area =%0.2f)' %auc[2])\n",
    "plt.plot(fpr[3],tpr[3],label='Fold 1 ROC (Area =%0.2f)' %auc[3])\n",
    "plt.plot(fpr[4],tpr[4],label='Fold 1 ROC (Area =%0.2f)' %auc[4])\n",
    "plt.plot([0,1],[0,1],linestyle='--')\n",
    "plt.xlabel('False Positive Rate')\n",
    "plt.ylabel('True Positive Rate')\n",
    "plt.title('ROC curve '+LABEL)\n",
    "plt.legend(loc='lower right')\n",
    "plt.savefig('Run_Result2/'+LABEL+\"InceptV3_5ROC.png\")\n",
    "plt.show()"
   ]
  },
  {
   "cell_type": "code",
   "execution_count": 74,
   "metadata": {},
   "outputs": [
    {
     "data": {
      "text/plain": [
       "'             precision    recall  f1-score   support\\n\\n          0       0.84      0.96      0.90       844\\n          1       0.09      0.02      0.03       156\\n\\navg / total       0.72      0.82      0.76      1000\\n'"
      ]
     },
     "execution_count": 74,
     "metadata": {},
     "output_type": "execute_result"
    }
   ],
   "source": [
    "from sklearn.metrics import classification_report\n",
    "y_pred = myModel.predict_generator(data_gen_test)\n",
    "pred = np.argmax(y_pred,axis=1)\n",
    "print(classification_report(data_gen_test.classes,pred))"
   ]
  },
  {
   "cell_type": "code",
   "execution_count": null,
   "metadata": {},
   "outputs": [],
   "source": []
  }
 ],
 "metadata": {
  "kernelspec": {
   "display_name": "Python 3",
   "language": "python",
   "name": "python3"
  },
  "language_info": {
   "codemirror_mode": {
    "name": "ipython",
    "version": 3
   },
   "file_extension": ".py",
   "mimetype": "text/x-python",
   "name": "python",
   "nbconvert_exporter": "python",
   "pygments_lexer": "ipython3",
   "version": "3.5.3"
  }
 },
 "nbformat": 4,
 "nbformat_minor": 4
}
