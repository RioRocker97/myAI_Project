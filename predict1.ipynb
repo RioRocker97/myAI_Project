{
 "cells": [
  {
   "cell_type": "code",
   "execution_count": 1,
   "metadata": {},
   "outputs": [],
   "source": [
    "import tensorflow as tf\n",
    "from tensorflow.keras import Model,layers\n",
    "import numpy as np\n",
    "from PIL import Image\n",
    "from pathlib import Path\n",
    "import os\n",
    "import pandas as pd\n",
    "import tensorflow_hub as hub"
   ]
  },
  {
   "cell_type": "code",
   "execution_count": 2,
   "metadata": {},
   "outputs": [
    {
     "data": {
      "text/plain": [
       "(1, 224, 224, 3)"
      ]
     },
     "execution_count": 2,
     "metadata": {},
     "output_type": "execute_result"
    }
   ],
   "source": [
    "PATH = \"C:/Users/Lenovo/Desktop/AI/AI_Project/\"\n",
    "LABEL = \"CA_fix1_\"\n",
    "test = Image.open(PATH+\"nofNormal.jpg\")\n",
    "test_img = np.array(test)\n",
    "blank = np.array(None)\n",
    "t_img = np.expand_dims(test_img,axis=0)\n",
    "t_img.shape"
   ]
  },
  {
   "cell_type": "code",
   "execution_count": 3,
   "metadata": {},
   "outputs": [],
   "source": [
    "myModel = tf.keras.models.load_model('Model2/CA_fix1_Incep3_done.h5',custom_objects={'KerasLayer':hub.KerasLayer})\n",
    "myModel2 = tf.keras.models.load_model('Model2/Ext_fix1_Incep3_done.h5',custom_objects={'KerasLayer':hub.KerasLayer})\n",
    "myModel3 = tf.keras.models.load_model('Model2/Heart_fix1_Incep3_done.h5',custom_objects={'KerasLayer':hub.KerasLayer})\n",
    "myModel4 = tf.keras.models.load_model('Model2/Int_fix1_Incep3_done.h5',custom_objects={'KerasLayer':hub.KerasLayer})\n",
    "myModel5 = tf.keras.models.load_model('Model2/NoF_fix1_Incep3_done.h5',custom_objects={'KerasLayer':hub.KerasLayer})\n",
    "myModel6 = tf.keras.models.load_model('Model2/Peno_fix1_Incep3_done.h5',custom_objects={'KerasLayer':hub.KerasLayer})\n",
    "myModel7 = tf.keras.models.load_model('Model2/TB_fix1_Incep3_done.h5',custom_objects={'KerasLayer':hub.KerasLayer})"
   ]
  },
  {
   "cell_type": "code",
   "execution_count": 4,
   "metadata": {},
   "outputs": [],
   "source": [
    "img_predCA = myModel.predict_proba(t_img)\n",
    "img_predEXT = myModel2.predict_proba(t_img)\n",
    "img_predHEART = myModel3.predict_proba(t_img)\n",
    "img_predINT = myModel4.predict_proba(t_img)\n",
    "img_predNOF = myModel5.predict_proba(t_img)\n",
    "img_predPENO = myModel6.predict_proba(t_img)\n",
    "img_predTB = myModel7.predict_proba(t_img)"
   ]
  },
  {
   "cell_type": "code",
   "execution_count": 5,
   "metadata": {},
   "outputs": [
    {
     "name": "stdout",
     "output_type": "stream",
     "text": [
      "[[1.0000000e+00 7.1425133e-37]]\n",
      "[[1. 0.]]\n",
      "[[1. 0.]]\n",
      "[[1. 0.]]\n",
      "[[1. 0.]]\n",
      "[[1. 0.]]\n",
      "[[1. 0.]]\n"
     ]
    }
   ],
   "source": [
    "print(img_predCA)\n",
    "print(img_predEXT)\n",
    "print(img_predHEART)\n",
    "print(img_predINT)\n",
    "print(img_predNOF)\n",
    "print(img_predPENO)\n",
    "print(img_predTB)\n",
    "resCA = np.ceil(img_predCA)\n",
    "resEXT = np.ceil(img_predEXT)\n",
    "resHEART = np.ceil(img_predHEART)\n",
    "resINT = np.ceil(img_predINT)\n",
    "resNOF = np.ceil(img_predNOF)\n",
    "resPENO = np.ceil(img_predPENO)\n",
    "resTB = np.ceil(img_predTB)"
   ]
  },
  {
   "cell_type": "code",
   "execution_count": 6,
   "metadata": {},
   "outputs": [
    {
     "name": "stdout",
     "output_type": "stream",
     "text": [
      "[[1. 1.]]\n",
      "[[1. 0.]]\n",
      "[[1. 0.]]\n",
      "[[1. 0.]]\n",
      "[[1. 0.]]\n",
      "[[1. 0.]]\n",
      "[[1. 0.]]\n"
     ]
    }
   ],
   "source": [
    "print(resCA)\n",
    "print(resEXT)\n",
    "print(resHEART)\n",
    "print(resINT)\n",
    "print(resNOF)\n",
    "print(resPENO)\n",
    "print(resTB)"
   ]
  },
  {
   "cell_type": "code",
   "execution_count": 68,
   "metadata": {},
   "outputs": [
    {
     "data": {
      "text/plain": [
       "array([[1., 1.]], dtype=float32)"
      ]
     },
     "execution_count": 68,
     "metadata": {},
     "output_type": "execute_result"
    }
   ],
   "source": []
  },
  {
   "cell_type": "code",
   "execution_count": null,
   "metadata": {},
   "outputs": [],
   "source": []
  }
 ],
 "metadata": {
  "kernelspec": {
   "display_name": "Python 3",
   "language": "python",
   "name": "python3"
  },
  "language_info": {
   "codemirror_mode": {
    "name": "ipython",
    "version": 3
   },
   "file_extension": ".py",
   "mimetype": "text/x-python",
   "name": "python",
   "nbconvert_exporter": "python",
   "pygments_lexer": "ipython3",
   "version": "3.7.4"
  }
 },
 "nbformat": 4,
 "nbformat_minor": 4
}
