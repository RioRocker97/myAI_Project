{
 "cells": [
  {
   "cell_type": "code",
   "execution_count": 1,
   "metadata": {},
   "outputs": [],
   "source": [
    "import tensorflow as tf\n",
    "from tensorflow.keras import Model,layers\n",
    "from tensorflow.keras.callbacks import EarlyStopping,ModelCheckpoint,Callback\n",
    "from tensorflow.keras import metrics,optimizers\n",
    "import numpy as np\n",
    "from PIL import Image\n",
    "from pathlib import Path\n",
    "import os\n",
    "import pandas as pd\n",
    "import matplotlib.pyplot as plt\n",
    "import tensorflow_hub as hub"
   ]
  },
  {
   "cell_type": "code",
   "execution_count": 2,
   "metadata": {},
   "outputs": [
    {
     "name": "stdout",
     "output_type": "stream",
     "text": [
      "10000\n",
      "['No' 'Yes']\n"
     ]
    }
   ],
   "source": [
    "#Setting up images path\n",
    "# Linux path\n",
    "PATH = \"/home/changsmarter/Desktop/myAI_Project/7classes_data/\"\n",
    "SELECTED_CLASS = \"10000_Pneumonia_Class.csv\"\n",
    "SELECTED_LABEL = \"Is_Pneumonia\"\n",
    "SUB = 'Pneumonia'\n",
    "LABEL = 'Peno_fix2_'\n",
    "data_dir = Path(PATH)\n",
    "image_num = len(list(data_dir.glob(SUB+'/*/*/*.jpg')))\n",
    "image_csv = pd.read_csv(PATH+SELECTED_CLASS)\n",
    "CLASS_NAME = image_csv[SELECTED_LABEL].unique()\n",
    "# Check number of TRUE file and all file count        \n",
    "print(image_num)\n",
    "print(CLASS_NAME)"
   ]
  },
  {
   "cell_type": "code",
   "execution_count": 3,
   "metadata": {},
   "outputs": [
    {
     "name": "stdout",
     "output_type": "stream",
     "text": [
      "Found 8000 images belonging to 2 classes.\n",
      "Found 1000 images belonging to 2 classes.\n",
      "Found 1000 images belonging to 2 classes.\n"
     ]
    }
   ],
   "source": [
    "##loading image from given path\n",
    "my_generator = tf.keras.preprocessing.image.ImageDataGenerator()\n",
    "BATCH_SIZE = 32\n",
    "IMG_WIDTH = 224\n",
    "IMG_HEIGHT = 224\n",
    "TRAIN_PATH = PATH + SUB + \"/train/\"\n",
    "VALID_PATH = PATH + SUB +\"/valid/\"\n",
    "TEST_PATH = PATH + SUB + \"/test/\"\n",
    "#This will be my train_set . \n",
    "data_gen_train = my_generator.flow_from_directory(directory=TRAIN_PATH,\n",
    "                                                  batch_size=BATCH_SIZE,\n",
    "                                                  shuffle=True,\n",
    "                                                  target_size=(IMG_HEIGHT,IMG_WIDTH),\n",
    "                                                  classes = list(CLASS_NAME),\n",
    "                                                  class_mode = 'binary')\n",
    "#This will be my valid_set . \n",
    "data_gen_valid = my_generator.flow_from_directory(directory=VALID_PATH,\n",
    "                                                 batch_size=BATCH_SIZE,\n",
    "                                                 shuffle=True,\n",
    "                                                 target_size=(IMG_HEIGHT,IMG_WIDTH),\n",
    "                                                 classes = list(CLASS_NAME),\n",
    "                                                  class_mode = 'binary')\n",
    "#This will be my test_set . \n",
    "data_gen_test = my_generator.flow_from_directory(directory=TEST_PATH,\n",
    "                                                 batch_size=BATCH_SIZE,\n",
    "                                                 shuffle=True,\n",
    "                                                 target_size=(IMG_HEIGHT,IMG_WIDTH),\n",
    "                                                 classes = list(CLASS_NAME),\n",
    "                                                  class_mode = 'binary')\n",
    "x_train,y_train = next(data_gen_train)\n",
    "x_valid,y_valid = next(data_gen_valid)\n",
    "x_test,y_test = next(data_gen_test)"
   ]
  },
  {
   "cell_type": "code",
   "execution_count": 4,
   "metadata": {},
   "outputs": [],
   "source": [
    "##Using ResNet50\n",
    "myResNet = hub.KerasLayer(\"https://tfhub.dev/google/imagenet/resnet_v2_50/classification/4\",trainable=False)\n",
    " \n",
    "myModel = tf.keras.Sequential([\n",
    "    myResNet,\n",
    "    layers.BatchNormalization(),\n",
    "    layers.Dropout(0.3),\n",
    "    layers.Dense(1,activation='sigmoid'),\n",
    "])\n",
    "myModel.build([None,224,224,3])"
   ]
  },
  {
   "cell_type": "code",
   "execution_count": 5,
   "metadata": {},
   "outputs": [
    {
     "name": "stdout",
     "output_type": "stream",
     "text": [
      "Model: \"sequential\"\n",
      "_________________________________________________________________\n",
      "Layer (type)                 Output Shape              Param #   \n",
      "=================================================================\n",
      "keras_layer (KerasLayer)     multiple                  25615849  \n",
      "_________________________________________________________________\n",
      "batch_normalization (BatchNo multiple                  4004      \n",
      "_________________________________________________________________\n",
      "dropout (Dropout)            multiple                  0         \n",
      "_________________________________________________________________\n",
      "dense (Dense)                multiple                  1002      \n",
      "=================================================================\n",
      "Total params: 25,620,855\n",
      "Trainable params: 3,004\n",
      "Non-trainable params: 25,617,851\n",
      "_________________________________________________________________\n"
     ]
    }
   ],
   "source": [
    "myModel.summary()"
   ]
  },
  {
   "cell_type": "code",
   "execution_count": 6,
   "metadata": {},
   "outputs": [],
   "source": [
    "## Setting up callback function for detecting training status\n",
    "myEarly = EarlyStopping(monitor='val_loss',patience=5,verbose=1)\n",
    "myCheckpoint = ModelCheckpoint('Model/'+LABEL+'ResNet50.hdf5'\n",
    "                               ,monitor='val_loss')\n",
    "#Callback function when my model hit my max ACC\n",
    "class mystopclass(Callback):\n",
    "    def on_epoch_end(self,epoch,log={}):\n",
    "        if(log.get('accuracy') > 0.999 or log.get('loss') < 0.001):\n",
    "            print(\"\\n\\nReached my Destination. Stoppped Training!!\\n\\n\")\n",
    "            self.model.stop_training = True\n",
    "myStop = mystopclass()"
   ]
  },
  {
   "cell_type": "code",
   "execution_count": 7,
   "metadata": {},
   "outputs": [],
   "source": [
    "myModel.compile(loss='binary_crossentropy',\n",
    "                    optimizer=optimizers.SGD(lr=1e-3)\n",
    "                ,metrics=['accuracy',metrics.Precision(),\n",
    "               metrics.Recall()])"
   ]
  },
  {
   "cell_type": "code",
   "execution_count": 8,
   "metadata": {},
   "outputs": [],
   "source": [
    "TRAIN_IMG = 8000\n",
    "TEST_IMG = 1000\n",
    "VALID_IMG = 1000"
   ]
  },
  {
   "cell_type": "code",
   "execution_count": 9,
   "metadata": {},
   "outputs": [
    {
     "name": "stdout",
     "output_type": "stream",
     "text": [
      "Train for 250.0 steps, validate for 32.0 steps\n",
      "Epoch 1/150\n",
      "250/250 - 32s - loss: 0.7806 - accuracy: 0.5381 - precision: 0.1648 - recall: 0.4808 - val_loss: 0.7479 - val_accuracy: 0.5140 - val_precision: 0.1432 - val_recall: 0.4204\n",
      "Epoch 2/150\n",
      "250/250 - 24s - loss: 0.6822 - accuracy: 0.6158 - precision: 0.1887 - recall: 0.4424 - val_loss: 0.6099 - val_accuracy: 0.7080 - val_precision: 0.1006 - val_recall: 0.1083\n",
      "Epoch 3/150\n",
      "250/250 - 24s - loss: 0.6233 - accuracy: 0.6702 - precision: 0.2052 - recall: 0.3864 - val_loss: 0.5649 - val_accuracy: 0.7690 - val_precision: 0.1574 - val_recall: 0.1083\n",
      "Epoch 4/150\n",
      "250/250 - 25s - loss: 0.5767 - accuracy: 0.7113 - precision: 0.2282 - recall: 0.3560 - val_loss: 0.5390 - val_accuracy: 0.7960 - val_precision: 0.1867 - val_recall: 0.0892\n",
      "Epoch 5/150\n",
      "250/250 - 25s - loss: 0.5487 - accuracy: 0.7345 - precision: 0.2450 - recall: 0.3360 - val_loss: 0.5254 - val_accuracy: 0.8170 - val_precision: 0.2500 - val_recall: 0.0828\n",
      "Epoch 6/150\n",
      "250/250 - 25s - loss: 0.5280 - accuracy: 0.7527 - precision: 0.2472 - recall: 0.2848 - val_loss: 0.5122 - val_accuracy: 0.8130 - val_precision: 0.1591 - val_recall: 0.0446\n",
      "Epoch 7/150\n",
      "250/250 - 25s - loss: 0.5009 - accuracy: 0.7692 - precision: 0.2650 - recall: 0.2688 - val_loss: 0.5023 - val_accuracy: 0.8230 - val_precision: 0.1429 - val_recall: 0.0255\n",
      "Epoch 8/150\n",
      "250/250 - 25s - loss: 0.4881 - accuracy: 0.7864 - precision: 0.2912 - recall: 0.2560 - val_loss: 0.4916 - val_accuracy: 0.8350 - val_precision: 0.2500 - val_recall: 0.0255\n",
      "Epoch 9/150\n",
      "250/250 - 25s - loss: 0.4669 - accuracy: 0.7959 - precision: 0.3143 - recall: 0.2592 - val_loss: 0.4883 - val_accuracy: 0.8350 - val_precision: 0.2500 - val_recall: 0.0255\n",
      "Epoch 10/150\n",
      "250/250 - 25s - loss: 0.4565 - accuracy: 0.8043 - precision: 0.3213 - recall: 0.2272 - val_loss: 0.4867 - val_accuracy: 0.8350 - val_precision: 0.2143 - val_recall: 0.0191\n",
      "Epoch 11/150\n",
      "250/250 - 25s - loss: 0.4556 - accuracy: 0.8111 - precision: 0.3441 - recall: 0.2304 - val_loss: 0.4844 - val_accuracy: 0.8350 - val_precision: 0.2143 - val_recall: 0.0191\n",
      "Epoch 12/150\n",
      "250/250 - 25s - loss: 0.4470 - accuracy: 0.8179 - precision: 0.3695 - recall: 0.2344 - val_loss: 0.4795 - val_accuracy: 0.8390 - val_precision: 0.3000 - val_recall: 0.0191\n",
      "Epoch 13/150\n",
      "250/250 - 25s - loss: 0.4390 - accuracy: 0.8191 - precision: 0.3688 - recall: 0.2216 - val_loss: 0.4769 - val_accuracy: 0.8370 - val_precision: 0.2500 - val_recall: 0.0191\n",
      "Epoch 14/150\n",
      "250/250 - 25s - loss: 0.4292 - accuracy: 0.8248 - precision: 0.3899 - recall: 0.2152 - val_loss: 0.4820 - val_accuracy: 0.8360 - val_precision: 0.2308 - val_recall: 0.0191\n",
      "Epoch 15/150\n",
      "250/250 - 25s - loss: 0.4285 - accuracy: 0.8292 - precision: 0.4169 - recall: 0.2328 - val_loss: 0.4794 - val_accuracy: 0.8370 - val_precision: 0.2500 - val_recall: 0.0191\n",
      "Epoch 16/150\n",
      "250/250 - 25s - loss: 0.4208 - accuracy: 0.8274 - precision: 0.3952 - recall: 0.1976 - val_loss: 0.4821 - val_accuracy: 0.8360 - val_precision: 0.2308 - val_recall: 0.0191\n",
      "Epoch 17/150\n",
      "250/250 - 25s - loss: 0.4146 - accuracy: 0.8298 - precision: 0.4117 - recall: 0.2088 - val_loss: 0.4873 - val_accuracy: 0.8350 - val_precision: 0.1667 - val_recall: 0.0127\n",
      "Epoch 18/150\n",
      "250/250 - 25s - loss: 0.4126 - accuracy: 0.8313 - precision: 0.4199 - recall: 0.2096 - val_loss: 0.4812 - val_accuracy: 0.8380 - val_precision: 0.2727 - val_recall: 0.0191\n",
      "Epoch 00018: early stopping\n"
     ]
    }
   ],
   "source": [
    "#Training myModel\n",
    "tf.compat.v1.logging.set_verbosity(tf.compat.v1.logging.ERROR)\n",
    "STEP_PER_EPOCH = np.ceil(TRAIN_IMG/BATCH_SIZE)\n",
    "VALID_STEP = np.ceil(VALID_IMG/BATCH_SIZE)\n",
    "mySession = myModel.fit_generator(data_gen_train,\n",
    "                               validation_data=data_gen_valid,\n",
    "                               epochs = 150,\n",
    "                               steps_per_epoch=STEP_PER_EPOCH,\n",
    "                               validation_steps = VALID_STEP,\n",
    "                               verbose = 2,\n",
    "                               callbacks=[myEarly,myCheckpoint,myStop])\n",
    "myModel.save('Model/'+LABEL+'ResNet50_done.h5')"
   ]
  },
  {
   "cell_type": "code",
   "execution_count": 10,
   "metadata": {},
   "outputs": [
    {
     "data": {
      "image/png": "[encoded data removed]",
      "text/plain": [
       "<Figure size 360x360 with 1 Axes>"
      ]
     },
     "metadata": {
      "needs_background": "light"
     },
     "output_type": "display_data"
    },
    {
     "data": {
      "image/png": "[encoded data removed]",
      "text/plain": [
       "<Figure size 360x360 with 1 Axes>"
      ]
     },
     "metadata": {
      "needs_background": "light"
     },
     "output_type": "display_data"
    }
   ],
   "source": [
    "plt.figure(figsize=(5,5))\n",
    "plt.plot(mySession.history['accuracy'])\n",
    "plt.plot(mySession.history['val_accuracy'])\n",
    "plt.title('Accuracy')\n",
    "plt.ylabel('Value')\n",
    "plt.xlabel('Iterations')\n",
    "plt.legend(['Train','Valid'])\n",
    "plt.savefig('Run_Result/'+LABEL+\"ResNet50_Acc.png\")\n",
    "plt.show()\n",
    "plt.figure(figsize=(5,5))\n",
    "plt.plot(mySession.history['loss'])\n",
    "plt.plot(mySession.history['val_loss'])\n",
    "plt.title('Loss')\n",
    "plt.ylabel('Value')\n",
    "plt.xlabel('Iterations')\n",
    "plt.legend(['Train','Valid'])\n",
    "plt.savefig('Run_Result/'+LABEL+\"ResNet50_Loss.png\")\n",
    "plt.show()"
   ]
  },
  {
   "cell_type": "code",
   "execution_count": null,
   "metadata": {},
   "outputs": [],
   "source": []
  }
 ],
 "metadata": {
  "kernelspec": {
   "display_name": "Python 3",
   "language": "python",
   "name": "python3"
  },
  "language_info": {
   "codemirror_mode": {
    "name": "ipython",
    "version": 3
   },
   "file_extension": ".py",
   "mimetype": "text/x-python",
   "name": "python",
   "nbconvert_exporter": "python",
   "pygments_lexer": "ipython3",
   "version": "3.5.3"
  }
 },
 "nbformat": 4,
 "nbformat_minor": 4
}
