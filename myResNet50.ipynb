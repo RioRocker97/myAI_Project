{
 "cells": [
  {
   "cell_type": "code",
   "execution_count": 1,
   "metadata": {},
   "outputs": [],
   "source": [
    "import tensorflow as tf\n",
    "from tensorflow.keras import Model,layers\n",
    "from tensorflow.keras.callbacks import EarlyStopping,ModelCheckpoint,Callback\n",
    "from tensorflow.keras import metrics,optimizers\n",
    "import numpy as np\n",
    "from PIL import Image\n",
    "from pathlib import Path\n",
    "import os\n",
    "import pandas as pd\n",
    "import matplotlib.pyplot as plt\n",
    "import tensorflow_hub as hub\n",
    "from sklearn.metrics import confusion_matrix,roc_curve,roc_auc_score\n",
    "from sklearn.metrics import classification_report"
   ]
  },
  {
   "cell_type": "code",
   "execution_count": 2,
   "metadata": {},
   "outputs": [
    {
     "name": "stdout",
     "output_type": "stream",
     "text": [
      "10000\n",
      "['No' 'Yes']\n"
     ]
    }
   ],
   "source": [
    "#Setting up images path\n",
    "# Linux path\n",
    "PATH = \"/home/changsmarter/Desktop/myAI_Project/10000_PHASE1/\"\n",
    "SELECTED_CLASS = \"10000_NoF_Class.csv\"\n",
    "SELECTED_LABEL = \"Is No_Finding\"\n",
    "SUB = 'temp'\n",
    "LABEL = 'NoF_fix1_'\n",
    "data_dir = Path(PATH)\n",
    "image_num = len(list(data_dir.glob(SUB+'/*/*/*.jpg')))\n",
    "image_csv = pd.read_csv(PATH+SELECTED_CLASS)\n",
    "CLASS_NAME = image_csv[SELECTED_LABEL].unique()\n",
    "# Check number of TRUE file and all file count        \n",
    "print(image_num)\n",
    "print(CLASS_NAME)"
   ]
  },
  {
   "cell_type": "code",
   "execution_count": 3,
   "metadata": {},
   "outputs": [
    {
     "name": "stdout",
     "output_type": "stream",
     "text": [
      "Found 8001 images belonging to 2 classes.\n",
      "Found 1000 images belonging to 2 classes.\n",
      "Found 1000 images belonging to 2 classes.\n"
     ]
    }
   ],
   "source": [
    "##loading image from given path\n",
    "my_generator = tf.keras.preprocessing.image.ImageDataGenerator(rescale=1./255)\n",
    "BATCH_SIZE = 32\n",
    "IMG_WIDTH = 224\n",
    "IMG_HEIGHT = 224\n",
    "TRAIN_PATH = PATH + SUB + \"/train/\"\n",
    "VALID_PATH = PATH + SUB + \"/valid/\"\n",
    "TEST_PATH = PATH + SUB + \"/test/\"\n",
    "#This will be my train_set . \n",
    "data_gen_train = my_generator.flow_from_directory(directory=TRAIN_PATH,\n",
    "                                                  batch_size=BATCH_SIZE,\n",
    "                                                  shuffle=True,\n",
    "                                                  target_size=(IMG_HEIGHT,IMG_WIDTH),\n",
    "                                                  color_mode='rgb')\n",
    "#This will be my valid_set . \n",
    "data_gen_valid = my_generator.flow_from_directory(directory=VALID_PATH,\n",
    "                                                 batch_size=BATCH_SIZE,\n",
    "                                                 shuffle=True,\n",
    "                                                 target_size=(IMG_HEIGHT,IMG_WIDTH),\n",
    "                                                 color_mode='rgb')\n",
    "#This will be my test_set . \n",
    "data_gen_test = my_generator.flow_from_directory(directory=TEST_PATH,\n",
    "                                                 batch_size=BATCH_SIZE,\n",
    "                                                 shuffle=True,\n",
    "                                                 target_size=(IMG_HEIGHT,IMG_WIDTH),\n",
    "                                                 color_mode='rgb')\n",
    "x_train,y_train = next(data_gen_train)\n",
    "x_valid,y_valid = next(data_gen_valid)\n",
    "x_test,y_test = next(data_gen_test)"
   ]
  },
  {
   "cell_type": "code",
   "execution_count": 4,
   "metadata": {},
   "outputs": [],
   "source": [
    "##Using ResNet50\n",
    "myResnet = hub.KerasLayer(\"https://tfhub.dev/google/imagenet/resnet_v2_50/classification/4\"\n",
    "                          ,trainable=False,\n",
    "                         input_shape=(224,224,3))\n",
    " \n",
    "myModel = tf.keras.Sequential([\n",
    "    myResnet,\n",
    "    layers.BatchNormalization(),\n",
    "    layers.Dense(1024,activation='relu'),\n",
    "    layers.Dense(512,activation='relu'),\n",
    "    layers.Dropout(0.5),\n",
    "    layers.Dense(2,activation='softmax')\n",
    "])\n",
    "#myModel.build([None,224,224,3])"
   ]
  },
  {
   "cell_type": "code",
   "execution_count": 5,
   "metadata": {},
   "outputs": [
    {
     "name": "stdout",
     "output_type": "stream",
     "text": [
      "Model: \"sequential\"\n",
      "_________________________________________________________________\n",
      "Layer (type)                 Output Shape              Param #   \n",
      "=================================================================\n",
      "keras_layer (KerasLayer)     (None, 1001)              25615849  \n",
      "_________________________________________________________________\n",
      "batch_normalization (BatchNo (None, 1001)              4004      \n",
      "_________________________________________________________________\n",
      "dense (Dense)                (None, 1024)              1026048   \n",
      "_________________________________________________________________\n",
      "dense_1 (Dense)              (None, 512)               524800    \n",
      "_________________________________________________________________\n",
      "dropout (Dropout)            (None, 512)               0         \n",
      "_________________________________________________________________\n",
      "dense_2 (Dense)              (None, 2)                 1026      \n",
      "=================================================================\n",
      "Total params: 27,171,727\n",
      "Trainable params: 1,553,876\n",
      "Non-trainable params: 25,617,851\n",
      "_________________________________________________________________\n"
     ]
    }
   ],
   "source": [
    "myModel.summary()"
   ]
  },
  {
   "cell_type": "code",
   "execution_count": 6,
   "metadata": {},
   "outputs": [],
   "source": [
    "## Setting up callback function for detecting training status\n",
    "myEarly = EarlyStopping(monitor='val_loss',patience=3,verbose=1)\n",
    "myCheckpoint = ModelCheckpoint('Model2/'+LABEL+'ResNet50.hdf5'\n",
    "                               ,monitor='val_loss')\n",
    "#Callback function when my model hit my max ACC\n",
    "class mystopclass(Callback):\n",
    "    def on_epoch_end(self,epoch,log={}):\n",
    "        if(log.get('accuracy') > 0.999 or log.get('loss') < 0.001):\n",
    "            print(\"\\n\\nReached my Destination. Stoppped Training!!\\n\\n\")\n",
    "            self.model.stop_training = True\n",
    "myStop = mystopclass()"
   ]
  },
  {
   "cell_type": "code",
   "execution_count": 7,
   "metadata": {},
   "outputs": [],
   "source": [
    "myModel.compile(loss='binary_crossentropy',\n",
    "                    optimizer=optimizers.SGD(lr=1e-4)\n",
    "                ,metrics=['accuracy'])"
   ]
  },
  {
   "cell_type": "code",
   "execution_count": 8,
   "metadata": {},
   "outputs": [],
   "source": [
    "TRAIN_IMG = 8000\n",
    "TEST_IMG = 1000\n",
    "VALID_IMG = 1000"
   ]
  },
  {
   "cell_type": "code",
   "execution_count": 9,
   "metadata": {},
   "outputs": [
    {
     "name": "stdout",
     "output_type": "stream",
     "text": [
      "Train for 250.0 steps, validate for 32.0 steps\n",
      "Epoch 1/50\n",
      "250/250 - 34s - loss: 0.5799 - accuracy: 0.7490 - val_loss: 0.4256 - val_accuracy: 0.8390\n",
      "Epoch 2/50\n",
      "250/250 - 26s - loss: 0.5384 - accuracy: 0.7927 - val_loss: 0.4195 - val_accuracy: 0.8410\n",
      "Epoch 3/50\n",
      "250/250 - 25s - loss: 0.5077 - accuracy: 0.8120 - val_loss: 0.4163 - val_accuracy: 0.8430\n",
      "Epoch 4/50\n",
      "250/250 - 25s - loss: 0.5129 - accuracy: 0.8094 - val_loss: 0.4127 - val_accuracy: 0.8430\n",
      "Epoch 5/50\n",
      "250/250 - 26s - loss: 0.5140 - accuracy: 0.8137 - val_loss: 0.4093 - val_accuracy: 0.8430\n",
      "Epoch 6/50\n",
      "250/250 - 26s - loss: 0.4992 - accuracy: 0.8180 - val_loss: 0.4060 - val_accuracy: 0.8430\n",
      "Epoch 7/50\n",
      "250/250 - 25s - loss: 0.4912 - accuracy: 0.8188 - val_loss: 0.4034 - val_accuracy: 0.8420\n",
      "Epoch 8/50\n",
      "250/250 - 25s - loss: 0.4870 - accuracy: 0.8141 - val_loss: 0.4019 - val_accuracy: 0.8440\n",
      "Epoch 9/50\n",
      "250/250 - 25s - loss: 0.4883 - accuracy: 0.8180 - val_loss: 0.4006 - val_accuracy: 0.8440\n",
      "Epoch 10/50\n",
      "250/250 - 25s - loss: 0.4846 - accuracy: 0.8179 - val_loss: 0.3994 - val_accuracy: 0.8440\n",
      "Epoch 11/50\n",
      "250/250 - 25s - loss: 0.4832 - accuracy: 0.8193 - val_loss: 0.3978 - val_accuracy: 0.8430\n",
      "Epoch 12/50\n",
      "250/250 - 26s - loss: 0.4761 - accuracy: 0.8184 - val_loss: 0.3965 - val_accuracy: 0.8430\n",
      "Epoch 13/50\n",
      "250/250 - 25s - loss: 0.4818 - accuracy: 0.8197 - val_loss: 0.3946 - val_accuracy: 0.8430\n",
      "Epoch 14/50\n",
      "250/250 - 26s - loss: 0.4707 - accuracy: 0.8185 - val_loss: 0.3926 - val_accuracy: 0.8420\n",
      "Epoch 15/50\n",
      "250/250 - 26s - loss: 0.4694 - accuracy: 0.8203 - val_loss: 0.3915 - val_accuracy: 0.8420\n",
      "Epoch 16/50\n",
      "250/250 - 25s - loss: 0.4652 - accuracy: 0.8234 - val_loss: 0.3903 - val_accuracy: 0.8420\n",
      "Epoch 17/50\n",
      "250/250 - 25s - loss: 0.4582 - accuracy: 0.8251 - val_loss: 0.3895 - val_accuracy: 0.8420\n",
      "Epoch 18/50\n",
      "250/250 - 25s - loss: 0.4556 - accuracy: 0.8231 - val_loss: 0.3882 - val_accuracy: 0.8430\n",
      "Epoch 19/50\n",
      "250/250 - 25s - loss: 0.4626 - accuracy: 0.8238 - val_loss: 0.3878 - val_accuracy: 0.8430\n",
      "Epoch 20/50\n",
      "250/250 - 25s - loss: 0.4502 - accuracy: 0.8253 - val_loss: 0.3869 - val_accuracy: 0.8430\n",
      "Epoch 21/50\n",
      "250/250 - 25s - loss: 0.4519 - accuracy: 0.8231 - val_loss: 0.3859 - val_accuracy: 0.8420\n",
      "Epoch 22/50\n",
      "250/250 - 25s - loss: 0.4497 - accuracy: 0.8221 - val_loss: 0.3853 - val_accuracy: 0.8420\n",
      "Epoch 23/50\n",
      "250/250 - 25s - loss: 0.4499 - accuracy: 0.8273 - val_loss: 0.3844 - val_accuracy: 0.8420\n",
      "Epoch 24/50\n",
      "250/250 - 25s - loss: 0.4479 - accuracy: 0.8271 - val_loss: 0.3837 - val_accuracy: 0.8420\n",
      "Epoch 25/50\n",
      "250/250 - 25s - loss: 0.4487 - accuracy: 0.8248 - val_loss: 0.3830 - val_accuracy: 0.8420\n",
      "Epoch 26/50\n",
      "250/250 - 25s - loss: 0.4449 - accuracy: 0.8282 - val_loss: 0.3820 - val_accuracy: 0.8420\n",
      "Epoch 27/50\n",
      "250/250 - 25s - loss: 0.4422 - accuracy: 0.8302 - val_loss: 0.3822 - val_accuracy: 0.8420\n",
      "Epoch 28/50\n",
      "250/250 - 26s - loss: 0.4458 - accuracy: 0.8258 - val_loss: 0.3808 - val_accuracy: 0.8420\n",
      "Epoch 29/50\n",
      "250/250 - 26s - loss: 0.4361 - accuracy: 0.8258 - val_loss: 0.3802 - val_accuracy: 0.8420\n",
      "Epoch 30/50\n",
      "250/250 - 25s - loss: 0.4388 - accuracy: 0.8306 - val_loss: 0.3798 - val_accuracy: 0.8410\n",
      "Epoch 31/50\n",
      "250/250 - 25s - loss: 0.4353 - accuracy: 0.8276 - val_loss: 0.3790 - val_accuracy: 0.8410\n",
      "Epoch 32/50\n",
      "250/250 - 25s - loss: 0.4346 - accuracy: 0.8277 - val_loss: 0.3784 - val_accuracy: 0.8410\n",
      "Epoch 33/50\n",
      "250/250 - 25s - loss: 0.4344 - accuracy: 0.8293 - val_loss: 0.3783 - val_accuracy: 0.8410\n",
      "Epoch 34/50\n",
      "250/250 - 25s - loss: 0.4283 - accuracy: 0.8318 - val_loss: 0.3778 - val_accuracy: 0.8410\n",
      "Epoch 35/50\n",
      "250/250 - 25s - loss: 0.4366 - accuracy: 0.8287 - val_loss: 0.3777 - val_accuracy: 0.8410\n",
      "Epoch 36/50\n",
      "250/250 - 25s - loss: 0.4289 - accuracy: 0.8290 - val_loss: 0.3775 - val_accuracy: 0.8410\n",
      "Epoch 37/50\n",
      "250/250 - 25s - loss: 0.4313 - accuracy: 0.8310 - val_loss: 0.3767 - val_accuracy: 0.8410\n",
      "Epoch 38/50\n",
      "250/250 - 26s - loss: 0.4318 - accuracy: 0.8349 - val_loss: 0.3761 - val_accuracy: 0.8410\n",
      "Epoch 39/50\n",
      "250/250 - 25s - loss: 0.4292 - accuracy: 0.8311 - val_loss: 0.3756 - val_accuracy: 0.8420\n",
      "Epoch 40/50\n",
      "250/250 - 26s - loss: 0.4312 - accuracy: 0.8301 - val_loss: 0.3749 - val_accuracy: 0.8410\n",
      "Epoch 41/50\n",
      "250/250 - 25s - loss: 0.4245 - accuracy: 0.8334 - val_loss: 0.3749 - val_accuracy: 0.8420\n",
      "Epoch 42/50\n",
      "250/250 - 26s - loss: 0.4244 - accuracy: 0.8303 - val_loss: 0.3748 - val_accuracy: 0.8420\n",
      "Epoch 43/50\n",
      "250/250 - 26s - loss: 0.4224 - accuracy: 0.8329 - val_loss: 0.3748 - val_accuracy: 0.8410\n",
      "Epoch 44/50\n",
      "250/250 - 25s - loss: 0.4176 - accuracy: 0.8327 - val_loss: 0.3740 - val_accuracy: 0.8420\n",
      "Epoch 45/50\n",
      "250/250 - 26s - loss: 0.4186 - accuracy: 0.8320 - val_loss: 0.3743 - val_accuracy: 0.8410\n",
      "Epoch 46/50\n",
      "250/250 - 25s - loss: 0.4228 - accuracy: 0.8329 - val_loss: 0.3739 - val_accuracy: 0.8400\n",
      "Epoch 47/50\n",
      "250/250 - 25s - loss: 0.4171 - accuracy: 0.8332 - val_loss: 0.3735 - val_accuracy: 0.8400\n",
      "Epoch 48/50\n",
      "250/250 - 25s - loss: 0.4211 - accuracy: 0.8344 - val_loss: 0.3733 - val_accuracy: 0.8400\n",
      "Epoch 49/50\n",
      "250/250 - 26s - loss: 0.4105 - accuracy: 0.8346 - val_loss: 0.3735 - val_accuracy: 0.8380\n",
      "Epoch 50/50\n",
      "250/250 - 25s - loss: 0.4180 - accuracy: 0.8342 - val_loss: 0.3730 - val_accuracy: 0.8370\n",
      "====FOLD 1 ====\n",
      "Train for 250.0 steps, validate for 32.0 steps\n",
      "Epoch 1/10\n",
      "250/250 - 25s - loss: 0.4088 - accuracy: 0.8384 - val_loss: 0.3732 - val_accuracy: 0.8370\n",
      "Epoch 2/10\n",
      "250/250 - 26s - loss: 0.4110 - accuracy: 0.8352 - val_loss: 0.3727 - val_accuracy: 0.8370\n",
      "Epoch 3/10\n",
      "250/250 - 25s - loss: 0.4124 - accuracy: 0.8324 - val_loss: 0.3726 - val_accuracy: 0.8370\n",
      "Epoch 4/10\n",
      "250/250 - 26s - loss: 0.4128 - accuracy: 0.8349 - val_loss: 0.3722 - val_accuracy: 0.8380\n",
      "Epoch 5/10\n",
      "250/250 - 25s - loss: 0.4085 - accuracy: 0.8398 - val_loss: 0.3721 - val_accuracy: 0.8360\n",
      "Epoch 6/10\n",
      "250/250 - 26s - loss: 0.4120 - accuracy: 0.8355 - val_loss: 0.3720 - val_accuracy: 0.8370\n",
      "Epoch 7/10\n",
      "250/250 - 26s - loss: 0.4093 - accuracy: 0.8394 - val_loss: 0.3721 - val_accuracy: 0.8350\n",
      "Epoch 8/10\n",
      "250/250 - 26s - loss: 0.4046 - accuracy: 0.8409 - val_loss: 0.3720 - val_accuracy: 0.8360\n",
      "Epoch 9/10\n",
      "250/250 - 26s - loss: 0.4129 - accuracy: 0.8339 - val_loss: 0.3716 - val_accuracy: 0.8360\n",
      "Epoch 10/10\n",
      "250/250 - 26s - loss: 0.4043 - accuracy: 0.8362 - val_loss: 0.3714 - val_accuracy: 0.8360\n",
      "====FOLD 2 ====\n",
      "Train for 250.0 steps, validate for 32.0 steps\n",
      "Epoch 1/10\n",
      "250/250 - 25s - loss: 0.4083 - accuracy: 0.8388 - val_loss: 0.3711 - val_accuracy: 0.8360\n",
      "Epoch 2/10\n",
      "250/250 - 25s - loss: 0.4057 - accuracy: 0.8367 - val_loss: 0.3712 - val_accuracy: 0.8360\n",
      "Epoch 3/10\n",
      "250/250 - 26s - loss: 0.4048 - accuracy: 0.8401 - val_loss: 0.3714 - val_accuracy: 0.8360\n",
      "Epoch 4/10\n",
      "250/250 - 25s - loss: 0.4046 - accuracy: 0.8394 - val_loss: 0.3711 - val_accuracy: 0.8370\n",
      "Epoch 5/10\n",
      "250/250 - 26s - loss: 0.3984 - accuracy: 0.8377 - val_loss: 0.3707 - val_accuracy: 0.8360\n",
      "Epoch 6/10\n",
      "250/250 - 25s - loss: 0.4010 - accuracy: 0.8385 - val_loss: 0.3704 - val_accuracy: 0.8350\n",
      "Epoch 7/10\n",
      "250/250 - 25s - loss: 0.3986 - accuracy: 0.8374 - val_loss: 0.3701 - val_accuracy: 0.8360\n",
      "Epoch 8/10\n",
      "250/250 - 25s - loss: 0.4005 - accuracy: 0.8400 - val_loss: 0.3706 - val_accuracy: 0.8350\n",
      "Epoch 9/10\n",
      "250/250 - 25s - loss: 0.3965 - accuracy: 0.8380 - val_loss: 0.3700 - val_accuracy: 0.8370\n",
      "Epoch 10/10\n",
      "250/250 - 25s - loss: 0.3995 - accuracy: 0.8389 - val_loss: 0.3699 - val_accuracy: 0.8360\n",
      "====FOLD 3 ====\n",
      "Train for 250.0 steps, validate for 32.0 steps\n",
      "Epoch 1/10\n",
      "250/250 - 25s - loss: 0.3943 - accuracy: 0.8410 - val_loss: 0.3695 - val_accuracy: 0.8360\n",
      "Epoch 2/10\n",
      "250/250 - 25s - loss: 0.3949 - accuracy: 0.8408 - val_loss: 0.3695 - val_accuracy: 0.8360\n",
      "Epoch 3/10\n",
      "250/250 - 26s - loss: 0.3967 - accuracy: 0.8391 - val_loss: 0.3692 - val_accuracy: 0.8360\n",
      "Epoch 4/10\n",
      "250/250 - 26s - loss: 0.3963 - accuracy: 0.8386 - val_loss: 0.3695 - val_accuracy: 0.8360\n",
      "Epoch 5/10\n",
      "250/250 - 25s - loss: 0.3988 - accuracy: 0.8370 - val_loss: 0.3690 - val_accuracy: 0.8360\n",
      "Epoch 6/10\n",
      "250/250 - 25s - loss: 0.3948 - accuracy: 0.8425 - val_loss: 0.3688 - val_accuracy: 0.8350\n",
      "Epoch 7/10\n",
      "250/250 - 25s - loss: 0.3947 - accuracy: 0.8443 - val_loss: 0.3686 - val_accuracy: 0.8350\n",
      "Epoch 8/10\n",
      "250/250 - 25s - loss: 0.3961 - accuracy: 0.8403 - val_loss: 0.3689 - val_accuracy: 0.8340\n",
      "Epoch 9/10\n",
      "250/250 - 25s - loss: 0.3836 - accuracy: 0.8434 - val_loss: 0.3689 - val_accuracy: 0.8340\n",
      "Epoch 10/10\n",
      "250/250 - 25s - loss: 0.3945 - accuracy: 0.8418 - val_loss: 0.3689 - val_accuracy: 0.8360\n",
      "Epoch 00010: early stopping\n",
      "====FOLD 4 ====\n",
      "Train for 250.0 steps, validate for 32.0 steps\n",
      "Epoch 1/10\n",
      "250/250 - 25s - loss: 0.3857 - accuracy: 0.8410 - val_loss: 0.3689 - val_accuracy: 0.8350\n",
      "Epoch 2/10\n",
      "250/250 - 25s - loss: 0.3902 - accuracy: 0.8419 - val_loss: 0.3691 - val_accuracy: 0.8350\n",
      "Epoch 3/10\n",
      "250/250 - 25s - loss: 0.3880 - accuracy: 0.8418 - val_loss: 0.3689 - val_accuracy: 0.8350\n",
      "Epoch 4/10\n",
      "250/250 - 25s - loss: 0.3909 - accuracy: 0.8443 - val_loss: 0.3690 - val_accuracy: 0.8350\n",
      "Epoch 5/10\n",
      "250/250 - 25s - loss: 0.3876 - accuracy: 0.8428 - val_loss: 0.3688 - val_accuracy: 0.8350\n",
      "Epoch 6/10\n",
      "250/250 - 26s - loss: 0.3819 - accuracy: 0.8448 - val_loss: 0.3685 - val_accuracy: 0.8360\n",
      "Epoch 7/10\n",
      "250/250 - 25s - loss: 0.3882 - accuracy: 0.8406 - val_loss: 0.3686 - val_accuracy: 0.8360\n",
      "Epoch 8/10\n",
      "250/250 - 25s - loss: 0.3839 - accuracy: 0.8430 - val_loss: 0.3691 - val_accuracy: 0.8350\n",
      "Epoch 9/10\n",
      "250/250 - 25s - loss: 0.3874 - accuracy: 0.8423 - val_loss: 0.3687 - val_accuracy: 0.8360\n",
      "Epoch 00009: early stopping\n",
      "====FOLD 5 ====\n",
      "Train for 250.0 steps, validate for 32.0 steps\n",
      "Epoch 1/10\n",
      "250/250 - 25s - loss: 0.3810 - accuracy: 0.8464 - val_loss: 0.3686 - val_accuracy: 0.8360\n",
      "Epoch 2/10\n",
      "250/250 - 26s - loss: 0.3854 - accuracy: 0.8448 - val_loss: 0.3687 - val_accuracy: 0.8360\n",
      "Epoch 3/10\n",
      "250/250 - 25s - loss: 0.3823 - accuracy: 0.8436 - val_loss: 0.3688 - val_accuracy: 0.8360\n",
      "Epoch 4/10\n",
      "250/250 - 25s - loss: 0.3823 - accuracy: 0.8419 - val_loss: 0.3686 - val_accuracy: 0.8350\n",
      "Epoch 5/10\n",
      "250/250 - 25s - loss: 0.3809 - accuracy: 0.8457 - val_loss: 0.3685 - val_accuracy: 0.8350\n",
      "Epoch 6/10\n",
      "250/250 - 25s - loss: 0.3802 - accuracy: 0.8475 - val_loss: 0.3685 - val_accuracy: 0.8350\n",
      "Epoch 7/10\n",
      "250/250 - 25s - loss: 0.3791 - accuracy: 0.8439 - val_loss: 0.3685 - val_accuracy: 0.8360\n",
      "Epoch 8/10\n",
      "250/250 - 25s - loss: 0.3761 - accuracy: 0.8463 - val_loss: 0.3687 - val_accuracy: 0.8360\n",
      "Epoch 9/10\n",
      "250/250 - 25s - loss: 0.3848 - accuracy: 0.8465 - val_loss: 0.3689 - val_accuracy: 0.8350\n",
      "Epoch 00009: early stopping\n"
     ]
    }
   ],
   "source": [
    "#Training myModel\n",
    "tf.compat.v1.logging.set_verbosity(tf.compat.v1.logging.ERROR)\n",
    "STEP_PER_EPOCH = np.ceil(TRAIN_IMG/BATCH_SIZE)\n",
    "VALID_STEP = np.ceil(VALID_IMG/BATCH_SIZE)\n",
    "mySession = myModel.fit_generator(data_gen_train,\n",
    "                               validation_data=data_gen_valid,\n",
    "                               epochs = 50,\n",
    "                               steps_per_epoch=STEP_PER_EPOCH,\n",
    "                               validation_steps = VALID_STEP,\n",
    "                               verbose = 2,\n",
    "                               callbacks=[myCheckpoint,myStop])\n",
    "tpr = dict()\n",
    "fpr = dict()\n",
    "auc = dict()\n",
    "for i in range(0,5):\n",
    "    print('====FOLD',i+1,'====')\n",
    "    myModel.fit_generator(data_gen_train,\n",
    "                               validation_data=data_gen_valid,\n",
    "                               epochs = 10,\n",
    "                               steps_per_epoch=STEP_PER_EPOCH,\n",
    "                               validation_steps = VALID_STEP,\n",
    "                               verbose = 2,\n",
    "                               callbacks=[myEarly,myCheckpoint,myStop])\n",
    "    \n",
    "    y_pred = myModel.predict_generator(data_gen_test)\n",
    "    pred = np.argmax(y_pred,axis=1)\n",
    "    auc[i] = roc_auc_score(data_gen_test.classes,pred)\n",
    "    tpr[i],fpr[i],_ = roc_curve(data_gen_test.classes,pred)\n",
    "    \n",
    "myModel.save('Model2/'+LABEL+'ResNet50_done.h5')"
   ]
  },
  {
   "cell_type": "code",
   "execution_count": 10,
   "metadata": {},
   "outputs": [
    {
     "data": {
      "image/png": "[encoded data removed]",
      "text/plain": [
       "<Figure size 360x360 with 1 Axes>"
      ]
     },
     "metadata": {
      "needs_background": "light"
     },
     "output_type": "display_data"
    },
    {
     "data": {
      "image/png": "[encoded data removed]",
      "text/plain": [
       "<Figure size 360x360 with 1 Axes>"
      ]
     },
     "metadata": {
      "needs_background": "light"
     },
     "output_type": "display_data"
    }
   ],
   "source": [
    "plt.figure(figsize=(5,5))\n",
    "plt.plot(mySession.history['accuracy'])\n",
    "plt.plot(mySession.history['val_accuracy'])\n",
    "plt.title('Accuracy')\n",
    "plt.ylabel('Value')\n",
    "plt.xlabel('Iterations')\n",
    "plt.legend(['Train','Valid'])\n",
    "plt.savefig('Run_Result2/'+LABEL+\"ResNet50_Acc.png\")\n",
    "plt.show()\n",
    "plt.figure(figsize=(5,5))\n",
    "plt.plot(mySession.history['loss'])\n",
    "plt.plot(mySession.history['val_loss'])\n",
    "plt.title('Loss')\n",
    "plt.ylabel('Value')\n",
    "plt.xlabel('Iterations')\n",
    "plt.legend(['Train','Valid'])\n",
    "plt.savefig('Run_Result2/'+LABEL+\"ResNet50_Loss.png\")\n",
    "plt.show()"
   ]
  },
  {
   "cell_type": "code",
   "execution_count": 11,
   "metadata": {},
   "outputs": [
    {
     "data": {
      "image/png": "[encoded data removed]",
      "text/plain": [
       "<Figure size 432x288 with 1 Axes>"
      ]
     },
     "metadata": {
      "needs_background": "light"
     },
     "output_type": "display_data"
    }
   ],
   "source": [
    "plt.plot(fpr[0],tpr[0],label='Fold 1 ROC (Area =%0.2f)' %auc[0])\n",
    "plt.plot(fpr[1],tpr[1],label='Fold 2 ROC (Area =%0.2f)' %auc[1])\n",
    "plt.plot(fpr[2],tpr[2],label='Fold 3 ROC (Area =%0.2f)' %auc[2])\n",
    "plt.plot(fpr[3],tpr[3],label='Fold 1 ROC (Area =%0.2f)' %auc[3])\n",
    "plt.plot(fpr[4],tpr[4],label='Fold 1 ROC (Area =%0.2f)' %auc[4])\n",
    "plt.plot([0,1],[0,1],linestyle='--')\n",
    "plt.xlabel('False Positive Rate')\n",
    "plt.ylabel('True Positive Rate')\n",
    "plt.title('ROC curve '+LABEL)\n",
    "plt.legend(loc='lower right')\n",
    "plt.savefig('Run_Result2/'+LABEL+\"ResNet50_5ROC.png\")\n",
    "plt.show()"
   ]
  },
  {
   "cell_type": "code",
   "execution_count": 12,
   "metadata": {},
   "outputs": [
    {
     "name": "stdout",
     "output_type": "stream",
     "text": [
      "             precision    recall  f1-score   support\n",
      "\n",
      "          0       0.84      0.97      0.90       844\n",
      "          1       0.12      0.02      0.03       156\n",
      "\n",
      "avg / total       0.73      0.82      0.77      1000\n",
      "\n"
     ]
    }
   ],
   "source": [
    "y_pred = myModel.predict_generator(data_gen_test)\n",
    "pred = np.argmax(y_pred,axis=1)\n",
    "print(classification_report(data_gen_test.classes,pred))"
   ]
  },
  {
   "cell_type": "code",
   "execution_count": null,
   "metadata": {},
   "outputs": [],
   "source": []
  }
 ],
 "metadata": {
  "kernelspec": {
   "display_name": "Python 3",
   "language": "python",
   "name": "python3"
  },
  "language_info": {
   "codemirror_mode": {
    "name": "ipython",
    "version": 3
   },
   "file_extension": ".py",
   "mimetype": "text/x-python",
   "name": "python",
   "nbconvert_exporter": "python",
   "pygments_lexer": "ipython3",
   "version": "3.5.3"
  }
 },
 "nbformat": 4,
 "nbformat_minor": 4
}
