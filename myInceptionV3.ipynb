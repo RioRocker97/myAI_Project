{
 "cells": [
  {
   "cell_type": "code",
   "execution_count": 2,
   "metadata": {},
   "outputs": [],
   "source": [
    "import tensorflow as tf\n",
    "from tensorflow.keras import Model,layers\n",
    "from tensorflow.keras.callbacks import EarlyStopping,ModelCheckpoint,Callback\n",
    "from tensorflow.keras import metrics,optimizers\n",
    "import numpy as np\n",
    "from PIL import Image\n",
    "from pathlib import Path\n",
    "import os\n",
    "import pandas as pd\n",
    "import matplotlib.pyplot as plt\n",
    "import tensorflow_hub as hub\n",
    "import pandas as pd\n",
    "from sklearn.metrics import confusion_matrix,roc_curve,roc_auc_score\n",
    "from sklearn.metrics import classification_report"
   ]
  },
  {
   "cell_type": "code",
   "execution_count": 3,
   "metadata": {},
   "outputs": [
    {
     "name": "stdout",
     "output_type": "stream",
     "text": [
      "10000\n",
      "['No' 'Yes']\n"
     ]
    }
   ],
   "source": [
    "#Setting up images path\n",
    "# Linux path\n",
    "PATH = \"/home/changsmarter/Desktop/myAI_Project/10000_PHASE1/\"\n",
    "SELECTED_CLASS = \"10000_NoF_Class.csv\"\n",
    "SELECTED_LABEL = \"Is No_Finding\"\n",
    "SUB = 'temp'\n",
    "LABEL=\"NoF_fix1_\"\n",
    "data_dir = Path(PATH)\n",
    "image_num = len(list(data_dir.glob(SUB+'/*/*/*.jpg')))\n",
    "image_csv = pd.read_csv(PATH+SELECTED_CLASS)\n",
    "CLASS_NAME = image_csv[SELECTED_LABEL].unique()\n",
    "# Check number of TRUE file and all file count        \n",
    "print(image_num)\n",
    "print(CLASS_NAME)"
   ]
  },
  {
   "cell_type": "code",
   "execution_count": 4,
   "metadata": {},
   "outputs": [
    {
     "name": "stdout",
     "output_type": "stream",
     "text": [
      "Found 8001 images belonging to 2 classes.\n",
      "Found 1000 images belonging to 2 classes.\n",
      "Found 1000 images belonging to 2 classes.\n"
     ]
    }
   ],
   "source": [
    "##loading image from given path\n",
    "my_generator = tf.keras.preprocessing.image.ImageDataGenerator(rescale=1./255)\n",
    "BATCH_SIZE = 32\n",
    "IMG_WIDTH = 224\n",
    "IMG_HEIGHT = 224\n",
    "TRAIN_PATH = PATH + SUB + \"/train/\"\n",
    "VALID_PATH = PATH + SUB + \"/valid/\"\n",
    "TEST_PATH = PATH + SUB + \"/test/\"\n",
    "#This will be my train_set . \n",
    "data_gen_train = my_generator.flow_from_directory(directory=TRAIN_PATH,\n",
    "                                                  batch_size=BATCH_SIZE,\n",
    "                                                  shuffle=True,\n",
    "                                                  target_size=(IMG_HEIGHT,IMG_WIDTH),\n",
    "                                                  color_mode='rgb')\n",
    "#This will be my valid_set . \n",
    "data_gen_valid = my_generator.flow_from_directory(directory=VALID_PATH,\n",
    "                                                 batch_size=BATCH_SIZE,\n",
    "                                                 shuffle=True,\n",
    "                                                 target_size=(IMG_HEIGHT,IMG_WIDTH),\n",
    "                                                 color_mode='rgb')\n",
    "#This will be my test_set . \n",
    "data_gen_test = my_generator.flow_from_directory(directory=TEST_PATH,\n",
    "                                                 batch_size=BATCH_SIZE,\n",
    "                                                 shuffle=True,\n",
    "                                                 target_size=(IMG_HEIGHT,IMG_WIDTH),\n",
    "                                                 color_mode='rgb')\n",
    "x_train,y_train = next(data_gen_train)\n",
    "x_valid,y_valid = next(data_gen_valid)\n",
    "x_test,y_test = next(data_gen_test)"
   ]
  },
  {
   "cell_type": "code",
   "execution_count": 5,
   "metadata": {},
   "outputs": [],
   "source": [
    "#Load pre-trained InceptionV3 MODEL\n",
    "myInception = hub.KerasLayer(\"https://tfhub.dev/google/imagenet/inception_v3/classification/4\"\n",
    "                             ,trainable = False,\n",
    "                            input_shape = (224,224,3))\n",
    "\n",
    "myModel = tf.keras.Sequential([\n",
    "    myInception,\n",
    "    layers.BatchNormalization(),\n",
    "    layers.Dropout(0.5),\n",
    "    layers.Dense(1024,activation='relu'),\n",
    "    layers.Dense(2,activation='softmax')\n",
    "])\n",
    "#myModel.build([None,224,224,3])"
   ]
  },
  {
   "cell_type": "code",
   "execution_count": 6,
   "metadata": {},
   "outputs": [],
   "source": [
    "#myModel.summary()"
   ]
  },
  {
   "cell_type": "code",
   "execution_count": 7,
   "metadata": {},
   "outputs": [],
   "source": [
    "## Setting up callback function for detecting training status\n",
    "myEarly = EarlyStopping(monitor='val_loss',patience=5,verbose=1)\n",
    "myCheckpoint = ModelCheckpoint('Model2/'+LABEL+'IncpV3.hdf5',\n",
    "                               monitor='val_loss',\n",
    "                              save_best_only=True)\n",
    "#Callback function when my model hit my max ACC\n",
    "class mystopclass(Callback):\n",
    "    def on_epoch_end(self,epoch,log={}):\n",
    "        if(log.get('accuracy') > 0.999 or log.get('loss') < 0.001):\n",
    "            print(\"\\n\\nReached my Destination. Stoppped Training!!\\n\\n\")\n",
    "            self.model.stop_training = True\n",
    "myStop = mystopclass()"
   ]
  },
  {
   "cell_type": "code",
   "execution_count": 8,
   "metadata": {},
   "outputs": [],
   "source": [
    "myModel.compile(loss='binary_crossentropy',\n",
    "                    optimizer=optimizers.SGD(lr=1e-4)\n",
    "                ,metrics=['accuracy'])"
   ]
  },
  {
   "cell_type": "code",
   "execution_count": 9,
   "metadata": {},
   "outputs": [],
   "source": [
    "TRAIN_IMG = 8000\n",
    "TEST_IMG = 1000\n",
    "VALID_IMG = 1000"
   ]
  },
  {
   "cell_type": "code",
   "execution_count": 10,
   "metadata": {},
   "outputs": [
    {
     "name": "stdout",
     "output_type": "stream",
     "text": [
      "Train for 250.0 steps, validate for 32.0 steps\n",
      "Epoch 1/50\n",
      "250/250 [==============================] - 66s 264ms/step - loss: 0.6787 - accuracy: 0.6793 - val_loss: 0.4718 - val_accuracy: 0.8160\n",
      "Epoch 2/50\n",
      "250/250 [==============================] - 22s 90ms/step - loss: 0.5472 - accuracy: 0.7931 - val_loss: 0.4589 - val_accuracy: 0.8300\n",
      "Epoch 3/50\n",
      "250/250 [==============================] - 22s 89ms/step - loss: 0.5332 - accuracy: 0.8041 - val_loss: 0.4520 - val_accuracy: 0.8320\n",
      "Epoch 4/50\n",
      "250/250 [==============================] - 22s 88ms/step - loss: 0.5255 - accuracy: 0.8094 - val_loss: 0.4479 - val_accuracy: 0.8310\n",
      "Epoch 5/50\n",
      "250/250 [==============================] - 22s 88ms/step - loss: 0.5181 - accuracy: 0.8118 - val_loss: 0.4445 - val_accuracy: 0.8310\n",
      "Epoch 6/50\n",
      "250/250 [==============================] - 22s 89ms/step - loss: 0.5091 - accuracy: 0.8108 - val_loss: 0.4428 - val_accuracy: 0.8280\n",
      "Epoch 7/50\n",
      "250/250 [==============================] - 22s 88ms/step - loss: 0.5070 - accuracy: 0.8150 - val_loss: 0.4409 - val_accuracy: 0.8310\n",
      "Epoch 8/50\n",
      "250/250 [==============================] - 22s 88ms/step - loss: 0.5136 - accuracy: 0.8083 - val_loss: 0.4397 - val_accuracy: 0.8290\n",
      "Epoch 9/50\n",
      "250/250 [==============================] - 22s 89ms/step - loss: 0.4964 - accuracy: 0.8125 - val_loss: 0.4370 - val_accuracy: 0.8330\n",
      "Epoch 10/50\n",
      "250/250 [==============================] - 22s 89ms/step - loss: 0.4940 - accuracy: 0.8124 - val_loss: 0.4353 - val_accuracy: 0.8310\n",
      "Epoch 11/50\n",
      "250/250 [==============================] - 22s 89ms/step - loss: 0.4949 - accuracy: 0.8159 - val_loss: 0.4337 - val_accuracy: 0.8290\n",
      "Epoch 12/50\n",
      "250/250 [==============================] - 22s 89ms/step - loss: 0.4944 - accuracy: 0.8164 - val_loss: 0.4331 - val_accuracy: 0.8270\n",
      "Epoch 13/50\n",
      "250/250 [==============================] - 22s 89ms/step - loss: 0.4920 - accuracy: 0.8138 - val_loss: 0.4329 - val_accuracy: 0.8270\n",
      "Epoch 14/50\n",
      "250/250 [==============================] - 22s 88ms/step - loss: 0.4876 - accuracy: 0.8133 - val_loss: 0.4314 - val_accuracy: 0.8250\n",
      "Epoch 15/50\n",
      "250/250 [==============================] - 22s 89ms/step - loss: 0.4769 - accuracy: 0.8196 - val_loss: 0.4296 - val_accuracy: 0.8270\n",
      "Epoch 16/50\n",
      "250/250 [==============================] - 22s 89ms/step - loss: 0.4827 - accuracy: 0.8202 - val_loss: 0.4286 - val_accuracy: 0.8250\n",
      "Epoch 17/50\n",
      "250/250 [==============================] - 22s 88ms/step - loss: 0.4864 - accuracy: 0.8187 - val_loss: 0.4263 - val_accuracy: 0.8250\n",
      "Epoch 18/50\n",
      "250/250 [==============================] - 22s 89ms/step - loss: 0.4815 - accuracy: 0.8157 - val_loss: 0.4257 - val_accuracy: 0.8260\n",
      "Epoch 19/50\n",
      "250/250 [==============================] - 22s 88ms/step - loss: 0.4790 - accuracy: 0.8216 - val_loss: 0.4264 - val_accuracy: 0.8230\n",
      "Epoch 20/50\n",
      "250/250 [==============================] - 22s 88ms/step - loss: 0.4824 - accuracy: 0.8164 - val_loss: 0.4239 - val_accuracy: 0.8250\n",
      "Epoch 21/50\n",
      "250/250 [==============================] - 22s 87ms/step - loss: 0.4699 - accuracy: 0.8229 - val_loss: 0.4247 - val_accuracy: 0.8220\n",
      "Epoch 22/50\n",
      "250/250 [==============================] - 22s 89ms/step - loss: 0.4803 - accuracy: 0.8221 - val_loss: 0.4233 - val_accuracy: 0.8240\n",
      "Epoch 23/50\n",
      "250/250 [==============================] - 22s 89ms/step - loss: 0.4720 - accuracy: 0.8174 - val_loss: 0.4213 - val_accuracy: 0.8240\n",
      "Epoch 24/50\n",
      "250/250 [==============================] - 22s 87ms/step - loss: 0.4675 - accuracy: 0.8207 - val_loss: 0.4215 - val_accuracy: 0.8240\n",
      "Epoch 25/50\n",
      "250/250 [==============================] - 22s 89ms/step - loss: 0.4679 - accuracy: 0.8237 - val_loss: 0.4202 - val_accuracy: 0.8250\n",
      "Epoch 26/50\n",
      "250/250 [==============================] - 22s 88ms/step - loss: 0.4672 - accuracy: 0.8226 - val_loss: 0.4221 - val_accuracy: 0.8200\n",
      "Epoch 27/50\n",
      "250/250 [==============================] - 22s 88ms/step - loss: 0.4773 - accuracy: 0.8174 - val_loss: 0.4193 - val_accuracy: 0.8240\n",
      "Epoch 28/50\n",
      "250/250 [==============================] - 22s 88ms/step - loss: 0.4662 - accuracy: 0.8198 - val_loss: 0.4198 - val_accuracy: 0.8210\n",
      "Epoch 29/50\n",
      "250/250 [==============================] - 22s 88ms/step - loss: 0.4582 - accuracy: 0.8260 - val_loss: 0.4201 - val_accuracy: 0.8210\n",
      "Epoch 30/50\n",
      "250/250 [==============================] - 23s 91ms/step - loss: 0.4615 - accuracy: 0.8226 - val_loss: 0.4193 - val_accuracy: 0.8200\n",
      "Epoch 31/50\n",
      "250/250 [==============================] - 22s 89ms/step - loss: 0.4570 - accuracy: 0.8237 - val_loss: 0.4175 - val_accuracy: 0.8230\n",
      "Epoch 32/50\n",
      "250/250 [==============================] - 22s 88ms/step - loss: 0.4573 - accuracy: 0.8267 - val_loss: 0.4194 - val_accuracy: 0.8230\n",
      "Epoch 33/50\n",
      "250/250 [==============================] - 22s 87ms/step - loss: 0.4605 - accuracy: 0.8229 - val_loss: 0.4190 - val_accuracy: 0.8230\n",
      "Epoch 34/50\n",
      "250/250 [==============================] - 23s 91ms/step - loss: 0.4575 - accuracy: 0.8209 - val_loss: 0.4168 - val_accuracy: 0.8250\n",
      "Epoch 35/50\n",
      "250/250 [==============================] - 22s 90ms/step - loss: 0.4577 - accuracy: 0.8241 - val_loss: 0.4172 - val_accuracy: 0.8250\n",
      "Epoch 36/50\n",
      "250/250 [==============================] - 22s 90ms/step - loss: 0.4604 - accuracy: 0.8223 - val_loss: 0.4168 - val_accuracy: 0.8250\n",
      "Epoch 37/50\n",
      "250/250 [==============================] - 22s 90ms/step - loss: 0.4480 - accuracy: 0.8260 - val_loss: 0.4166 - val_accuracy: 0.8240\n",
      "Epoch 38/50\n",
      "250/250 [==============================] - 23s 91ms/step - loss: 0.4561 - accuracy: 0.8253 - val_loss: 0.4163 - val_accuracy: 0.8240\n",
      "Epoch 39/50\n",
      "250/250 [==============================] - 22s 89ms/step - loss: 0.4501 - accuracy: 0.8268 - val_loss: 0.4170 - val_accuracy: 0.8240\n",
      "Epoch 40/50\n",
      "250/250 [==============================] - 23s 90ms/step - loss: 0.4474 - accuracy: 0.8252 - val_loss: 0.4150 - val_accuracy: 0.8260\n",
      "Epoch 41/50\n",
      "250/250 [==============================] - 22s 89ms/step - loss: 0.4556 - accuracy: 0.8263 - val_loss: 0.4154 - val_accuracy: 0.8250\n",
      "Epoch 42/50\n",
      "250/250 [==============================] - 22s 89ms/step - loss: 0.4488 - accuracy: 0.8307 - val_loss: 0.4152 - val_accuracy: 0.8260\n",
      "Epoch 43/50\n",
      "250/250 [==============================] - 22s 89ms/step - loss: 0.4478 - accuracy: 0.8282 - val_loss: 0.4157 - val_accuracy: 0.8240\n",
      "Epoch 44/50\n",
      "250/250 [==============================] - 22s 90ms/step - loss: 0.4457 - accuracy: 0.8272 - val_loss: 0.4149 - val_accuracy: 0.8260\n",
      "Epoch 45/50\n",
      "250/250 [==============================] - 22s 89ms/step - loss: 0.4448 - accuracy: 0.8303 - val_loss: 0.4150 - val_accuracy: 0.8240\n",
      "Epoch 46/50\n",
      "250/250 [==============================] - 22s 88ms/step - loss: 0.4477 - accuracy: 0.8285 - val_loss: 0.4160 - val_accuracy: 0.8280\n",
      "Epoch 47/50\n",
      "250/250 [==============================] - 22s 89ms/step - loss: 0.4462 - accuracy: 0.8313 - val_loss: 0.4159 - val_accuracy: 0.8240\n",
      "Epoch 48/50\n",
      "250/250 [==============================] - 22s 89ms/step - loss: 0.4510 - accuracy: 0.8222 - val_loss: 0.4150 - val_accuracy: 0.8260\n",
      "Epoch 49/50\n",
      "250/250 [==============================] - 22s 89ms/step - loss: 0.4488 - accuracy: 0.8265 - val_loss: 0.4167 - val_accuracy: 0.8260\n",
      "Epoch 50/50\n",
      "250/250 [==============================] - 22s 88ms/step - loss: 0.4457 - accuracy: 0.8256 - val_loss: 0.4157 - val_accuracy: 0.8270\n",
      "====FOLD 1 ====\n",
      "Train for 250.0 steps, validate for 32.0 steps\n",
      "Epoch 1/10\n",
      "250/250 [==============================] - 22s 90ms/step - loss: 0.4360 - accuracy: 0.8311 - val_loss: 0.4145 - val_accuracy: 0.8240\n",
      "Epoch 2/10\n",
      "250/250 [==============================] - 22s 89ms/step - loss: 0.4389 - accuracy: 0.8295 - val_loss: 0.4146 - val_accuracy: 0.8270\n",
      "Epoch 3/10\n",
      "250/250 [==============================] - 22s 89ms/step - loss: 0.4494 - accuracy: 0.8275 - val_loss: 0.4133 - val_accuracy: 0.8280\n",
      "Epoch 4/10\n",
      "250/250 [==============================] - 22s 90ms/step - loss: 0.4464 - accuracy: 0.8239 - val_loss: 0.4130 - val_accuracy: 0.8280\n",
      "Epoch 5/10\n",
      "250/250 [==============================] - 22s 88ms/step - loss: 0.4414 - accuracy: 0.8303 - val_loss: 0.4141 - val_accuracy: 0.8290\n",
      "Epoch 6/10\n",
      "250/250 [==============================] - 22s 89ms/step - loss: 0.4409 - accuracy: 0.8253 - val_loss: 0.4142 - val_accuracy: 0.8290\n",
      "Epoch 7/10\n",
      "250/250 [==============================] - 22s 90ms/step - loss: 0.4328 - accuracy: 0.8322 - val_loss: 0.4127 - val_accuracy: 0.8270\n",
      "Epoch 8/10\n",
      "250/250 [==============================] - 22s 89ms/step - loss: 0.4479 - accuracy: 0.8275 - val_loss: 0.4136 - val_accuracy: 0.8270\n",
      "Epoch 9/10\n",
      "250/250 [==============================] - 22s 89ms/step - loss: 0.4351 - accuracy: 0.8296 - val_loss: 0.4144 - val_accuracy: 0.8260\n",
      "Epoch 10/10\n",
      "250/250 [==============================] - 22s 88ms/step - loss: 0.4386 - accuracy: 0.8290 - val_loss: 0.4143 - val_accuracy: 0.8290\n",
      "====FOLD 2 ====\n",
      "Train for 250.0 steps, validate for 32.0 steps\n",
      "Epoch 1/10\n",
      "250/250 [==============================] - 22s 89ms/step - loss: 0.4321 - accuracy: 0.8307 - val_loss: 0.4148 - val_accuracy: 0.8290\n",
      "Epoch 2/10\n",
      "250/250 [==============================] - 22s 89ms/step - loss: 0.4415 - accuracy: 0.8268 - val_loss: 0.4135 - val_accuracy: 0.8290\n",
      "Epoch 3/10\n",
      "250/250 [==============================] - 22s 89ms/step - loss: 0.4409 - accuracy: 0.8258 - val_loss: 0.4146 - val_accuracy: 0.8280\n",
      "Epoch 4/10\n",
      "250/250 [==============================] - 22s 89ms/step - loss: 0.4373 - accuracy: 0.8278 - val_loss: 0.4147 - val_accuracy: 0.8280\n",
      "Epoch 5/10\n",
      "250/250 [==============================] - 22s 89ms/step - loss: 0.4372 - accuracy: 0.8270 - val_loss: 0.4148 - val_accuracy: 0.8270\n",
      "Epoch 6/10\n",
      "250/250 [==============================] - 22s 89ms/step - loss: 0.4331 - accuracy: 0.8308 - val_loss: 0.4136 - val_accuracy: 0.8280\n",
      "Epoch 7/10\n",
      "250/250 [==============================] - 22s 89ms/step - loss: 0.4332 - accuracy: 0.8315 - val_loss: 0.4140 - val_accuracy: 0.8290\n",
      "Epoch 00007: early stopping\n",
      "====FOLD 3 ====\n",
      "Train for 250.0 steps, validate for 32.0 steps\n",
      "Epoch 1/10\n",
      "250/250 [==============================] - 22s 89ms/step - loss: 0.4268 - accuracy: 0.8320 - val_loss: 0.4148 - val_accuracy: 0.8300\n",
      "Epoch 2/10\n",
      "250/250 [==============================] - 22s 89ms/step - loss: 0.4331 - accuracy: 0.8349 - val_loss: 0.4164 - val_accuracy: 0.8280\n",
      "Epoch 3/10\n",
      "250/250 [==============================] - 22s 88ms/step - loss: 0.4309 - accuracy: 0.8321 - val_loss: 0.4132 - val_accuracy: 0.8300\n",
      "Epoch 4/10\n",
      "250/250 [==============================] - 22s 89ms/step - loss: 0.4281 - accuracy: 0.8325 - val_loss: 0.4134 - val_accuracy: 0.8290\n",
      "Epoch 5/10\n",
      "250/250 [==============================] - 22s 89ms/step - loss: 0.4338 - accuracy: 0.8337 - val_loss: 0.4150 - val_accuracy: 0.8300\n",
      "Epoch 6/10\n",
      "250/250 [==============================] - 22s 89ms/step - loss: 0.4302 - accuracy: 0.8293 - val_loss: 0.4138 - val_accuracy: 0.8290\n",
      "Epoch 7/10\n",
      "250/250 [==============================] - 22s 88ms/step - loss: 0.4330 - accuracy: 0.8331 - val_loss: 0.4136 - val_accuracy: 0.8300\n",
      "Epoch 8/10\n",
      "250/250 [==============================] - 22s 89ms/step - loss: 0.4276 - accuracy: 0.8329 - val_loss: 0.4146 - val_accuracy: 0.8280\n",
      "Epoch 00008: early stopping\n",
      "====FOLD 4 ====\n",
      "Train for 250.0 steps, validate for 32.0 steps\n",
      "Epoch 1/10\n",
      "250/250 [==============================] - 22s 88ms/step - loss: 0.4287 - accuracy: 0.8336 - val_loss: 0.4145 - val_accuracy: 0.8300\n",
      "Epoch 2/10\n",
      "250/250 [==============================] - 22s 88ms/step - loss: 0.4309 - accuracy: 0.8297 - val_loss: 0.4141 - val_accuracy: 0.8290\n",
      "Epoch 3/10\n",
      "250/250 [==============================] - 22s 89ms/step - loss: 0.4297 - accuracy: 0.8334 - val_loss: 0.4155 - val_accuracy: 0.8290\n",
      "Epoch 4/10\n",
      "250/250 [==============================] - 21s 85ms/step - loss: 0.4265 - accuracy: 0.8327 - val_loss: 0.4140 - val_accuracy: 0.8290\n",
      "Epoch 5/10\n",
      "250/250 [==============================] - 22s 86ms/step - loss: 0.4282 - accuracy: 0.8334 - val_loss: 0.4126 - val_accuracy: 0.8290\n",
      "Epoch 6/10\n",
      "250/250 [==============================] - 22s 89ms/step - loss: 0.4286 - accuracy: 0.8325 - val_loss: 0.4131 - val_accuracy: 0.8300\n",
      "Epoch 7/10\n",
      "250/250 [==============================] - 23s 90ms/step - loss: 0.4191 - accuracy: 0.8346 - val_loss: 0.4125 - val_accuracy: 0.8300\n",
      "Epoch 8/10\n",
      "250/250 [==============================] - 22s 89ms/step - loss: 0.4251 - accuracy: 0.8341 - val_loss: 0.4130 - val_accuracy: 0.8280\n",
      "Epoch 9/10\n",
      "250/250 [==============================] - 22s 89ms/step - loss: 0.4225 - accuracy: 0.8327 - val_loss: 0.4132 - val_accuracy: 0.8280\n",
      "Epoch 10/10\n",
      "250/250 [==============================] - 22s 90ms/step - loss: 0.4246 - accuracy: 0.8329 - val_loss: 0.4126 - val_accuracy: 0.8290\n",
      "====FOLD 5 ====\n",
      "Train for 250.0 steps, validate for 32.0 steps\n",
      "Epoch 1/10\n",
      "250/250 [==============================] - 22s 90ms/step - loss: 0.4253 - accuracy: 0.8315 - val_loss: 0.4123 - val_accuracy: 0.8290\n",
      "Epoch 2/10\n",
      "250/250 [==============================] - 23s 90ms/step - loss: 0.4257 - accuracy: 0.8347 - val_loss: 0.4117 - val_accuracy: 0.8280\n",
      "Epoch 3/10\n",
      "250/250 [==============================] - 23s 91ms/step - loss: 0.4232 - accuracy: 0.8340 - val_loss: 0.4116 - val_accuracy: 0.8290\n",
      "Epoch 4/10\n",
      "250/250 [==============================] - 22s 90ms/step - loss: 0.4252 - accuracy: 0.8321 - val_loss: 0.4114 - val_accuracy: 0.8290\n",
      "Epoch 5/10\n",
      "250/250 [==============================] - 23s 91ms/step - loss: 0.4235 - accuracy: 0.8332 - val_loss: 0.4113 - val_accuracy: 0.8300\n",
      "Epoch 6/10\n",
      "250/250 [==============================] - 22s 89ms/step - loss: 0.4242 - accuracy: 0.8310 - val_loss: 0.4121 - val_accuracy: 0.8290\n",
      "Epoch 7/10\n",
      "250/250 [==============================] - 22s 89ms/step - loss: 0.4246 - accuracy: 0.8322 - val_loss: 0.4115 - val_accuracy: 0.8300\n",
      "Epoch 8/10\n",
      "250/250 [==============================] - 22s 89ms/step - loss: 0.4291 - accuracy: 0.8306 - val_loss: 0.4121 - val_accuracy: 0.8290\n",
      "Epoch 9/10\n",
      "250/250 [==============================] - 22s 89ms/step - loss: 0.4197 - accuracy: 0.8340 - val_loss: 0.4127 - val_accuracy: 0.8300\n",
      "Epoch 10/10\n",
      "250/250 [==============================] - 22s 89ms/step - loss: 0.4192 - accuracy: 0.8320 - val_loss: 0.4118 - val_accuracy: 0.8300\n",
      "Epoch 00010: early stopping\n"
     ]
    }
   ],
   "source": [
    "#Training myModel\n",
    "tf.compat.v1.logging.set_verbosity(tf.compat.v1.logging.ERROR)\n",
    "STEP_PER_EPOCH = np.ceil(TRAIN_IMG/BATCH_SIZE)\n",
    "VALID_STEP = np.ceil(VALID_IMG/BATCH_SIZE)\n",
    "mySession = myModel.fit_generator(data_gen_train,\n",
    "                               validation_data=data_gen_valid,\n",
    "                               epochs = 50,\n",
    "                               steps_per_epoch=STEP_PER_EPOCH,\n",
    "                               validation_steps = VALID_STEP,\n",
    "                               verbose = 1,\n",
    "                               callbacks=[myCheckpoint,myStop])\n",
    "tpr = dict()\n",
    "fpr = dict()\n",
    "auc = dict()\n",
    "for i in range(0,5):\n",
    "    print('====FOLD',i+1,'====')\n",
    "    myModel.fit_generator(data_gen_train,\n",
    "                               validation_data=data_gen_valid,\n",
    "                               epochs = 10,\n",
    "                               steps_per_epoch=STEP_PER_EPOCH,\n",
    "                               validation_steps = VALID_STEP,\n",
    "                               verbose = 1,\n",
    "                               callbacks=[myEarly,myCheckpoint,myStop])\n",
    "    \n",
    "    y_pred = myModel.predict_generator(data_gen_test)\n",
    "    pred = np.argmax(y_pred,axis=1)\n",
    "    auc[i] = roc_auc_score(data_gen_test.classes,pred)\n",
    "    tpr[i],fpr[i],_ = roc_curve(data_gen_test.classes,pred)\n",
    "    \n",
    "myModel.save('Model2/'+LABEL+'Incep3_done.h5')"
   ]
  },
  {
   "cell_type": "code",
   "execution_count": 11,
   "metadata": {},
   "outputs": [
    {
     "data": {
      "image/png": "[encoded data removed]",
      "text/plain": [
       "<Figure size 360x360 with 1 Axes>"
      ]
     },
     "metadata": {
      "needs_background": "light"
     },
     "output_type": "display_data"
    },
    {
     "data": {
      "image/png": "[encoded data removed]",
      "text/plain": [
       "<Figure size 360x360 with 1 Axes>"
      ]
     },
     "metadata": {
      "needs_background": "light"
     },
     "output_type": "display_data"
    }
   ],
   "source": [
    "plt.figure(figsize=(5,5))\n",
    "plt.plot(mySession.history['accuracy'])\n",
    "plt.plot(mySession.history['val_accuracy'])\n",
    "plt.title('Accuracy')\n",
    "plt.ylabel('Value')\n",
    "plt.xlabel('Iterations')\n",
    "plt.legend(['Train','Valid'])\n",
    "plt.savefig('Run_Result2/'+LABEL+\"InceptV3_Acc.png\")\n",
    "plt.show()\n",
    "plt.figure(figsize=(5,5))\n",
    "plt.plot(mySession.history['loss'])\n",
    "plt.plot(mySession.history['val_loss'])\n",
    "plt.title('Loss')\n",
    "plt.ylabel('Value')\n",
    "plt.xlabel('Iterations')\n",
    "plt.legend(['Train','Valid'])\n",
    "plt.savefig('Run_Result2/'+LABEL+\"InceptV3_Loss.png\")\n",
    "plt.show()"
   ]
  },
  {
   "cell_type": "code",
   "execution_count": 12,
   "metadata": {},
   "outputs": [
    {
     "data": {
      "image/png": "[encoded data removed]",
      "text/plain": [
       "<Figure size 432x288 with 1 Axes>"
      ]
     },
     "metadata": {
      "needs_background": "light"
     },
     "output_type": "display_data"
    }
   ],
   "source": [
    "plt.plot(fpr[0],tpr[0],label='Fold 1 ROC (Area =%0.2f)' %auc[0])\n",
    "plt.plot(fpr[1],tpr[1],label='Fold 2 ROC (Area =%0.2f)' %auc[1])\n",
    "plt.plot(fpr[2],tpr[2],label='Fold 3 ROC (Area =%0.2f)' %auc[2])\n",
    "plt.plot(fpr[3],tpr[3],label='Fold 1 ROC (Area =%0.2f)' %auc[3])\n",
    "plt.plot(fpr[4],tpr[4],label='Fold 1 ROC (Area =%0.2f)' %auc[4])\n",
    "plt.plot([0,1],[0,1],linestyle='--')\n",
    "plt.xlabel('False Positive Rate')\n",
    "plt.ylabel('True Positive Rate')\n",
    "plt.title('ROC curve '+LABEL)\n",
    "plt.legend(loc='lower right')\n",
    "plt.savefig('Run_Result2/'+LABEL+\"InceptV3_5ROC.png\")\n",
    "plt.show()"
   ]
  },
  {
   "cell_type": "code",
   "execution_count": 13,
   "metadata": {},
   "outputs": [
    {
     "name": "stdout",
     "output_type": "stream",
     "text": [
      "             precision    recall  f1-score   support\n",
      "\n",
      "          0       0.85      0.95      0.90       844\n",
      "          1       0.19      0.06      0.10       156\n",
      "\n",
      "avg / total       0.74      0.81      0.77      1000\n",
      "\n"
     ]
    }
   ],
   "source": [
    "y_pred = myModel.predict_generator(data_gen_test)\n",
    "pred = np.argmax(y_pred,axis=1)\n",
    "print(classification_report(data_gen_test.classes,pred))"
   ]
  },
  {
   "cell_type": "code",
   "execution_count": null,
   "metadata": {},
   "outputs": [],
   "source": []
  }
 ],
 "metadata": {
  "kernelspec": {
   "display_name": "Python 3",
   "language": "python",
   "name": "python3"
  },
  "language_info": {
   "codemirror_mode": {
    "name": "ipython",
    "version": 3
   },
   "file_extension": ".py",
   "mimetype": "text/x-python",
   "name": "python",
   "nbconvert_exporter": "python",
   "pygments_lexer": "ipython3",
   "version": "3.5.3"
  }
 },
 "nbformat": 4,
 "nbformat_minor": 4
}
