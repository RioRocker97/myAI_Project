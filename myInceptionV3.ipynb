{
 "cells": [
  {
   "cell_type": "code",
   "execution_count": 1,
   "metadata": {},
   "outputs": [],
   "source": [
    "import tensorflow as tf\n",
    "from tensorflow.keras import Model,layers\n",
    "from tensorflow.keras.callbacks import EarlyStopping,ModelCheckpoint,Callback\n",
    "from tensorflow.keras import metrics,optimizers\n",
    "import numpy as np\n",
    "from PIL import Image\n",
    "from pathlib import Path\n",
    "import os\n",
    "import pandas as pd\n",
    "import matplotlib.pyplot as plt"
   ]
  },
  {
   "cell_type": "code",
   "execution_count": 15,
   "metadata": {},
   "outputs": [
    {
     "name": "stdout",
     "output_type": "stream",
     "text": [
      "Is No_Finding = TRUE >> 1562\n",
      "10000\n",
      "['No' 'Yes']\n"
     ]
    }
   ],
   "source": [
    "#Setting up images path\n",
    "# Linux path\n",
    "PATH = \"/home/changsmarter/Desktop/myAI_Project/7classes_data/\"\n",
    "SELECTED_CLASS = \"10000_NoF_Class.csv\"\n",
    "SELECTED_LABEL = \"Is No_Finding\"\n",
    "data_dir = Path(PATH)\n",
    "image_num = len(list(data_dir.glob('*/*.jpg')))\n",
    "image_csv = pd.read_csv(PATH+SELECTED_CLASS)\n",
    "CLASS_NAME = image_csv[SELECTED_LABEL].unique()\n",
    "num =0\n",
    "for i in range(0,10000):\n",
    "    if image_csv[SELECTED_LABEL][i] == 'Yes':\n",
    "        num+=1\n",
    "# Check number of TRUE file and all file count        \n",
    "print(SELECTED_LABEL,\"= TRUE >>\",num)\n",
    "print(image_num)\n",
    "print(CLASS_NAME)"
   ]
  },
  {
   "cell_type": "code",
   "execution_count": 23,
   "metadata": {},
   "outputs": [
    {
     "name": "stdout",
     "output_type": "stream",
     "text": [
      "Found 0 images belonging to 2 classes.\n",
      "Found 0 images belonging to 2 classes.\n",
      "Found 0 images belonging to 2 classes.\n"
     ]
    }
   ],
   "source": [
    "##loading image from given path\n",
    "my_generator = tf.keras.preprocessing.image.ImageDataGenerator()\n",
    "BATCH_SIZE = 32\n",
    "IMG_WIDTH = 224\n",
    "IMG_HEIGHT = 224\n",
    "TRAIN_PATH = PATH + \"/train/\"\n",
    "VALID_PATH = PATH + \"/valid/\"\n",
    "TEST_PATH = PATH + \"/test/\"\n",
    "#This will be my train_set . \n",
    "data_gen_train = my_generator.flow_from_directory(directory=TRAIN_PATH,\n",
    "                                                  batch_size=BATCH_SIZE,\n",
    "                                                  shuffle=True,\n",
    "                                                  target_size=(IMG_HEIGHT,IMG_WIDTH),\n",
    "                                                  classes = list(CLASS_NAME))\n",
    "#This will be my valid_set . \n",
    "data_gen_valid = my_generator.flow_from_directory(directory=VALID_PATH,\n",
    "                                                 batch_size=BATCH_SIZE,\n",
    "                                                 shuffle=True,\n",
    "                                                 target_size=(IMG_HEIGHT,IMG_WIDTH),\n",
    "                                                 classes = list(CLASS_NAME))\n",
    "#This will be my test_set . \n",
    "data_gen_test = my_generator.flow_from_directory(directory=TEST_PATH,\n",
    "                                                 batch_size=BATCH_SIZE,\n",
    "                                                 shuffle=True,\n",
    "                                                 target_size=(IMG_HEIGHT,IMG_WIDTH),\n",
    "                                                 classes = list(CLASS_NAME))\n"
   ]
  },
  {
   "cell_type": "code",
   "execution_count": null,
   "metadata": {},
   "outputs": [],
   "source": []
  }
 ],
 "metadata": {
  "kernelspec": {
   "display_name": "Python 3",
   "language": "python",
   "name": "python3"
  },
  "language_info": {
   "codemirror_mode": {
    "name": "ipython",
    "version": 3
   },
   "file_extension": ".py",
   "mimetype": "text/x-python",
   "name": "python",
   "nbconvert_exporter": "python",
   "pygments_lexer": "ipython3",
   "version": "3.5.3"
  }
 },
 "nbformat": 4,
 "nbformat_minor": 4
}
